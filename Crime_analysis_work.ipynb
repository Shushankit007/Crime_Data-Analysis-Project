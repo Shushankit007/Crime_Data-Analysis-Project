{
 "cells": [
  {
   "cell_type": "markdown",
   "metadata": {},
   "source": [
    "# **Mini Capstone Project: Crime Data Analysis with MySQL and Python**"
   ]
  },
  {
   "cell_type": "markdown",
   "metadata": {},
   "source": [
    "### **Introduction:**\n",
    "\n",
    "In this capstone project, we will use Python, specifically the PyMySQL library, to interact with a MySQL database in order to analyze and gain insights from crime data. The dataset includes information such as DR NO, Date Reported, Date Occurred, Area Name, Crime Code, Crime Code Description, Victim Age, Victim Sex, Premises Description, Status, Location, Latitude, and Longitude."
   ]
  },
  {
   "cell_type": "markdown",
   "metadata": {},
   "source": [
    "### **Objectives:**"
   ]
  },
  {
   "cell_type": "markdown",
   "metadata": {},
   "source": [
    "### **1. Database Setup and Import :**\n",
    "\n",
    "   - Create a MySQL database.\n",
    "\n",
    " - Load the provided crime dataset into the MySQL database."
   ]
  },
  {
   "cell_type": "markdown",
   "metadata": {},
   "source": [
    "### **2. Database Connection :**\n",
    "\n",
    "   - Use PyMySQL to establish a connection to the database in Pycharm or VS code.\n",
    "\n",
    "   - Verify the successful import of data in pycharm."
   ]
  },
  {
   "cell_type": "code",
   "execution_count": 2,
   "metadata": {},
   "outputs": [],
   "source": [
    "# pip install mysql-connector-python\n",
    "#----\n",
    "# pip install pymysql "
   ]
  },
  {
   "cell_type": "code",
   "execution_count": 55,
   "metadata": {},
   "outputs": [],
   "source": [
    "import pymysql\n",
    "import pandas as pd\n",
    "from matplotlib import pyplot as plt # import matplotlib.pyplot as plt\n",
    "import matplotlib.colors as mcolors\n",
    "import seaborn as sns                \n",
    "from plotly import express as px        # import plotly.express as px"
   ]
  },
  {
   "cell_type": "code",
   "execution_count": 4,
   "metadata": {},
   "outputs": [],
   "source": [
    "connection = pymysql.connect(host=\"localhost\", user=\"root\", password=\"MY#1pass\", database=\"capstone\", port = 3306)"
   ]
  },
  {
   "cell_type": "code",
   "execution_count": 52,
   "metadata": {},
   "outputs": [
    {
     "name": "stderr",
     "output_type": "stream",
     "text": [
      "C:\\Users\\ASUS\\AppData\\Local\\Temp\\ipykernel_5932\\3683789348.py:1: UserWarning:\n",
      "\n",
      "pandas only supports SQLAlchemy connectable (engine/connection) or database string URI or sqlite3 DBAPI2 connection. Other DBAPI2 objects are not tested. Please consider using SQLAlchemy.\n",
      "\n"
     ]
    },
    {
     "data": {
      "text/html": [
       "<div>\n",
       "<style scoped>\n",
       "    .dataframe tbody tr th:only-of-type {\n",
       "        vertical-align: middle;\n",
       "    }\n",
       "\n",
       "    .dataframe tbody tr th {\n",
       "        vertical-align: top;\n",
       "    }\n",
       "\n",
       "    .dataframe thead th {\n",
       "        text-align: right;\n",
       "    }\n",
       "</style>\n",
       "<table border=\"1\" class=\"dataframe\">\n",
       "  <thead>\n",
       "    <tr style=\"text-align: right;\">\n",
       "      <th></th>\n",
       "      <th>DR_NO</th>\n",
       "      <th>Date_Rptd</th>\n",
       "      <th>DATE_OCC</th>\n",
       "      <th>AREA_NAME</th>\n",
       "      <th>Crm_Cd</th>\n",
       "      <th>Crm_Cd_Desc</th>\n",
       "      <th>Vict_Age</th>\n",
       "      <th>Vict_Sex</th>\n",
       "      <th>Premis_Desc</th>\n",
       "      <th>Status</th>\n",
       "      <th>Location</th>\n",
       "      <th>LAT</th>\n",
       "      <th>LON</th>\n",
       "    </tr>\n",
       "  </thead>\n",
       "  <tbody>\n",
       "    <tr>\n",
       "      <th>0</th>\n",
       "      <td>10304468</td>\n",
       "      <td>01-08-2020</td>\n",
       "      <td>01-08-2020</td>\n",
       "      <td>Southwest</td>\n",
       "      <td>624</td>\n",
       "      <td>BATTERY - SIMPLE ASSAULT</td>\n",
       "      <td>36</td>\n",
       "      <td>F</td>\n",
       "      <td>SINGLE FAMILY DWELLING</td>\n",
       "      <td>AO</td>\n",
       "      <td>1100 W 39TH PL</td>\n",
       "      <td>34.01</td>\n",
       "      <td>-118.30</td>\n",
       "    </tr>\n",
       "    <tr>\n",
       "      <th>1</th>\n",
       "      <td>190101086</td>\n",
       "      <td>01-02-2020</td>\n",
       "      <td>01-01-2020</td>\n",
       "      <td>Central</td>\n",
       "      <td>624</td>\n",
       "      <td>BATTERY - SIMPLE ASSAULT</td>\n",
       "      <td>25</td>\n",
       "      <td>M</td>\n",
       "      <td>SIDEWALK</td>\n",
       "      <td>IC</td>\n",
       "      <td>700 S HILL ST</td>\n",
       "      <td>34.05</td>\n",
       "      <td>-118.25</td>\n",
       "    </tr>\n",
       "    <tr>\n",
       "      <th>2</th>\n",
       "      <td>191501505</td>\n",
       "      <td>01-01-2020</td>\n",
       "      <td>01-01-2020</td>\n",
       "      <td>N Hollywood</td>\n",
       "      <td>745</td>\n",
       "      <td>VANDALISM - MISDEAMEANOR ($399 OR UNDER)</td>\n",
       "      <td>76</td>\n",
       "      <td>F</td>\n",
       "      <td>MULTI-UNIT DWELLING (APARTMENT, DUPLEX, ETC)</td>\n",
       "      <td>IC</td>\n",
       "      <td>5400 CORTEEN PL</td>\n",
       "      <td>34.17</td>\n",
       "      <td>-118.40</td>\n",
       "    </tr>\n",
       "    <tr>\n",
       "      <th>3</th>\n",
       "      <td>191921269</td>\n",
       "      <td>01-01-2020</td>\n",
       "      <td>01-01-2020</td>\n",
       "      <td>Mission</td>\n",
       "      <td>740</td>\n",
       "      <td>VANDALISM - FELONY ($400 &amp; OVER, ALL CHURCH VA...</td>\n",
       "      <td>31</td>\n",
       "      <td>X</td>\n",
       "      <td>BEAUTY SUPPLY STORE</td>\n",
       "      <td>IC</td>\n",
       "      <td>14400 TITUS ST</td>\n",
       "      <td>34.22</td>\n",
       "      <td>-118.45</td>\n",
       "    </tr>\n",
       "    <tr>\n",
       "      <th>4</th>\n",
       "      <td>200100502</td>\n",
       "      <td>01-02-2020</td>\n",
       "      <td>01-02-2020</td>\n",
       "      <td>Central</td>\n",
       "      <td>442</td>\n",
       "      <td>SHOPLIFTING - PETTY THEFT ($950 &amp; UNDER)</td>\n",
       "      <td>23</td>\n",
       "      <td>M</td>\n",
       "      <td>DEPARTMENT STORE</td>\n",
       "      <td>IC</td>\n",
       "      <td>700 S FIGUEROA ST</td>\n",
       "      <td>34.05</td>\n",
       "      <td>-118.26</td>\n",
       "    </tr>\n",
       "  </tbody>\n",
       "</table>\n",
       "</div>"
      ],
      "text/plain": [
       "       DR_NO   Date_Rptd    DATE_OCC    AREA_NAME  Crm_Cd  \\\n",
       "0   10304468  01-08-2020  01-08-2020    Southwest     624   \n",
       "1  190101086  01-02-2020  01-01-2020      Central     624   \n",
       "2  191501505  01-01-2020  01-01-2020  N Hollywood     745   \n",
       "3  191921269  01-01-2020  01-01-2020      Mission     740   \n",
       "4  200100502  01-02-2020  01-02-2020      Central     442   \n",
       "\n",
       "                                         Crm_Cd_Desc  Vict_Age Vict_Sex  \\\n",
       "0                           BATTERY - SIMPLE ASSAULT        36        F   \n",
       "1                           BATTERY - SIMPLE ASSAULT        25        M   \n",
       "2           VANDALISM - MISDEAMEANOR ($399 OR UNDER)        76        F   \n",
       "3  VANDALISM - FELONY ($400 & OVER, ALL CHURCH VA...        31        X   \n",
       "4           SHOPLIFTING - PETTY THEFT ($950 & UNDER)        23        M   \n",
       "\n",
       "                                    Premis_Desc Status           Location  \\\n",
       "0                        SINGLE FAMILY DWELLING     AO     1100 W 39TH PL   \n",
       "1                                      SIDEWALK     IC      700 S HILL ST   \n",
       "2  MULTI-UNIT DWELLING (APARTMENT, DUPLEX, ETC)     IC    5400 CORTEEN PL   \n",
       "3                           BEAUTY SUPPLY STORE     IC     14400 TITUS ST   \n",
       "4                              DEPARTMENT STORE     IC  700 S FIGUEROA ST   \n",
       "\n",
       "     LAT     LON  \n",
       "0  34.01 -118.30  \n",
       "1  34.05 -118.25  \n",
       "2  34.17 -118.40  \n",
       "3  34.22 -118.45  \n",
       "4  34.05 -118.26  "
      ]
     },
     "execution_count": 52,
     "metadata": {},
     "output_type": "execute_result"
    }
   ],
   "source": [
    "query = \"select * from crime_data;\"\n",
    "\n",
    "crime_df = pd.read_sql(query, connection)\n",
    "crime_df.head()"
   ]
  },
  {
   "cell_type": "markdown",
   "metadata": {},
   "source": [
    "### **3. Data Exploration :** \n",
    "- Retrieve basic statistics on the dataset, such as the total number of records and unique values in specific columns.\n",
    "\n",
    "- Identify the distinct crime codes and their descriptions.\n"
   ]
  },
  {
   "cell_type": "code",
   "execution_count": 7,
   "metadata": {},
   "outputs": [
    {
     "name": "stdout",
     "output_type": "stream",
     "text": [
      "total number of records :499\n",
      "summary statistics :              DR_NO      Crm_Cd    Vict_Age         LAT         LON\n",
      "count  4.990000e+02  499.000000  499.000000  499.000000  499.000000\n",
      "mean   1.999930e+08  504.178357   32.142285   34.047335 -118.261283\n",
      "std    8.742243e+06  198.381863   20.202136    0.053840    0.041560\n",
      "min    1.030447e+07  210.000000    0.000000   33.710000 -118.560000\n",
      "25%    2.001044e+08  330.000000   23.000000   34.040000 -118.260000\n",
      "50%    2.001048e+08  442.000000   31.000000   34.050000 -118.250000\n",
      "75%    2.001064e+08  624.000000   46.500000   34.050000 -118.240000\n",
      "max    2.220130e+08  956.000000   78.000000   34.280000 -118.190000\n",
      "unique value in AREA_NAME column: ['Southwest' 'Central' 'N Hollywood' 'Mission' 'Van Nuys' 'Wilshire'\n",
      " 'Rampart' 'Harbor' 'Pacific' 'Hollenbeck' 'West LA' 'Northeast'\n",
      " 'Foothill' 'Hollywood' 'West Valley' '77th Street' 'Olympic' 'Devonshire'\n",
      " 'Southeast']\n",
      "unique value in Crm_Cd column: [624 745 740 442 946 341 330 930 648 354 230 761 350 310 480 623 440 510\n",
      " 210 900 888 420 886 421 647 940 662 220 625 755 649 901 320 890 351 956\n",
      " 820 812 920 850 666 343]\n",
      "unique value in Crm_Cd_Desc column: ['BATTERY - SIMPLE ASSAULT' 'VANDALISM - MISDEAMEANOR ($399 OR UNDER)'\n",
      " 'VANDALISM - FELONY ($400 & OVER, ALL CHURCH VANDALISMS)'\n",
      " 'SHOPLIFTING - PETTY THEFT ($950 & UNDER)' 'OTHER MISCELLANEOUS CRIME'\n",
      " 'THEFT-GRAND ($950.01 & OVER)EXCPT,GUNS,FOWL,LIVESTK,PROD'\n",
      " 'BURGLARY FROM VEHICLE' 'CRIMINAL THREATS - NO WEAPON DISPLAYED' 'ARSON'\n",
      " 'THEFT OF IDENTITY' 'ASSAULT WITH DEADLY WEAPON, AGGRAVATED ASSAULT'\n",
      " 'BRANDISH WEAPON' 'THEFT, PERSON' 'BURGLARY' 'BIKE - STOLEN'\n",
      " 'BATTERY POLICE (SIMPLE)' 'THEFT PLAIN - PETTY ($950 & UNDER)'\n",
      " 'VEHICLE - STOLEN' 'ROBBERY' 'VIOLATION OF COURT ORDER' 'TRESPASSING'\n",
      " 'THEFT FROM MOTOR VEHICLE - PETTY ($950 & UNDER)' 'DISTURBING THE PEACE'\n",
      " 'THEFT FROM MOTOR VEHICLE - ATTEMPT' 'THROWING OBJECT AT MOVING VEHICLE'\n",
      " 'EXTORTION' 'BUNCO, GRAND THEFT' 'ATTEMPTED ROBBERY' 'OTHER ASSAULT'\n",
      " 'BOMB SCARE' 'DOCUMENT FORGERY / STOLEN FELONY'\n",
      " 'VIOLATION OF RESTRAINING ORDER' 'BURGLARY, ATTEMPTED' 'FAILURE TO YIELD'\n",
      " 'PURSE SNATCHING' 'LETTERS, LEWD  -  TELEPHONE CALLS, LEWD'\n",
      " 'ORAL COPULATION'\n",
      " 'CRM AGNST CHLD (13 OR UNDER) (14-15 & SUSP 10 YRS OLDER)'\n",
      " 'KIDNAPPING - GRAND ATTEMPT' 'INDECENT EXPOSURE' 'BUNCO, ATTEMPT'\n",
      " 'SHOPLIFTING-GRAND THEFT ($950.01 & OVER)']\n"
     ]
    }
   ],
   "source": [
    "crime_df = pd.read_csv(\"crime_data.csv\")\n",
    "total_record = len(crime_df)\n",
    "# crime_df.info()\n",
    "summary = crime_df.describe()\n",
    "print(f\"total number of records :{total_record}\")\n",
    "print(f\"summary statistics :{summary}\")\n",
    "#-----------\n",
    "column = [\"AREA_NAME\",\"Crm_Cd\",\"Crm_Cd_Desc\"]\n",
    "for i in column:\n",
    "  unique_value = crime_df[i].unique()\n",
    "  print(f\"unique value in {i} column:\", unique_value )\n",
    "\n"
   ]
  },
  {
   "cell_type": "code",
   "execution_count": 8,
   "metadata": {},
   "outputs": [
    {
     "name": "stderr",
     "output_type": "stream",
     "text": [
      "C:\\Users\\ASUS\\AppData\\Local\\Temp\\ipykernel_2488\\2150717127.py:5: UserWarning: pandas only supports SQLAlchemy connectable (engine/connection) or database string URI or sqlite3 DBAPI2 connection. Other DBAPI2 objects are not tested. Please consider using SQLAlchemy.\n",
      "  distinct_Crm_Cd = pd.read_sql(query_Crm_Cd, connection)\n"
     ]
    },
    {
     "data": {
      "text/html": [
       "<div>\n",
       "<style scoped>\n",
       "    .dataframe tbody tr th:only-of-type {\n",
       "        vertical-align: middle;\n",
       "    }\n",
       "\n",
       "    .dataframe tbody tr th {\n",
       "        vertical-align: top;\n",
       "    }\n",
       "\n",
       "    .dataframe thead th {\n",
       "        text-align: right;\n",
       "    }\n",
       "</style>\n",
       "<table border=\"1\" class=\"dataframe\">\n",
       "  <thead>\n",
       "    <tr style=\"text-align: right;\">\n",
       "      <th></th>\n",
       "      <th>Crm_Cd</th>\n",
       "      <th>Crm_Cd_Desc</th>\n",
       "    </tr>\n",
       "  </thead>\n",
       "  <tbody>\n",
       "    <tr>\n",
       "      <th>0</th>\n",
       "      <td>624</td>\n",
       "      <td>BATTERY - SIMPLE ASSAULT</td>\n",
       "    </tr>\n",
       "    <tr>\n",
       "      <th>1</th>\n",
       "      <td>745</td>\n",
       "      <td>VANDALISM - MISDEAMEANOR ($399 OR UNDER)</td>\n",
       "    </tr>\n",
       "    <tr>\n",
       "      <th>2</th>\n",
       "      <td>740</td>\n",
       "      <td>VANDALISM - FELONY ($400 &amp; OVER, ALL CHURCH VA...</td>\n",
       "    </tr>\n",
       "    <tr>\n",
       "      <th>3</th>\n",
       "      <td>442</td>\n",
       "      <td>SHOPLIFTING - PETTY THEFT ($950 &amp; UNDER)</td>\n",
       "    </tr>\n",
       "    <tr>\n",
       "      <th>4</th>\n",
       "      <td>946</td>\n",
       "      <td>OTHER MISCELLANEOUS CRIME</td>\n",
       "    </tr>\n",
       "    <tr>\n",
       "      <th>5</th>\n",
       "      <td>341</td>\n",
       "      <td>THEFT-GRAND ($950.01 &amp; OVER)EXCPT,GUNS,FOWL,LI...</td>\n",
       "    </tr>\n",
       "    <tr>\n",
       "      <th>6</th>\n",
       "      <td>330</td>\n",
       "      <td>BURGLARY FROM VEHICLE</td>\n",
       "    </tr>\n",
       "    <tr>\n",
       "      <th>7</th>\n",
       "      <td>930</td>\n",
       "      <td>CRIMINAL THREATS - NO WEAPON DISPLAYED</td>\n",
       "    </tr>\n",
       "    <tr>\n",
       "      <th>8</th>\n",
       "      <td>648</td>\n",
       "      <td>ARSON</td>\n",
       "    </tr>\n",
       "    <tr>\n",
       "      <th>9</th>\n",
       "      <td>354</td>\n",
       "      <td>THEFT OF IDENTITY</td>\n",
       "    </tr>\n",
       "    <tr>\n",
       "      <th>10</th>\n",
       "      <td>230</td>\n",
       "      <td>ASSAULT WITH DEADLY WEAPON, AGGRAVATED ASSAULT</td>\n",
       "    </tr>\n",
       "    <tr>\n",
       "      <th>11</th>\n",
       "      <td>761</td>\n",
       "      <td>BRANDISH WEAPON</td>\n",
       "    </tr>\n",
       "    <tr>\n",
       "      <th>12</th>\n",
       "      <td>350</td>\n",
       "      <td>THEFT, PERSON</td>\n",
       "    </tr>\n",
       "    <tr>\n",
       "      <th>13</th>\n",
       "      <td>310</td>\n",
       "      <td>BURGLARY</td>\n",
       "    </tr>\n",
       "    <tr>\n",
       "      <th>14</th>\n",
       "      <td>480</td>\n",
       "      <td>BIKE - STOLEN</td>\n",
       "    </tr>\n",
       "    <tr>\n",
       "      <th>15</th>\n",
       "      <td>623</td>\n",
       "      <td>BATTERY POLICE (SIMPLE)</td>\n",
       "    </tr>\n",
       "    <tr>\n",
       "      <th>16</th>\n",
       "      <td>440</td>\n",
       "      <td>THEFT PLAIN - PETTY ($950 &amp; UNDER)</td>\n",
       "    </tr>\n",
       "    <tr>\n",
       "      <th>17</th>\n",
       "      <td>510</td>\n",
       "      <td>VEHICLE - STOLEN</td>\n",
       "    </tr>\n",
       "    <tr>\n",
       "      <th>18</th>\n",
       "      <td>210</td>\n",
       "      <td>ROBBERY</td>\n",
       "    </tr>\n",
       "    <tr>\n",
       "      <th>19</th>\n",
       "      <td>900</td>\n",
       "      <td>VIOLATION OF COURT ORDER</td>\n",
       "    </tr>\n",
       "    <tr>\n",
       "      <th>20</th>\n",
       "      <td>888</td>\n",
       "      <td>TRESPASSING</td>\n",
       "    </tr>\n",
       "    <tr>\n",
       "      <th>21</th>\n",
       "      <td>420</td>\n",
       "      <td>THEFT FROM MOTOR VEHICLE - PETTY ($950 &amp; UNDER)</td>\n",
       "    </tr>\n",
       "    <tr>\n",
       "      <th>22</th>\n",
       "      <td>886</td>\n",
       "      <td>DISTURBING THE PEACE</td>\n",
       "    </tr>\n",
       "    <tr>\n",
       "      <th>23</th>\n",
       "      <td>421</td>\n",
       "      <td>THEFT FROM MOTOR VEHICLE - ATTEMPT</td>\n",
       "    </tr>\n",
       "    <tr>\n",
       "      <th>24</th>\n",
       "      <td>647</td>\n",
       "      <td>THROWING OBJECT AT MOVING VEHICLE</td>\n",
       "    </tr>\n",
       "    <tr>\n",
       "      <th>25</th>\n",
       "      <td>940</td>\n",
       "      <td>EXTORTION</td>\n",
       "    </tr>\n",
       "    <tr>\n",
       "      <th>26</th>\n",
       "      <td>662</td>\n",
       "      <td>BUNCO, GRAND THEFT</td>\n",
       "    </tr>\n",
       "    <tr>\n",
       "      <th>27</th>\n",
       "      <td>220</td>\n",
       "      <td>ATTEMPTED ROBBERY</td>\n",
       "    </tr>\n",
       "    <tr>\n",
       "      <th>28</th>\n",
       "      <td>625</td>\n",
       "      <td>OTHER ASSAULT</td>\n",
       "    </tr>\n",
       "    <tr>\n",
       "      <th>29</th>\n",
       "      <td>755</td>\n",
       "      <td>BOMB SCARE</td>\n",
       "    </tr>\n",
       "    <tr>\n",
       "      <th>30</th>\n",
       "      <td>649</td>\n",
       "      <td>DOCUMENT FORGERY / STOLEN FELONY</td>\n",
       "    </tr>\n",
       "    <tr>\n",
       "      <th>31</th>\n",
       "      <td>901</td>\n",
       "      <td>VIOLATION OF RESTRAINING ORDER</td>\n",
       "    </tr>\n",
       "    <tr>\n",
       "      <th>32</th>\n",
       "      <td>320</td>\n",
       "      <td>BURGLARY, ATTEMPTED</td>\n",
       "    </tr>\n",
       "    <tr>\n",
       "      <th>33</th>\n",
       "      <td>890</td>\n",
       "      <td>FAILURE TO YIELD</td>\n",
       "    </tr>\n",
       "    <tr>\n",
       "      <th>34</th>\n",
       "      <td>351</td>\n",
       "      <td>PURSE SNATCHING</td>\n",
       "    </tr>\n",
       "    <tr>\n",
       "      <th>35</th>\n",
       "      <td>956</td>\n",
       "      <td>LETTERS, LEWD  -  TELEPHONE CALLS, LEWD</td>\n",
       "    </tr>\n",
       "    <tr>\n",
       "      <th>36</th>\n",
       "      <td>820</td>\n",
       "      <td>ORAL COPULATION</td>\n",
       "    </tr>\n",
       "    <tr>\n",
       "      <th>37</th>\n",
       "      <td>812</td>\n",
       "      <td>CRM AGNST CHLD (13 OR UNDER) (14-15 &amp; SUSP 10 ...</td>\n",
       "    </tr>\n",
       "    <tr>\n",
       "      <th>38</th>\n",
       "      <td>920</td>\n",
       "      <td>KIDNAPPING - GRAND ATTEMPT</td>\n",
       "    </tr>\n",
       "    <tr>\n",
       "      <th>39</th>\n",
       "      <td>850</td>\n",
       "      <td>INDECENT EXPOSURE</td>\n",
       "    </tr>\n",
       "    <tr>\n",
       "      <th>40</th>\n",
       "      <td>666</td>\n",
       "      <td>BUNCO, ATTEMPT</td>\n",
       "    </tr>\n",
       "    <tr>\n",
       "      <th>41</th>\n",
       "      <td>343</td>\n",
       "      <td>SHOPLIFTING-GRAND THEFT ($950.01 &amp; OVER)</td>\n",
       "    </tr>\n",
       "  </tbody>\n",
       "</table>\n",
       "</div>"
      ],
      "text/plain": [
       "    Crm_Cd                                        Crm_Cd_Desc\n",
       "0      624                           BATTERY - SIMPLE ASSAULT\n",
       "1      745           VANDALISM - MISDEAMEANOR ($399 OR UNDER)\n",
       "2      740  VANDALISM - FELONY ($400 & OVER, ALL CHURCH VA...\n",
       "3      442           SHOPLIFTING - PETTY THEFT ($950 & UNDER)\n",
       "4      946                          OTHER MISCELLANEOUS CRIME\n",
       "5      341  THEFT-GRAND ($950.01 & OVER)EXCPT,GUNS,FOWL,LI...\n",
       "6      330                              BURGLARY FROM VEHICLE\n",
       "7      930             CRIMINAL THREATS - NO WEAPON DISPLAYED\n",
       "8      648                                              ARSON\n",
       "9      354                                  THEFT OF IDENTITY\n",
       "10     230     ASSAULT WITH DEADLY WEAPON, AGGRAVATED ASSAULT\n",
       "11     761                                    BRANDISH WEAPON\n",
       "12     350                                      THEFT, PERSON\n",
       "13     310                                           BURGLARY\n",
       "14     480                                      BIKE - STOLEN\n",
       "15     623                            BATTERY POLICE (SIMPLE)\n",
       "16     440                 THEFT PLAIN - PETTY ($950 & UNDER)\n",
       "17     510                                   VEHICLE - STOLEN\n",
       "18     210                                            ROBBERY\n",
       "19     900                           VIOLATION OF COURT ORDER\n",
       "20     888                                        TRESPASSING\n",
       "21     420    THEFT FROM MOTOR VEHICLE - PETTY ($950 & UNDER)\n",
       "22     886                               DISTURBING THE PEACE\n",
       "23     421                 THEFT FROM MOTOR VEHICLE - ATTEMPT\n",
       "24     647                  THROWING OBJECT AT MOVING VEHICLE\n",
       "25     940                                          EXTORTION\n",
       "26     662                                 BUNCO, GRAND THEFT\n",
       "27     220                                  ATTEMPTED ROBBERY\n",
       "28     625                                      OTHER ASSAULT\n",
       "29     755                                         BOMB SCARE\n",
       "30     649                   DOCUMENT FORGERY / STOLEN FELONY\n",
       "31     901                     VIOLATION OF RESTRAINING ORDER\n",
       "32     320                                BURGLARY, ATTEMPTED\n",
       "33     890                                   FAILURE TO YIELD\n",
       "34     351                                    PURSE SNATCHING\n",
       "35     956            LETTERS, LEWD  -  TELEPHONE CALLS, LEWD\n",
       "36     820                                    ORAL COPULATION\n",
       "37     812  CRM AGNST CHLD (13 OR UNDER) (14-15 & SUSP 10 ...\n",
       "38     920                         KIDNAPPING - GRAND ATTEMPT\n",
       "39     850                                  INDECENT EXPOSURE\n",
       "40     666                                     BUNCO, ATTEMPT\n",
       "41     343           SHOPLIFTING-GRAND THEFT ($950.01 & OVER)"
      ]
     },
     "execution_count": 8,
     "metadata": {},
     "output_type": "execute_result"
    }
   ],
   "source": [
    "# to find distinct Crime code and description\n",
    "query_Crm_Cd = \"\"\"\n",
    "select distinct Crm_Cd, Crm_Cd_Desc\n",
    "from crime_data;\n",
    "\"\"\"\n",
    "distinct_Crm_Cd = pd.read_sql(query_Crm_Cd, connection)\n",
    "distinct_Crm_Cd\n"
   ]
  },
  {
   "cell_type": "markdown",
   "metadata": {},
   "source": [
    "### **4. Temporal Analysis:**\n",
    "\n",
    "   - Analyze the temporal aspects of the data.\n",
    "\n",
    "   - Determine trends in crime occurrence over time. "
   ]
  },
  {
   "cell_type": "code",
   "execution_count": 9,
   "metadata": {},
   "outputs": [
    {
     "name": "stderr",
     "output_type": "stream",
     "text": [
      "C:\\Users\\ASUS\\AppData\\Local\\Temp\\ipykernel_2488\\2082432049.py:10: UserWarning: pandas only supports SQLAlchemy connectable (engine/connection) or database string URI or sqlite3 DBAPI2 connection. Other DBAPI2 objects are not tested. Please consider using SQLAlchemy.\n",
      "  occ_df = pd.read_sql(query_tmp, connection)\n"
     ]
    },
    {
     "data": {
      "image/png": "[encoded data removed]",
      "text/plain": [
       "<Figure size 1200x400 with 1 Axes>"
      ]
     },
     "metadata": {},
     "output_type": "display_data"
    }
   ],
   "source": [
    "# Monthly crime rate in 2020\n",
    "query_tmp = \"\"\"\n",
    "select  year(str_to_date(date_occ,'%d-%m-%y')) AS crime_year,\n",
    "        month(str_to_date(date_occ,'%d-%m-%y')) AS crime_month,\n",
    "        monthname(str_to_date(date_occ,'%d-%m-%y')) AS crime_monthname,\n",
    "        COUNT(*) AS num_crimes\n",
    "    from crime_data\n",
    "    group by crime_year, crime_month,crime_monthname\n",
    "    order by crime_month;\n",
    "\"\"\"\n",
    "occ_df = pd.read_sql(query_tmp, connection)\n",
    "month=occ_df[\"crime_monthname\"]\n",
    "total = occ_df[\"num_crimes\"]\n",
    "\n",
    "plt.figure(figsize=(12,4))\n",
    "plt.plot(month,total, marker=\"h\", markerfacecolor=\"black\")\n",
    "plt.xlabel(\"Months\")\n",
    "plt.ylabel(\"Number of crimes\")\n",
    "plt.title(\"Monthly crime occurance rate\")\n",
    "plt.grid(True)\n",
    "plt.show()"
   ]
  },
  {
   "cell_type": "code",
   "execution_count": 75,
   "metadata": {},
   "outputs": [
    {
     "name": "stderr",
     "output_type": "stream",
     "text": [
      "C:\\Users\\ASUS\\AppData\\Local\\Temp\\ipykernel_5932\\1167822713.py:6: UserWarning:\n",
      "\n",
      "pandas only supports SQLAlchemy connectable (engine/connection) or database string URI or sqlite3 DBAPI2 connection. Other DBAPI2 objects are not tested. Please consider using SQLAlchemy.\n",
      "\n"
     ]
    },
    {
     "data": {
      "image/png": "[encoded data removed]",
      "text/plain": [
       "<Figure size 1000x800 with 1 Axes>"
      ]
     },
     "metadata": {},
     "output_type": "display_data"
    }
   ],
   "source": [
    "\n",
    "query_trend = \"\"\" \n",
    "select Crm_Cd_Desc, count(Crm_Cd_Desc) as num_crime\n",
    "from crime_data\n",
    "group by Crm_Cd_Desc;\n",
    "\"\"\"\n",
    "crm_trend = pd.read_sql(query_trend, connection)\n",
    "crm_type = crm_trend[\"Crm_Cd_Desc\"]\n",
    "num_of_crime = crm_trend[\"num_crime\"]\n",
    "\n",
    "plt.figure(figsize=(10,8))\n",
    "plt.barh(crm_type, num_of_crime)\n",
    "plt.ylabel(\"Types of crime\")\n",
    "plt.xlabel(\"Number of times crime occured\")\n",
    "plt.title(\"Trends in crime occurance over time\")\n",
    "plt.grid(True)\n",
    "plt.show()"
   ]
  },
  {
   "cell_type": "markdown",
   "metadata": {},
   "source": [
    "   ### **5. Spatial Analysis:**\n",
    "   - Utilize the geographical information (Latitude and Longitude) to perform spatial analysis.\n",
    "   - Visualize crime hotspots on a map."
   ]
  },
  {
   "cell_type": "code",
   "execution_count": 59,
   "metadata": {},
   "outputs": [
    {
     "name": "stderr",
     "output_type": "stream",
     "text": [
      "C:\\Users\\ASUS\\AppData\\Local\\Temp\\ipykernel_5932\\166373578.py:6: UserWarning:\n",
      "\n",
      "pandas only supports SQLAlchemy connectable (engine/connection) or database string URI or sqlite3 DBAPI2 connection. Other DBAPI2 objects are not tested. Please consider using SQLAlchemy.\n",
      "\n"
     ]
    },
    {
     "data": {
      "image/png": "[encoded data removed]",
      "text/plain": [
       "<Figure size 1200x400 with 1 Axes>"
      ]
     },
     "metadata": {},
     "output_type": "display_data"
    }
   ],
   "source": [
    "query3 = \"\"\"\n",
    "select lat, lon, area_name\n",
    "from crime_data\n",
    "group by  lat, lon, area_name ; \n",
    "\"\"\" \n",
    "spatial_data = pd.read_sql(query3, connection)\n",
    "plt.figure(figsize=(12,4))\n",
    "sns.scatterplot(data=spatial_data, x=\"lon\", y=\"lat\", hue=\"area_name\", s=50)\n",
    "plt.legend(bbox_to_anchor=(1.05, 1), loc=\"center right\")\n",
    "plt.title(\"Crime hotspot locations\")\n",
    "plt.xlabel(\"Longitude\")\n",
    "plt.ylabel(\"Latitude\")\n",
    "plt.show()\n",
    "\n",
    "\n"
   ]
  },
  {
   "cell_type": "markdown",
   "metadata": {},
   "source": [
    "### **6. Victim Demographics:**\n",
    "- Investigate the distribution of victim ages and genders.\n",
    "- Identify common premises descriptions where crimes occur."
   ]
  },
  {
   "cell_type": "code",
   "execution_count": 54,
   "metadata": {},
   "outputs": [
    {
     "name": "stderr",
     "output_type": "stream",
     "text": [
      "C:\\Users\\ASUS\\AppData\\Local\\Temp\\ipykernel_5932\\359484355.py:5: UserWarning:\n",
      "\n",
      "pandas only supports SQLAlchemy connectable (engine/connection) or database string URI or sqlite3 DBAPI2 connection. Other DBAPI2 objects are not tested. Please consider using SQLAlchemy.\n",
      "\n",
      "C:\\Users\\ASUS\\AppData\\Local\\Temp\\ipykernel_5932\\359484355.py:10: FutureWarning:\n",
      "\n",
      "\n",
      "\n",
      "Passing `palette` without assigning `hue` is deprecated and will be removed in v0.14.0. Assign the `x` variable to `hue` and set `legend=False` for the same effect.\n",
      "\n",
      "\n"
     ]
    },
    {
     "data": {
      "image/png": "[encoded data removed]",
      "text/plain": [
       "<Figure size 1000x600 with 1 Axes>"
      ]
     },
     "metadata": {},
     "output_type": "display_data"
    }
   ],
   "source": [
    "query_ag= \"\"\"\n",
    "select Vict_Age, Vict_Sex\n",
    "from crime_data;\n",
    "    \"\"\"\n",
    "dist_ag = pd.read_sql(query_ag, connection)  \n",
    "age = dist_ag[\"Vict_Age\"] \n",
    "sex = dist_ag[\"Vict_Sex\"]\n",
    "\n",
    "plt.figure(figsize=(10,6))\n",
    "sns.boxplot(x=sex , y=age, data=dist_ag, palette=\"pastel\")\n",
    "plt.title(\"Victim's Age and Gender Distribution \")\n",
    "plt.xlabel(\"Gender\")\n",
    "plt.ylabel(\"Age\")\n",
    "plt.show()"
   ]
  },
  {
   "cell_type": "code",
   "execution_count": null,
   "metadata": {},
   "outputs": [],
   "source": [
    "query_pre = \"\"\"\n",
    "select area_name,Premis_Desc\n",
    "from crime_data\n",
    "group by area_name,Premis_Desc;\n",
    "\"\"\"\n",
    "com_pre = pd.read_sql(query_pre, connection)\n",
    "com_pre"
   ]
  },
  {
   "cell_type": "markdown",
   "metadata": {},
   "source": [
    "### **7. Status Analysis:**\n",
    "- Examine the status of reported crimes.\n",
    "- Classify crimes based on their current status."
   ]
  },
  {
   "cell_type": "code",
   "execution_count": 14,
   "metadata": {},
   "outputs": [
    {
     "name": "stderr",
     "output_type": "stream",
     "text": [
      "C:\\Users\\ASUS\\AppData\\Local\\Temp\\ipykernel_2488\\1833612346.py:7: UserWarning: pandas only supports SQLAlchemy connectable (engine/connection) or database string URI or sqlite3 DBAPI2 connection. Other DBAPI2 objects are not tested. Please consider using SQLAlchemy.\n",
      "  status_data = pd.read_sql(query1, connection)\n",
      "C:\\Users\\ASUS\\AppData\\Local\\Temp\\ipykernel_2488\\1833612346.py:12: FutureWarning: \n",
      "\n",
      "Passing `palette` without assigning `hue` is deprecated and will be removed in v0.14.0. Assign the `x` variable to `hue` and set `legend=False` for the same effect.\n",
      "\n",
      "  sns.barplot(x=stu, y=stu_cnt, data=status_data, palette='bright')\n"
     ]
    },
    {
     "data": {
      "image/png": "[encoded data removed]",
      "text/plain": [
       "<Figure size 1000x600 with 1 Axes>"
      ]
     },
     "metadata": {},
     "output_type": "display_data"
    }
   ],
   "source": [
    "query1 = \"\"\"\n",
    "select status , count(*) as status_count\n",
    "from crime_data\n",
    "where status is not null\n",
    "group by status;\n",
    "\"\"\"\n",
    "status_data = pd.read_sql(query1, connection)\n",
    "stu = status_data[\"status\"]\n",
    "stu_cnt = status_data[\"status_count\"]\n",
    "\n",
    "plt.figure(figsize=(10, 6))\n",
    "sns.barplot(x=stu, y=stu_cnt, data=status_data, palette='bright')\n",
    "plt.title('Distribution of Crime Statuses')\n",
    "plt.xlabel('Crime Status')\n",
    "plt.ylabel('Count')\n",
    "# plt.legend()\n",
    "plt.show()\n"
   ]
  },
  {
   "cell_type": "code",
   "execution_count": 51,
   "metadata": {},
   "outputs": [
    {
     "name": "stderr",
     "output_type": "stream",
     "text": [
      "C:\\Users\\ASUS\\AppData\\Local\\Temp\\ipykernel_5932\\2314752580.py:7: UserWarning:\n",
      "\n",
      "pandas only supports SQLAlchemy connectable (engine/connection) or database string URI or sqlite3 DBAPI2 connection. Other DBAPI2 objects are not tested. Please consider using SQLAlchemy.\n",
      "\n"
     ]
    },
    {
     "data": {
      "image/png": "[encoded data removed]",
      "text/plain": [
       "<Figure size 1200x600 with 2 Axes>"
      ]
     },
     "metadata": {},
     "output_type": "display_data"
    }
   ],
   "source": [
    "query2 = \"\"\"\n",
    "select Crm_Cd_Desc, status , count(*) as crime_count\n",
    "from crime_data\n",
    "where status is not null\n",
    "group by Crm_Cd_Desc, status;\n",
    "\"\"\"\n",
    "status_df = pd.read_sql(query2, connection)\n",
    "\n",
    "hmap_data = status_df.pivot_table(index=\"status\", columns=\"Crm_Cd_Desc\", fill_value=0 )\n",
    "\n",
    "plt.figure(figsize=(12,6))\n",
    "sns.heatmap(hmap_data, cmap=\"YlGnBu\", annot=True, fmt=\"g\")\n",
    "plt.xlabel(\"Crm_Cd_Desc\")\n",
    "plt.ylabel(\"Status\")\n",
    "plt.title(\"Crime classified\")\n",
    "plt.grid(True)\n",
    "plt.show()"
   ]
  },
  {
   "cell_type": "markdown",
   "metadata": {},
   "source": [
    "\n",
    "### **Questions:**\n"
   ]
  },
  {
   "cell_type": "code",
   "execution_count": 2,
   "metadata": {},
   "outputs": [
    {
     "name": "stderr",
     "output_type": "stream",
     "text": [
      "C:\\Users\\ASUS\\AppData\\Local\\Temp\\ipykernel_22408\\4063513456.py:2: DeprecationWarning: \n",
      "Pyarrow will become a required dependency of pandas in the next major release of pandas (pandas 3.0),\n",
      "(to allow more performant data types, such as the Arrow string type, and better interoperability with other libraries)\n",
      "but was not found to be installed on your system.\n",
      "If this would cause problems for you,\n",
      "please provide us feedback at https://github.com/pandas-dev/pandas/issues/54466\n",
      "        \n",
      "  import pandas as pd\n"
     ]
    }
   ],
   "source": [
    "import pymysql\n",
    "import pandas as pd\n",
    "import numpy as np\n",
    "from matplotlib import pyplot as plt # import matplotlib.pyplot as pl\n",
    "import seaborn as sns                \n",
    "from plotly import express as px        # import plotly.express as px"
   ]
  },
  {
   "cell_type": "code",
   "execution_count": 4,
   "metadata": {},
   "outputs": [],
   "source": [
    "connection = pymysql.connect(host=\"localhost\", user=\"root\", password=\"MY#1pass\", database=\"capstone\", port = 3306)"
   ]
  },
  {
   "cell_type": "code",
   "execution_count": 56,
   "metadata": {},
   "outputs": [
    {
     "name": "stderr",
     "output_type": "stream",
     "text": [
      "C:\\Users\\ASUS\\AppData\\Local\\Temp\\ipykernel_5932\\1786971900.py:4: UserWarning:\n",
      "\n",
      "pandas only supports SQLAlchemy connectable (engine/connection) or database string URI or sqlite3 DBAPI2 connection. Other DBAPI2 objects are not tested. Please consider using SQLAlchemy.\n",
      "\n"
     ]
    },
    {
     "data": {
      "text/html": [
       "<div>\n",
       "<style scoped>\n",
       "    .dataframe tbody tr th:only-of-type {\n",
       "        vertical-align: middle;\n",
       "    }\n",
       "\n",
       "    .dataframe tbody tr th {\n",
       "        vertical-align: top;\n",
       "    }\n",
       "\n",
       "    .dataframe thead th {\n",
       "        text-align: right;\n",
       "    }\n",
       "</style>\n",
       "<table border=\"1\" class=\"dataframe\">\n",
       "  <thead>\n",
       "    <tr style=\"text-align: right;\">\n",
       "      <th></th>\n",
       "      <th>DR_NO</th>\n",
       "      <th>Date_Rptd</th>\n",
       "      <th>DATE_OCC</th>\n",
       "      <th>AREA_NAME</th>\n",
       "      <th>Crm_Cd</th>\n",
       "      <th>Crm_Cd_Desc</th>\n",
       "      <th>Vict_Age</th>\n",
       "      <th>Vict_Sex</th>\n",
       "      <th>Premis_Desc</th>\n",
       "      <th>Status</th>\n",
       "      <th>Location</th>\n",
       "      <th>LAT</th>\n",
       "      <th>LON</th>\n",
       "    </tr>\n",
       "  </thead>\n",
       "  <tbody>\n",
       "    <tr>\n",
       "      <th>0</th>\n",
       "      <td>10304468</td>\n",
       "      <td>01-08-2020</td>\n",
       "      <td>01-08-2020</td>\n",
       "      <td>Southwest</td>\n",
       "      <td>624</td>\n",
       "      <td>BATTERY - SIMPLE ASSAULT</td>\n",
       "      <td>36</td>\n",
       "      <td>F</td>\n",
       "      <td>SINGLE FAMILY DWELLING</td>\n",
       "      <td>AO</td>\n",
       "      <td>1100 W 39TH PL</td>\n",
       "      <td>34.01</td>\n",
       "      <td>-118.30</td>\n",
       "    </tr>\n",
       "    <tr>\n",
       "      <th>1</th>\n",
       "      <td>190101086</td>\n",
       "      <td>01-02-2020</td>\n",
       "      <td>01-01-2020</td>\n",
       "      <td>Central</td>\n",
       "      <td>624</td>\n",
       "      <td>BATTERY - SIMPLE ASSAULT</td>\n",
       "      <td>25</td>\n",
       "      <td>M</td>\n",
       "      <td>SIDEWALK</td>\n",
       "      <td>IC</td>\n",
       "      <td>700 S HILL ST</td>\n",
       "      <td>34.05</td>\n",
       "      <td>-118.25</td>\n",
       "    </tr>\n",
       "    <tr>\n",
       "      <th>2</th>\n",
       "      <td>191501505</td>\n",
       "      <td>01-01-2020</td>\n",
       "      <td>01-01-2020</td>\n",
       "      <td>N Hollywood</td>\n",
       "      <td>745</td>\n",
       "      <td>VANDALISM - MISDEAMEANOR ($399 OR UNDER)</td>\n",
       "      <td>76</td>\n",
       "      <td>F</td>\n",
       "      <td>MULTI-UNIT DWELLING (APARTMENT, DUPLEX, ETC)</td>\n",
       "      <td>IC</td>\n",
       "      <td>5400 CORTEEN PL</td>\n",
       "      <td>34.17</td>\n",
       "      <td>-118.40</td>\n",
       "    </tr>\n",
       "    <tr>\n",
       "      <th>3</th>\n",
       "      <td>191921269</td>\n",
       "      <td>01-01-2020</td>\n",
       "      <td>01-01-2020</td>\n",
       "      <td>Mission</td>\n",
       "      <td>740</td>\n",
       "      <td>VANDALISM - FELONY ($400 &amp; OVER, ALL CHURCH VA...</td>\n",
       "      <td>31</td>\n",
       "      <td>X</td>\n",
       "      <td>BEAUTY SUPPLY STORE</td>\n",
       "      <td>IC</td>\n",
       "      <td>14400 TITUS ST</td>\n",
       "      <td>34.22</td>\n",
       "      <td>-118.45</td>\n",
       "    </tr>\n",
       "    <tr>\n",
       "      <th>4</th>\n",
       "      <td>200100502</td>\n",
       "      <td>01-02-2020</td>\n",
       "      <td>01-02-2020</td>\n",
       "      <td>Central</td>\n",
       "      <td>442</td>\n",
       "      <td>SHOPLIFTING - PETTY THEFT ($950 &amp; UNDER)</td>\n",
       "      <td>23</td>\n",
       "      <td>M</td>\n",
       "      <td>DEPARTMENT STORE</td>\n",
       "      <td>IC</td>\n",
       "      <td>700 S FIGUEROA ST</td>\n",
       "      <td>34.05</td>\n",
       "      <td>-118.26</td>\n",
       "    </tr>\n",
       "  </tbody>\n",
       "</table>\n",
       "</div>"
      ],
      "text/plain": [
       "       DR_NO   Date_Rptd    DATE_OCC    AREA_NAME  Crm_Cd  \\\n",
       "0   10304468  01-08-2020  01-08-2020    Southwest     624   \n",
       "1  190101086  01-02-2020  01-01-2020      Central     624   \n",
       "2  191501505  01-01-2020  01-01-2020  N Hollywood     745   \n",
       "3  191921269  01-01-2020  01-01-2020      Mission     740   \n",
       "4  200100502  01-02-2020  01-02-2020      Central     442   \n",
       "\n",
       "                                         Crm_Cd_Desc  Vict_Age Vict_Sex  \\\n",
       "0                           BATTERY - SIMPLE ASSAULT        36        F   \n",
       "1                           BATTERY - SIMPLE ASSAULT        25        M   \n",
       "2           VANDALISM - MISDEAMEANOR ($399 OR UNDER)        76        F   \n",
       "3  VANDALISM - FELONY ($400 & OVER, ALL CHURCH VA...        31        X   \n",
       "4           SHOPLIFTING - PETTY THEFT ($950 & UNDER)        23        M   \n",
       "\n",
       "                                    Premis_Desc Status           Location  \\\n",
       "0                        SINGLE FAMILY DWELLING     AO     1100 W 39TH PL   \n",
       "1                                      SIDEWALK     IC      700 S HILL ST   \n",
       "2  MULTI-UNIT DWELLING (APARTMENT, DUPLEX, ETC)     IC    5400 CORTEEN PL   \n",
       "3                           BEAUTY SUPPLY STORE     IC     14400 TITUS ST   \n",
       "4                              DEPARTMENT STORE     IC  700 S FIGUEROA ST   \n",
       "\n",
       "     LAT     LON  \n",
       "0  34.01 -118.30  \n",
       "1  34.05 -118.25  \n",
       "2  34.17 -118.40  \n",
       "3  34.22 -118.45  \n",
       "4  34.05 -118.26  "
      ]
     },
     "execution_count": 56,
     "metadata": {},
     "output_type": "execute_result"
    }
   ],
   "source": [
    "query = \"\"\"\n",
    "select * from crime_data;\n",
    "\"\"\"\n",
    "crime_data = pd.read_sql(query,connection)\n",
    "crime_data.head()"
   ]
  },
  {
   "cell_type": "markdown",
   "metadata": {},
   "source": [
    "\n",
    "**Spatial Analysis:**\n",
    "\n",
    "Where are the geographical hotspots for reported crimes?\n"
   ]
  },
  {
   "cell_type": "code",
   "execution_count": 5,
   "metadata": {},
   "outputs": [
    {
     "name": "stderr",
     "output_type": "stream",
     "text": [
      "C:\\Users\\ASUS\\AppData\\Local\\Temp\\ipykernel_22408\\4247718560.py:6: UserWarning: pandas only supports SQLAlchemy connectable (engine/connection) or database string URI or sqlite3 DBAPI2 connection. Other DBAPI2 objects are not tested. Please consider using SQLAlchemy.\n",
      "  spatial_data = pd.read_sql(query1, connection)   # to establish connection between MySQL and Python\n",
      "c:\\Users\\ASUS\\AppData\\Local\\Programs\\Python\\Python312\\Lib\\site-packages\\plotly\\express\\_core.py:2065: FutureWarning: When grouping with a length-1 list-like, you will need to pass a length-1 tuple to get_group in a future version of pandas. Pass `(name,)` instead of `name` to silence this warning.\n",
      "  sf: grouped.get_group(s if len(s) > 1 else s[0])\n"
     ]
    },
    {
     "data": {
      "application/vnd.plotly.v1+json": {
       "config": {
        "plotlyServerURL": "https://plot.ly"
       },
       "data": [
        {
         "hovertemplate": "area_name=Southwest<br>Longitude=%{x}<br>Latitude=%{y}<extra></extra>",
         "legendgroup": "Southwest",
         "marker": {
          "color": "#636efa",
          "symbol": "circle"
         },
         "mode": "markers",
         "name": "Southwest",
         "orientation": "v",
         "showlegend": true,
         "type": "scatter",
         "x": [
          -118.3,
          -118.3,
          -118.35
         ],
         "xaxis": "x",
         "y": [
          34.01,
          34.02,
          34.02
         ],
         "yaxis": "y"
        },
        {
         "hovertemplate": "area_name=Central<br>Longitude=%{x}<br>Latitude=%{y}<extra></extra>",
         "legendgroup": "Central",
         "marker": {
          "color": "#EF553B",
          "symbol": "circle"
         },
         "mode": "markers",
         "name": "Central",
         "orientation": "v",
         "showlegend": true,
         "type": "scatter",
         "x": [
          -118.25,
          -118.26,
          -118.25,
          -118.24,
          -118.26,
          -118.24,
          -118.24,
          -118.27,
          -118.23,
          -118.26,
          -118.24,
          -118.27,
          -118.23,
          -118.25,
          -118.23,
          -118.25,
          -118.27,
          -118.23
         ],
         "xaxis": "x",
         "y": [
          34.05,
          34.05,
          34.04,
          34.07,
          34.04,
          34.06,
          34.05,
          34.03,
          34.06,
          34.03,
          34.04,
          34.04,
          34.04,
          34.07,
          34.07,
          34.06,
          34.05,
          34.05
         ],
         "yaxis": "y"
        },
        {
         "hovertemplate": "area_name=N Hollywood<br>Longitude=%{x}<br>Latitude=%{y}<extra></extra>",
         "legendgroup": "N Hollywood",
         "marker": {
          "color": "#00cc96",
          "symbol": "circle"
         },
         "mode": "markers",
         "name": "N Hollywood",
         "orientation": "v",
         "showlegend": true,
         "type": "scatter",
         "x": [
          -118.4,
          -118.41
         ],
         "xaxis": "x",
         "y": [
          34.17,
          34.21
         ],
         "yaxis": "y"
        },
        {
         "hovertemplate": "area_name=Mission<br>Longitude=%{x}<br>Latitude=%{y}<extra></extra>",
         "legendgroup": "Mission",
         "marker": {
          "color": "#ab63fa",
          "symbol": "circle"
         },
         "mode": "markers",
         "name": "Mission",
         "orientation": "v",
         "showlegend": true,
         "type": "scatter",
         "x": [
          -118.45
         ],
         "xaxis": "x",
         "y": [
          34.22
         ],
         "yaxis": "y"
        },
        {
         "hovertemplate": "area_name=Van Nuys<br>Longitude=%{x}<br>Latitude=%{y}<extra></extra>",
         "legendgroup": "Van Nuys",
         "marker": {
          "color": "#FFA15A",
          "symbol": "circle"
         },
         "mode": "markers",
         "name": "Van Nuys",
         "orientation": "v",
         "showlegend": true,
         "type": "scatter",
         "x": [
          -118.43,
          -118.45,
          -118.46,
          -118.44
         ],
         "xaxis": "x",
         "y": [
          34.2,
          34.18,
          34.2,
          34.16
         ],
         "yaxis": "y"
        },
        {
         "hovertemplate": "area_name=Wilshire<br>Longitude=%{x}<br>Latitude=%{y}<extra></extra>",
         "legendgroup": "Wilshire",
         "marker": {
          "color": "#19d3f3",
          "symbol": "circle"
         },
         "mode": "markers",
         "name": "Wilshire",
         "orientation": "v",
         "showlegend": true,
         "type": "scatter",
         "x": [
          -118.37,
          -118.34,
          -118.35,
          -118.37,
          -118.35
         ],
         "xaxis": "x",
         "y": [
          34.08,
          34.06,
          34.09,
          34.07,
          34.08
         ],
         "yaxis": "y"
        },
        {
         "hovertemplate": "area_name=Rampart<br>Longitude=%{x}<br>Latitude=%{y}<extra></extra>",
         "legendgroup": "Rampart",
         "marker": {
          "color": "#FF6692",
          "symbol": "circle"
         },
         "mode": "markers",
         "name": "Rampart",
         "orientation": "v",
         "showlegend": true,
         "type": "scatter",
         "x": [
          -118.28,
          -118.27,
          -118.28,
          -118.3,
          -118.26,
          -118.26
         ],
         "xaxis": "x",
         "y": [
          34.07,
          34.06,
          34.05,
          34.08,
          34.06,
          34.05
         ],
         "yaxis": "y"
        },
        {
         "hovertemplate": "area_name=Harbor<br>Longitude=%{x}<br>Latitude=%{y}<extra></extra>",
         "legendgroup": "Harbor",
         "marker": {
          "color": "#B6E880",
          "symbol": "circle"
         },
         "mode": "markers",
         "name": "Harbor",
         "orientation": "v",
         "showlegend": true,
         "type": "scatter",
         "x": [
          -118.31,
          -118.28,
          -118.29,
          -118.29,
          -118.29,
          -118.31,
          -118.31,
          -118.29,
          -118.3,
          -118.3
         ],
         "xaxis": "x",
         "y": [
          33.81,
          33.78,
          33.72,
          33.79,
          33.71,
          33.85,
          33.78,
          33.74,
          33.75,
          33.8
         ],
         "yaxis": "y"
        },
        {
         "hovertemplate": "area_name=Pacific<br>Longitude=%{x}<br>Latitude=%{y}<extra></extra>",
         "legendgroup": "Pacific",
         "marker": {
          "color": "#FF97FF",
          "symbol": "circle"
         },
         "mode": "markers",
         "name": "Pacific",
         "orientation": "v",
         "showlegend": true,
         "type": "scatter",
         "x": [
          -118.45
         ],
         "xaxis": "x",
         "y": [
          34.01
         ],
         "yaxis": "y"
        },
        {
         "hovertemplate": "area_name=Hollenbeck<br>Longitude=%{x}<br>Latitude=%{y}<extra></extra>",
         "legendgroup": "Hollenbeck",
         "marker": {
          "color": "#FECB52",
          "symbol": "circle"
         },
         "mode": "markers",
         "name": "Hollenbeck",
         "orientation": "v",
         "showlegend": true,
         "type": "scatter",
         "x": [
          -118.22,
          -118.21,
          -118.2,
          -118.22
         ],
         "xaxis": "x",
         "y": [
          34.08,
          34.04,
          34.02,
          34.07
         ],
         "yaxis": "y"
        },
        {
         "hovertemplate": "area_name=West LA<br>Longitude=%{x}<br>Latitude=%{y}<extra></extra>",
         "legendgroup": "West LA",
         "marker": {
          "color": "#636efa",
          "symbol": "circle"
         },
         "mode": "markers",
         "name": "West LA",
         "orientation": "v",
         "showlegend": true,
         "type": "scatter",
         "x": [
          -118.38,
          -118.42,
          -118.44,
          -118.44,
          -118.4
         ],
         "xaxis": "x",
         "y": [
          34.06,
          34.11,
          34.08,
          34.05,
          34.04
         ],
         "yaxis": "y"
        },
        {
         "hovertemplate": "area_name=Northeast<br>Longitude=%{x}<br>Latitude=%{y}<extra></extra>",
         "legendgroup": "Northeast",
         "marker": {
          "color": "#EF553B",
          "symbol": "circle"
         },
         "mode": "markers",
         "name": "Northeast",
         "orientation": "v",
         "showlegend": true,
         "type": "scatter",
         "x": [
          -118.19,
          -118.26,
          -118.22,
          -118.19,
          -118.28,
          -118.22,
          -118.2,
          -118.2,
          -118.24,
          -118.23
         ],
         "xaxis": "x",
         "y": [
          34.12,
          34.08,
          34.14,
          34.11,
          34.09,
          34.11,
          34.14,
          34.13,
          34.11,
          34.14
         ],
         "yaxis": "y"
        },
        {
         "hovertemplate": "area_name=Foothill<br>Longitude=%{x}<br>Latitude=%{y}<extra></extra>",
         "legendgroup": "Foothill",
         "marker": {
          "color": "#00cc96",
          "symbol": "circle"
         },
         "mode": "markers",
         "name": "Foothill",
         "orientation": "v",
         "showlegend": true,
         "type": "scatter",
         "x": [
          -118.36,
          -118.37
         ],
         "xaxis": "x",
         "y": [
          34.27,
          34.23
         ],
         "yaxis": "y"
        },
        {
         "hovertemplate": "area_name=Hollywood<br>Longitude=%{x}<br>Latitude=%{y}<extra></extra>",
         "legendgroup": "Hollywood",
         "marker": {
          "color": "#ab63fa",
          "symbol": "circle"
         },
         "mode": "markers",
         "name": "Hollywood",
         "orientation": "v",
         "showlegend": true,
         "type": "scatter",
         "x": [
          -118.33,
          -118.34,
          -118.32,
          -118.3
         ],
         "xaxis": "x",
         "y": [
          34.1,
          34.1,
          34.1,
          34.1
         ],
         "yaxis": "y"
        },
        {
         "hovertemplate": "area_name=West Valley<br>Longitude=%{x}<br>Latitude=%{y}<extra></extra>",
         "legendgroup": "West Valley",
         "marker": {
          "color": "#FFA15A",
          "symbol": "circle"
         },
         "mode": "markers",
         "name": "West Valley",
         "orientation": "v",
         "showlegend": true,
         "type": "scatter",
         "x": [
          -118.56
         ],
         "xaxis": "x",
         "y": [
          34.21
         ],
         "yaxis": "y"
        },
        {
         "hovertemplate": "area_name=77th Street<br>Longitude=%{x}<br>Latitude=%{y}<extra></extra>",
         "legendgroup": "77th Street",
         "marker": {
          "color": "#19d3f3",
          "symbol": "circle"
         },
         "mode": "markers",
         "name": "77th Street",
         "orientation": "v",
         "showlegend": true,
         "type": "scatter",
         "x": [
          -118.32,
          -118.33,
          -118.31
         ],
         "xaxis": "x",
         "y": [
          33.98,
          33.98,
          33.99
         ],
         "yaxis": "y"
        },
        {
         "hovertemplate": "area_name=Olympic<br>Longitude=%{x}<br>Latitude=%{y}<extra></extra>",
         "legendgroup": "Olympic",
         "marker": {
          "color": "#FF6692",
          "symbol": "circle"
         },
         "mode": "markers",
         "name": "Olympic",
         "orientation": "v",
         "showlegend": true,
         "type": "scatter",
         "x": [
          -118.3
         ],
         "xaxis": "x",
         "y": [
          34.05
         ],
         "yaxis": "y"
        },
        {
         "hovertemplate": "area_name=Devonshire<br>Longitude=%{x}<br>Latitude=%{y}<extra></extra>",
         "legendgroup": "Devonshire",
         "marker": {
          "color": "#B6E880",
          "symbol": "circle"
         },
         "mode": "markers",
         "name": "Devonshire",
         "orientation": "v",
         "showlegend": true,
         "type": "scatter",
         "x": [
          -118.47
         ],
         "xaxis": "x",
         "y": [
          34.28
         ],
         "yaxis": "y"
        },
        {
         "hovertemplate": "area_name=Southeast<br>Longitude=%{x}<br>Latitude=%{y}<extra></extra>",
         "legendgroup": "Southeast",
         "marker": {
          "color": "#FF97FF",
          "symbol": "circle"
         },
         "mode": "markers",
         "name": "Southeast",
         "orientation": "v",
         "showlegend": true,
         "type": "scatter",
         "x": [
          -118.26
         ],
         "xaxis": "x",
         "y": [
          33.96
         ],
         "yaxis": "y"
        }
       ],
       "layout": {
        "legend": {
         "title": {
          "text": "area_name"
         },
         "tracegroupgap": 0
        },
        "margin": {
         "t": 60
        },
        "template": {
         "data": {
          "bar": [
           {
            "error_x": {
             "color": "#2a3f5f"
            },
            "error_y": {
             "color": "#2a3f5f"
            },
            "marker": {
             "line": {
              "color": "#E5ECF6",
              "width": 0.5
             },
             "pattern": {
              "fillmode": "overlay",
              "size": 10,
              "solidity": 0.2
             }
            },
            "type": "bar"
           }
          ],
          "barpolar": [
           {
            "marker": {
             "line": {
              "color": "#E5ECF6",
              "width": 0.5
             },
             "pattern": {
              "fillmode": "overlay",
              "size": 10,
              "solidity": 0.2
             }
            },
            "type": "barpolar"
           }
          ],
          "carpet": [
           {
            "aaxis": {
             "endlinecolor": "#2a3f5f",
             "gridcolor": "white",
             "linecolor": "white",
             "minorgridcolor": "white",
             "startlinecolor": "#2a3f5f"
            },
            "baxis": {
             "endlinecolor": "#2a3f5f",
             "gridcolor": "white",
             "linecolor": "white",
             "minorgridcolor": "white",
             "startlinecolor": "#2a3f5f"
            },
            "type": "carpet"
           }
          ],
          "choropleth": [
           {
            "colorbar": {
             "outlinewidth": 0,
             "ticks": ""
            },
            "type": "choropleth"
           }
          ],
          "contour": [
           {
            "colorbar": {
             "outlinewidth": 0,
             "ticks": ""
            },
            "colorscale": [
             [
              0,
              "#0d0887"
             ],
             [
              0.1111111111111111,
              "#46039f"
             ],
             [
              0.2222222222222222,
              "#7201a8"
             ],
             [
              0.3333333333333333,
              "#9c179e"
             ],
             [
              0.4444444444444444,
              "#bd3786"
             ],
             [
              0.5555555555555556,
              "#d8576b"
             ],
             [
              0.6666666666666666,
              "#ed7953"
             ],
             [
              0.7777777777777778,
              "#fb9f3a"
             ],
             [
              0.8888888888888888,
              "#fdca26"
             ],
             [
              1,
              "#f0f921"
             ]
            ],
            "type": "contour"
           }
          ],
          "contourcarpet": [
           {
            "colorbar": {
             "outlinewidth": 0,
             "ticks": ""
            },
            "type": "contourcarpet"
           }
          ],
          "heatmap": [
           {
            "colorbar": {
             "outlinewidth": 0,
             "ticks": ""
            },
            "colorscale": [
             [
              0,
              "#0d0887"
             ],
             [
              0.1111111111111111,
              "#46039f"
             ],
             [
              0.2222222222222222,
              "#7201a8"
             ],
             [
              0.3333333333333333,
              "#9c179e"
             ],
             [
              0.4444444444444444,
              "#bd3786"
             ],
             [
              0.5555555555555556,
              "#d8576b"
             ],
             [
              0.6666666666666666,
              "#ed7953"
             ],
             [
              0.7777777777777778,
              "#fb9f3a"
             ],
             [
              0.8888888888888888,
              "#fdca26"
             ],
             [
              1,
              "#f0f921"
             ]
            ],
            "type": "heatmap"
           }
          ],
          "heatmapgl": [
           {
            "colorbar": {
             "outlinewidth": 0,
             "ticks": ""
            },
            "colorscale": [
             [
              0,
              "#0d0887"
             ],
             [
              0.1111111111111111,
              "#46039f"
             ],
             [
              0.2222222222222222,
              "#7201a8"
             ],
             [
              0.3333333333333333,
              "#9c179e"
             ],
             [
              0.4444444444444444,
              "#bd3786"
             ],
             [
              0.5555555555555556,
              "#d8576b"
             ],
             [
              0.6666666666666666,
              "#ed7953"
             ],
             [
              0.7777777777777778,
              "#fb9f3a"
             ],
             [
              0.8888888888888888,
              "#fdca26"
             ],
             [
              1,
              "#f0f921"
             ]
            ],
            "type": "heatmapgl"
           }
          ],
          "histogram": [
           {
            "marker": {
             "pattern": {
              "fillmode": "overlay",
              "size": 10,
              "solidity": 0.2
             }
            },
            "type": "histogram"
           }
          ],
          "histogram2d": [
           {
            "colorbar": {
             "outlinewidth": 0,
             "ticks": ""
            },
            "colorscale": [
             [
              0,
              "#0d0887"
             ],
             [
              0.1111111111111111,
              "#46039f"
             ],
             [
              0.2222222222222222,
              "#7201a8"
             ],
             [
              0.3333333333333333,
              "#9c179e"
             ],
             [
              0.4444444444444444,
              "#bd3786"
             ],
             [
              0.5555555555555556,
              "#d8576b"
             ],
             [
              0.6666666666666666,
              "#ed7953"
             ],
             [
              0.7777777777777778,
              "#fb9f3a"
             ],
             [
              0.8888888888888888,
              "#fdca26"
             ],
             [
              1,
              "#f0f921"
             ]
            ],
            "type": "histogram2d"
           }
          ],
          "histogram2dcontour": [
           {
            "colorbar": {
             "outlinewidth": 0,
             "ticks": ""
            },
            "colorscale": [
             [
              0,
              "#0d0887"
             ],
             [
              0.1111111111111111,
              "#46039f"
             ],
             [
              0.2222222222222222,
              "#7201a8"
             ],
             [
              0.3333333333333333,
              "#9c179e"
             ],
             [
              0.4444444444444444,
              "#bd3786"
             ],
             [
              0.5555555555555556,
              "#d8576b"
             ],
             [
              0.6666666666666666,
              "#ed7953"
             ],
             [
              0.7777777777777778,
              "#fb9f3a"
             ],
             [
              0.8888888888888888,
              "#fdca26"
             ],
             [
              1,
              "#f0f921"
             ]
            ],
            "type": "histogram2dcontour"
           }
          ],
          "mesh3d": [
           {
            "colorbar": {
             "outlinewidth": 0,
             "ticks": ""
            },
            "type": "mesh3d"
           }
          ],
          "parcoords": [
           {
            "line": {
             "colorbar": {
              "outlinewidth": 0,
              "ticks": ""
             }
            },
            "type": "parcoords"
           }
          ],
          "pie": [
           {
            "automargin": true,
            "type": "pie"
           }
          ],
          "scatter": [
           {
            "fillpattern": {
             "fillmode": "overlay",
             "size": 10,
             "solidity": 0.2
            },
            "type": "scatter"
           }
          ],
          "scatter3d": [
           {
            "line": {
             "colorbar": {
              "outlinewidth": 0,
              "ticks": ""
             }
            },
            "marker": {
             "colorbar": {
              "outlinewidth": 0,
              "ticks": ""
             }
            },
            "type": "scatter3d"
           }
          ],
          "scattercarpet": [
           {
            "marker": {
             "colorbar": {
              "outlinewidth": 0,
              "ticks": ""
             }
            },
            "type": "scattercarpet"
           }
          ],
          "scattergeo": [
           {
            "marker": {
             "colorbar": {
              "outlinewidth": 0,
              "ticks": ""
             }
            },
            "type": "scattergeo"
           }
          ],
          "scattergl": [
           {
            "marker": {
             "colorbar": {
              "outlinewidth": 0,
              "ticks": ""
             }
            },
            "type": "scattergl"
           }
          ],
          "scattermapbox": [
           {
            "marker": {
             "colorbar": {
              "outlinewidth": 0,
              "ticks": ""
             }
            },
            "type": "scattermapbox"
           }
          ],
          "scatterpolar": [
           {
            "marker": {
             "colorbar": {
              "outlinewidth": 0,
              "ticks": ""
             }
            },
            "type": "scatterpolar"
           }
          ],
          "scatterpolargl": [
           {
            "marker": {
             "colorbar": {
              "outlinewidth": 0,
              "ticks": ""
             }
            },
            "type": "scatterpolargl"
           }
          ],
          "scatterternary": [
           {
            "marker": {
             "colorbar": {
              "outlinewidth": 0,
              "ticks": ""
             }
            },
            "type": "scatterternary"
           }
          ],
          "surface": [
           {
            "colorbar": {
             "outlinewidth": 0,
             "ticks": ""
            },
            "colorscale": [
             [
              0,
              "#0d0887"
             ],
             [
              0.1111111111111111,
              "#46039f"
             ],
             [
              0.2222222222222222,
              "#7201a8"
             ],
             [
              0.3333333333333333,
              "#9c179e"
             ],
             [
              0.4444444444444444,
              "#bd3786"
             ],
             [
              0.5555555555555556,
              "#d8576b"
             ],
             [
              0.6666666666666666,
              "#ed7953"
             ],
             [
              0.7777777777777778,
              "#fb9f3a"
             ],
             [
              0.8888888888888888,
              "#fdca26"
             ],
             [
              1,
              "#f0f921"
             ]
            ],
            "type": "surface"
           }
          ],
          "table": [
           {
            "cells": {
             "fill": {
              "color": "#EBF0F8"
             },
             "line": {
              "color": "white"
             }
            },
            "header": {
             "fill": {
              "color": "#C8D4E3"
             },
             "line": {
              "color": "white"
             }
            },
            "type": "table"
           }
          ]
         },
         "layout": {
          "annotationdefaults": {
           "arrowcolor": "#2a3f5f",
           "arrowhead": 0,
           "arrowwidth": 1
          },
          "autotypenumbers": "strict",
          "coloraxis": {
           "colorbar": {
            "outlinewidth": 0,
            "ticks": ""
           }
          },
          "colorscale": {
           "diverging": [
            [
             0,
             "#8e0152"
            ],
            [
             0.1,
             "#c51b7d"
            ],
            [
             0.2,
             "#de77ae"
            ],
            [
             0.3,
             "#f1b6da"
            ],
            [
             0.4,
             "#fde0ef"
            ],
            [
             0.5,
             "#f7f7f7"
            ],
            [
             0.6,
             "#e6f5d0"
            ],
            [
             0.7,
             "#b8e186"
            ],
            [
             0.8,
             "#7fbc41"
            ],
            [
             0.9,
             "#4d9221"
            ],
            [
             1,
             "#276419"
            ]
           ],
           "sequential": [
            [
             0,
             "#0d0887"
            ],
            [
             0.1111111111111111,
             "#46039f"
            ],
            [
             0.2222222222222222,
             "#7201a8"
            ],
            [
             0.3333333333333333,
             "#9c179e"
            ],
            [
             0.4444444444444444,
             "#bd3786"
            ],
            [
             0.5555555555555556,
             "#d8576b"
            ],
            [
             0.6666666666666666,
             "#ed7953"
            ],
            [
             0.7777777777777778,
             "#fb9f3a"
            ],
            [
             0.8888888888888888,
             "#fdca26"
            ],
            [
             1,
             "#f0f921"
            ]
           ],
           "sequentialminus": [
            [
             0,
             "#0d0887"
            ],
            [
             0.1111111111111111,
             "#46039f"
            ],
            [
             0.2222222222222222,
             "#7201a8"
            ],
            [
             0.3333333333333333,
             "#9c179e"
            ],
            [
             0.4444444444444444,
             "#bd3786"
            ],
            [
             0.5555555555555556,
             "#d8576b"
            ],
            [
             0.6666666666666666,
             "#ed7953"
            ],
            [
             0.7777777777777778,
             "#fb9f3a"
            ],
            [
             0.8888888888888888,
             "#fdca26"
            ],
            [
             1,
             "#f0f921"
            ]
           ]
          },
          "colorway": [
           "#636efa",
           "#EF553B",
           "#00cc96",
           "#ab63fa",
           "#FFA15A",
           "#19d3f3",
           "#FF6692",
           "#B6E880",
           "#FF97FF",
           "#FECB52"
          ],
          "font": {
           "color": "#2a3f5f"
          },
          "geo": {
           "bgcolor": "white",
           "lakecolor": "white",
           "landcolor": "#E5ECF6",
           "showlakes": true,
           "showland": true,
           "subunitcolor": "white"
          },
          "hoverlabel": {
           "align": "left"
          },
          "hovermode": "closest",
          "mapbox": {
           "style": "light"
          },
          "paper_bgcolor": "white",
          "plot_bgcolor": "#E5ECF6",
          "polar": {
           "angularaxis": {
            "gridcolor": "white",
            "linecolor": "white",
            "ticks": ""
           },
           "bgcolor": "#E5ECF6",
           "radialaxis": {
            "gridcolor": "white",
            "linecolor": "white",
            "ticks": ""
           }
          },
          "scene": {
           "xaxis": {
            "backgroundcolor": "#E5ECF6",
            "gridcolor": "white",
            "gridwidth": 2,
            "linecolor": "white",
            "showbackground": true,
            "ticks": "",
            "zerolinecolor": "white"
           },
           "yaxis": {
            "backgroundcolor": "#E5ECF6",
            "gridcolor": "white",
            "gridwidth": 2,
            "linecolor": "white",
            "showbackground": true,
            "ticks": "",
            "zerolinecolor": "white"
           },
           "zaxis": {
            "backgroundcolor": "#E5ECF6",
            "gridcolor": "white",
            "gridwidth": 2,
            "linecolor": "white",
            "showbackground": true,
            "ticks": "",
            "zerolinecolor": "white"
           }
          },
          "shapedefaults": {
           "line": {
            "color": "#2a3f5f"
           }
          },
          "ternary": {
           "aaxis": {
            "gridcolor": "white",
            "linecolor": "white",
            "ticks": ""
           },
           "baxis": {
            "gridcolor": "white",
            "linecolor": "white",
            "ticks": ""
           },
           "bgcolor": "#E5ECF6",
           "caxis": {
            "gridcolor": "white",
            "linecolor": "white",
            "ticks": ""
           }
          },
          "title": {
           "x": 0.05
          },
          "xaxis": {
           "automargin": true,
           "gridcolor": "white",
           "linecolor": "white",
           "ticks": "",
           "title": {
            "standoff": 15
           },
           "zerolinecolor": "white",
           "zerolinewidth": 2
          },
          "yaxis": {
           "automargin": true,
           "gridcolor": "white",
           "linecolor": "white",
           "ticks": "",
           "title": {
            "standoff": 15
           },
           "zerolinecolor": "white",
           "zerolinewidth": 2
          }
         }
        },
        "xaxis": {
         "anchor": "y",
         "domain": [
          0,
          1
         ],
         "title": {
          "text": "Longitude"
         }
        },
        "yaxis": {
         "anchor": "x",
         "domain": [
          0,
          1
         ],
         "title": {
          "text": "Latitude"
         }
        }
       }
      }
     },
     "metadata": {},
     "output_type": "display_data"
    },
    {
     "data": {
      "text/plain": [
       "<Figure size 1200x1000 with 0 Axes>"
      ]
     },
     "metadata": {},
     "output_type": "display_data"
    }
   ],
   "source": [
    "query1 = \"\"\"\n",
    "select lat, lon, area_name\n",
    "from crime_data\n",
    "group by  lat, lon, area_name ; \n",
    "\"\"\" \n",
    "spatial_data = pd.read_sql(query1, connection)   # to establish connection between MySQL and Python\n",
    "\n",
    "plt.figure(figsize=(12,10))\n",
    "fig=px.scatter(spatial_data, x=\"lon\", y=\"lat\", color=\"area_name\",\n",
    "labels={\"lon\":\"Longitude\", \"lat\":\"Latitude\"})\n",
    "fig.show()"
   ]
  },
  {
   "cell_type": "code",
   "execution_count": 19,
   "metadata": {},
   "outputs": [
    {
     "data": {
      "text/html": [
       "<div style=\"width:100%;\"><div style=\"position:relative;width:100%;height:0;padding-bottom:60%;\"><span style=\"color:#565656\">Make this Notebook Trusted to load map: File -> Trust Notebook</span><iframe srcdoc=\"&lt;!DOCTYPE html&gt;\n",
       "&lt;html&gt;\n",
       "&lt;head&gt;\n",
       "    \n",
       "    &lt;meta http-equiv=&quot;content-type&quot; content=&quot;text/html; charset=UTF-8&quot; /&gt;\n",
       "    \n",
       "        &lt;script&gt;\n",
       "            L_NO_TOUCH = false;\n",
       "            L_DISABLE_3D = false;\n",
       "        &lt;/script&gt;\n",
       "    \n",
       "    &lt;style&gt;html, body {width: 100%;height: 100%;margin: 0;padding: 0;}&lt;/style&gt;\n",
       "    &lt;style&gt;#map {position:absolute;top:0;bottom:0;right:0;left:0;}&lt;/style&gt;\n",
       "    &lt;script src=&quot;https://cdn.jsdelivr.net/npm/leaflet@1.9.3/dist/leaflet.js&quot;&gt;&lt;/script&gt;\n",
       "    &lt;script src=&quot;https://code.jquery.com/jquery-3.7.1.min.js&quot;&gt;&lt;/script&gt;\n",
       "    &lt;script src=&quot;https://cdn.jsdelivr.net/npm/bootstrap@5.2.2/dist/js/bootstrap.bundle.min.js&quot;&gt;&lt;/script&gt;\n",
       "    &lt;script src=&quot;https://cdnjs.cloudflare.com/ajax/libs/Leaflet.awesome-markers/2.0.2/leaflet.awesome-markers.js&quot;&gt;&lt;/script&gt;\n",
       "    &lt;link rel=&quot;stylesheet&quot; href=&quot;https://cdn.jsdelivr.net/npm/leaflet@1.9.3/dist/leaflet.css&quot;/&gt;\n",
       "    &lt;link rel=&quot;stylesheet&quot; href=&quot;https://cdn.jsdelivr.net/npm/bootstrap@5.2.2/dist/css/bootstrap.min.css&quot;/&gt;\n",
       "    &lt;link rel=&quot;stylesheet&quot; href=&quot;https://netdna.bootstrapcdn.com/bootstrap/3.0.0/css/bootstrap.min.css&quot;/&gt;\n",
       "    &lt;link rel=&quot;stylesheet&quot; href=&quot;https://cdn.jsdelivr.net/npm/@fortawesome/fontawesome-free@6.2.0/css/all.min.css&quot;/&gt;\n",
       "    &lt;link rel=&quot;stylesheet&quot; href=&quot;https://cdnjs.cloudflare.com/ajax/libs/Leaflet.awesome-markers/2.0.2/leaflet.awesome-markers.css&quot;/&gt;\n",
       "    &lt;link rel=&quot;stylesheet&quot; href=&quot;https://cdn.jsdelivr.net/gh/python-visualization/folium/folium/templates/leaflet.awesome.rotate.min.css&quot;/&gt;\n",
       "    \n",
       "            &lt;meta name=&quot;viewport&quot; content=&quot;width=device-width,\n",
       "                initial-scale=1.0, maximum-scale=1.0, user-scalable=no&quot; /&gt;\n",
       "            &lt;style&gt;\n",
       "                #map_e70c7a20371bc7e3bdf65115c380c130 {\n",
       "                    position: relative;\n",
       "                    width: 800.0px;\n",
       "                    height: 600.0px;\n",
       "                    left: 0.0%;\n",
       "                    top: 0.0%;\n",
       "                }\n",
       "                .leaflet-container { font-size: 1rem; }\n",
       "            &lt;/style&gt;\n",
       "        \n",
       "&lt;/head&gt;\n",
       "&lt;body&gt;\n",
       "    \n",
       "    \n",
       "            &lt;div class=&quot;folium-map&quot; id=&quot;map_e70c7a20371bc7e3bdf65115c380c130&quot; &gt;&lt;/div&gt;\n",
       "        \n",
       "&lt;/body&gt;\n",
       "&lt;script&gt;\n",
       "    \n",
       "    \n",
       "            var map_e70c7a20371bc7e3bdf65115c380c130 = L.map(\n",
       "                &quot;map_e70c7a20371bc7e3bdf65115c380c130&quot;,\n",
       "                {\n",
       "                    center: [34.04695121951219, -118.30536585365853],\n",
       "                    crs: L.CRS.EPSG3857,\n",
       "                    zoom: 14,\n",
       "                    zoomControl: true,\n",
       "                    preferCanvas: false,\n",
       "                }\n",
       "            );\n",
       "\n",
       "            \n",
       "\n",
       "        \n",
       "    \n",
       "            var tile_layer_5e9c5d16bd5c17cb4716725f4fba8ecd = L.tileLayer(\n",
       "                &quot;https://tile.openstreetmap.org/{z}/{x}/{y}.png&quot;,\n",
       "                {&quot;attribution&quot;: &quot;\\u0026copy; \\u003ca href=\\&quot;https://www.openstreetmap.org/copyright\\&quot;\\u003eOpenStreetMap\\u003c/a\\u003e contributors&quot;, &quot;detectRetina&quot;: false, &quot;maxNativeZoom&quot;: 19, &quot;maxZoom&quot;: 19, &quot;minZoom&quot;: 0, &quot;noWrap&quot;: false, &quot;opacity&quot;: 1, &quot;subdomains&quot;: &quot;abc&quot;, &quot;tms&quot;: false}\n",
       "            );\n",
       "        \n",
       "    \n",
       "            tile_layer_5e9c5d16bd5c17cb4716725f4fba8ecd.addTo(map_e70c7a20371bc7e3bdf65115c380c130);\n",
       "        \n",
       "    \n",
       "            var marker_61bc6869fcb568ed5ac2cefc1862753c = L.marker(\n",
       "                [34.01, -118.3],\n",
       "                {}\n",
       "            ).addTo(map_e70c7a20371bc7e3bdf65115c380c130);\n",
       "        \n",
       "    \n",
       "        var popup_cec56949ee871a5f43028d2e9fc7891d = L.popup({&quot;maxWidth&quot;: &quot;100%&quot;});\n",
       "\n",
       "        \n",
       "            \n",
       "                var html_ba31987385ebb0782f59ce165028948c = $(`&lt;div id=&quot;html_ba31987385ebb0782f59ce165028948c&quot; style=&quot;width: 100.0%; height: 100.0%;&quot;&gt;Area name: Southwest&lt;/div&gt;`)[0];\n",
       "                popup_cec56949ee871a5f43028d2e9fc7891d.setContent(html_ba31987385ebb0782f59ce165028948c);\n",
       "            \n",
       "        \n",
       "\n",
       "        marker_61bc6869fcb568ed5ac2cefc1862753c.bindPopup(popup_cec56949ee871a5f43028d2e9fc7891d)\n",
       "        ;\n",
       "\n",
       "        \n",
       "    \n",
       "    \n",
       "            var marker_c3b8f6aadede57e1892203248694c0c2 = L.marker(\n",
       "                [34.05, -118.25],\n",
       "                {}\n",
       "            ).addTo(map_e70c7a20371bc7e3bdf65115c380c130);\n",
       "        \n",
       "    \n",
       "        var popup_4dd4041574082702131750a62a3fb52d = L.popup({&quot;maxWidth&quot;: &quot;100%&quot;});\n",
       "\n",
       "        \n",
       "            \n",
       "                var html_226ce2deabff01b52584bfc9e40b2081 = $(`&lt;div id=&quot;html_226ce2deabff01b52584bfc9e40b2081&quot; style=&quot;width: 100.0%; height: 100.0%;&quot;&gt;Area name: Central&lt;/div&gt;`)[0];\n",
       "                popup_4dd4041574082702131750a62a3fb52d.setContent(html_226ce2deabff01b52584bfc9e40b2081);\n",
       "            \n",
       "        \n",
       "\n",
       "        marker_c3b8f6aadede57e1892203248694c0c2.bindPopup(popup_4dd4041574082702131750a62a3fb52d)\n",
       "        ;\n",
       "\n",
       "        \n",
       "    \n",
       "    \n",
       "            var marker_b453896edc918ac9f65c9e987e538b47 = L.marker(\n",
       "                [34.17, -118.4],\n",
       "                {}\n",
       "            ).addTo(map_e70c7a20371bc7e3bdf65115c380c130);\n",
       "        \n",
       "    \n",
       "        var popup_04e66567bf5a2989fca2e6795e60832a = L.popup({&quot;maxWidth&quot;: &quot;100%&quot;});\n",
       "\n",
       "        \n",
       "            \n",
       "                var html_fe1cb3d786ba180fc4a0a82a6d3b4eea = $(`&lt;div id=&quot;html_fe1cb3d786ba180fc4a0a82a6d3b4eea&quot; style=&quot;width: 100.0%; height: 100.0%;&quot;&gt;Area name: N Hollywood&lt;/div&gt;`)[0];\n",
       "                popup_04e66567bf5a2989fca2e6795e60832a.setContent(html_fe1cb3d786ba180fc4a0a82a6d3b4eea);\n",
       "            \n",
       "        \n",
       "\n",
       "        marker_b453896edc918ac9f65c9e987e538b47.bindPopup(popup_04e66567bf5a2989fca2e6795e60832a)\n",
       "        ;\n",
       "\n",
       "        \n",
       "    \n",
       "    \n",
       "            var marker_d6991fda588cf961e68277cb921588fb = L.marker(\n",
       "                [34.22, -118.45],\n",
       "                {}\n",
       "            ).addTo(map_e70c7a20371bc7e3bdf65115c380c130);\n",
       "        \n",
       "    \n",
       "        var popup_304aff70f5985fae6fffb8fc9339bc1d = L.popup({&quot;maxWidth&quot;: &quot;100%&quot;});\n",
       "\n",
       "        \n",
       "            \n",
       "                var html_a27640eda8f1c37b0e37511db094c253 = $(`&lt;div id=&quot;html_a27640eda8f1c37b0e37511db094c253&quot; style=&quot;width: 100.0%; height: 100.0%;&quot;&gt;Area name: Mission&lt;/div&gt;`)[0];\n",
       "                popup_304aff70f5985fae6fffb8fc9339bc1d.setContent(html_a27640eda8f1c37b0e37511db094c253);\n",
       "            \n",
       "        \n",
       "\n",
       "        marker_d6991fda588cf961e68277cb921588fb.bindPopup(popup_304aff70f5985fae6fffb8fc9339bc1d)\n",
       "        ;\n",
       "\n",
       "        \n",
       "    \n",
       "    \n",
       "            var marker_85f8e4003bfdac6fca699a1529de8e23 = L.marker(\n",
       "                [34.05, -118.26],\n",
       "                {}\n",
       "            ).addTo(map_e70c7a20371bc7e3bdf65115c380c130);\n",
       "        \n",
       "    \n",
       "        var popup_3704613d7f0d992b9191f0d18dec1a13 = L.popup({&quot;maxWidth&quot;: &quot;100%&quot;});\n",
       "\n",
       "        \n",
       "            \n",
       "                var html_8be95c6b3ac3ed41013f061d094e530a = $(`&lt;div id=&quot;html_8be95c6b3ac3ed41013f061d094e530a&quot; style=&quot;width: 100.0%; height: 100.0%;&quot;&gt;Area name: Central&lt;/div&gt;`)[0];\n",
       "                popup_3704613d7f0d992b9191f0d18dec1a13.setContent(html_8be95c6b3ac3ed41013f061d094e530a);\n",
       "            \n",
       "        \n",
       "\n",
       "        marker_85f8e4003bfdac6fca699a1529de8e23.bindPopup(popup_3704613d7f0d992b9191f0d18dec1a13)\n",
       "        ;\n",
       "\n",
       "        \n",
       "    \n",
       "    \n",
       "            var marker_ba094054c08322901969ca5fffc0a433 = L.marker(\n",
       "                [34.04, -118.25],\n",
       "                {}\n",
       "            ).addTo(map_e70c7a20371bc7e3bdf65115c380c130);\n",
       "        \n",
       "    \n",
       "        var popup_cb010b9bd93ba54d0d861a8ba2a6b1f5 = L.popup({&quot;maxWidth&quot;: &quot;100%&quot;});\n",
       "\n",
       "        \n",
       "            \n",
       "                var html_c594d3f2dba32e32d8365dc997e9eb0d = $(`&lt;div id=&quot;html_c594d3f2dba32e32d8365dc997e9eb0d&quot; style=&quot;width: 100.0%; height: 100.0%;&quot;&gt;Area name: Central&lt;/div&gt;`)[0];\n",
       "                popup_cb010b9bd93ba54d0d861a8ba2a6b1f5.setContent(html_c594d3f2dba32e32d8365dc997e9eb0d);\n",
       "            \n",
       "        \n",
       "\n",
       "        marker_ba094054c08322901969ca5fffc0a433.bindPopup(popup_cb010b9bd93ba54d0d861a8ba2a6b1f5)\n",
       "        ;\n",
       "\n",
       "        \n",
       "    \n",
       "    \n",
       "            var marker_5c96891e41dac0f0b96c80e2616907f7 = L.marker(\n",
       "                [34.07, -118.24],\n",
       "                {}\n",
       "            ).addTo(map_e70c7a20371bc7e3bdf65115c380c130);\n",
       "        \n",
       "    \n",
       "        var popup_cd2abd994ca050b3b1e0ecbd7df28ca8 = L.popup({&quot;maxWidth&quot;: &quot;100%&quot;});\n",
       "\n",
       "        \n",
       "            \n",
       "                var html_9fac6469f62b4897dbf3acedc037e466 = $(`&lt;div id=&quot;html_9fac6469f62b4897dbf3acedc037e466&quot; style=&quot;width: 100.0%; height: 100.0%;&quot;&gt;Area name: Central&lt;/div&gt;`)[0];\n",
       "                popup_cd2abd994ca050b3b1e0ecbd7df28ca8.setContent(html_9fac6469f62b4897dbf3acedc037e466);\n",
       "            \n",
       "        \n",
       "\n",
       "        marker_5c96891e41dac0f0b96c80e2616907f7.bindPopup(popup_cd2abd994ca050b3b1e0ecbd7df28ca8)\n",
       "        ;\n",
       "\n",
       "        \n",
       "    \n",
       "    \n",
       "            var marker_2f119bd622d9fadb087edd4c7eb8ba00 = L.marker(\n",
       "                [34.04, -118.26],\n",
       "                {}\n",
       "            ).addTo(map_e70c7a20371bc7e3bdf65115c380c130);\n",
       "        \n",
       "    \n",
       "        var popup_a199956afbad5c46a7a56c96aef24f6a = L.popup({&quot;maxWidth&quot;: &quot;100%&quot;});\n",
       "\n",
       "        \n",
       "            \n",
       "                var html_90b037e38cdd1faddf4ddeff8c42ae6d = $(`&lt;div id=&quot;html_90b037e38cdd1faddf4ddeff8c42ae6d&quot; style=&quot;width: 100.0%; height: 100.0%;&quot;&gt;Area name: Central&lt;/div&gt;`)[0];\n",
       "                popup_a199956afbad5c46a7a56c96aef24f6a.setContent(html_90b037e38cdd1faddf4ddeff8c42ae6d);\n",
       "            \n",
       "        \n",
       "\n",
       "        marker_2f119bd622d9fadb087edd4c7eb8ba00.bindPopup(popup_a199956afbad5c46a7a56c96aef24f6a)\n",
       "        ;\n",
       "\n",
       "        \n",
       "    \n",
       "    \n",
       "            var marker_91b1d1776a3a6883a0e7419fe144f1da = L.marker(\n",
       "                [34.06, -118.24],\n",
       "                {}\n",
       "            ).addTo(map_e70c7a20371bc7e3bdf65115c380c130);\n",
       "        \n",
       "    \n",
       "        var popup_3e1f5ee7a8baca229d14ab2ecfde7b7e = L.popup({&quot;maxWidth&quot;: &quot;100%&quot;});\n",
       "\n",
       "        \n",
       "            \n",
       "                var html_a9ac908e1dcc662549a747aed1cac656 = $(`&lt;div id=&quot;html_a9ac908e1dcc662549a747aed1cac656&quot; style=&quot;width: 100.0%; height: 100.0%;&quot;&gt;Area name: Central&lt;/div&gt;`)[0];\n",
       "                popup_3e1f5ee7a8baca229d14ab2ecfde7b7e.setContent(html_a9ac908e1dcc662549a747aed1cac656);\n",
       "            \n",
       "        \n",
       "\n",
       "        marker_91b1d1776a3a6883a0e7419fe144f1da.bindPopup(popup_3e1f5ee7a8baca229d14ab2ecfde7b7e)\n",
       "        ;\n",
       "\n",
       "        \n",
       "    \n",
       "    \n",
       "            var marker_98ff5af248cd25db1ad1ee653bf2e461 = L.marker(\n",
       "                [34.05, -118.24],\n",
       "                {}\n",
       "            ).addTo(map_e70c7a20371bc7e3bdf65115c380c130);\n",
       "        \n",
       "    \n",
       "        var popup_a101954df73c71aa3c6166024dcc56ef = L.popup({&quot;maxWidth&quot;: &quot;100%&quot;});\n",
       "\n",
       "        \n",
       "            \n",
       "                var html_5b3572eaca7ee1028be5c317733a587b = $(`&lt;div id=&quot;html_5b3572eaca7ee1028be5c317733a587b&quot; style=&quot;width: 100.0%; height: 100.0%;&quot;&gt;Area name: Central&lt;/div&gt;`)[0];\n",
       "                popup_a101954df73c71aa3c6166024dcc56ef.setContent(html_5b3572eaca7ee1028be5c317733a587b);\n",
       "            \n",
       "        \n",
       "\n",
       "        marker_98ff5af248cd25db1ad1ee653bf2e461.bindPopup(popup_a101954df73c71aa3c6166024dcc56ef)\n",
       "        ;\n",
       "\n",
       "        \n",
       "    \n",
       "    \n",
       "            var marker_e3006520b24d517dbdf9e9e6d566ef22 = L.marker(\n",
       "                [34.2, -118.43],\n",
       "                {}\n",
       "            ).addTo(map_e70c7a20371bc7e3bdf65115c380c130);\n",
       "        \n",
       "    \n",
       "        var popup_bcfdf69ff9761a80d40c3cdd9b00574d = L.popup({&quot;maxWidth&quot;: &quot;100%&quot;});\n",
       "\n",
       "        \n",
       "            \n",
       "                var html_206f3c248fbde9c7da8cb431bbab0abd = $(`&lt;div id=&quot;html_206f3c248fbde9c7da8cb431bbab0abd&quot; style=&quot;width: 100.0%; height: 100.0%;&quot;&gt;Area name: Van Nuys&lt;/div&gt;`)[0];\n",
       "                popup_bcfdf69ff9761a80d40c3cdd9b00574d.setContent(html_206f3c248fbde9c7da8cb431bbab0abd);\n",
       "            \n",
       "        \n",
       "\n",
       "        marker_e3006520b24d517dbdf9e9e6d566ef22.bindPopup(popup_bcfdf69ff9761a80d40c3cdd9b00574d)\n",
       "        ;\n",
       "\n",
       "        \n",
       "    \n",
       "    \n",
       "            var marker_a6d15b2a061d1fe51da143ddf185e1db = L.marker(\n",
       "                [34.08, -118.37],\n",
       "                {}\n",
       "            ).addTo(map_e70c7a20371bc7e3bdf65115c380c130);\n",
       "        \n",
       "    \n",
       "        var popup_9242db8476aae05198ba244805e7f853 = L.popup({&quot;maxWidth&quot;: &quot;100%&quot;});\n",
       "\n",
       "        \n",
       "            \n",
       "                var html_08cc3b2c837e1f2ff384a42c5e0059f2 = $(`&lt;div id=&quot;html_08cc3b2c837e1f2ff384a42c5e0059f2&quot; style=&quot;width: 100.0%; height: 100.0%;&quot;&gt;Area name: Wilshire&lt;/div&gt;`)[0];\n",
       "                popup_9242db8476aae05198ba244805e7f853.setContent(html_08cc3b2c837e1f2ff384a42c5e0059f2);\n",
       "            \n",
       "        \n",
       "\n",
       "        marker_a6d15b2a061d1fe51da143ddf185e1db.bindPopup(popup_9242db8476aae05198ba244805e7f853)\n",
       "        ;\n",
       "\n",
       "        \n",
       "    \n",
       "    \n",
       "            var marker_284244294d31fb469110b4c77932ce0f = L.marker(\n",
       "                [34.07, -118.28],\n",
       "                {}\n",
       "            ).addTo(map_e70c7a20371bc7e3bdf65115c380c130);\n",
       "        \n",
       "    \n",
       "        var popup_e8bfcc5156db73d4e72cd6d86587c945 = L.popup({&quot;maxWidth&quot;: &quot;100%&quot;});\n",
       "\n",
       "        \n",
       "            \n",
       "                var html_bf43046d090048945518db19bb6ba19a = $(`&lt;div id=&quot;html_bf43046d090048945518db19bb6ba19a&quot; style=&quot;width: 100.0%; height: 100.0%;&quot;&gt;Area name: Rampart&lt;/div&gt;`)[0];\n",
       "                popup_e8bfcc5156db73d4e72cd6d86587c945.setContent(html_bf43046d090048945518db19bb6ba19a);\n",
       "            \n",
       "        \n",
       "\n",
       "        marker_284244294d31fb469110b4c77932ce0f.bindPopup(popup_e8bfcc5156db73d4e72cd6d86587c945)\n",
       "        ;\n",
       "\n",
       "        \n",
       "    \n",
       "    \n",
       "            var marker_f3b2c83f94a51e7ce06f8e03e869ca70 = L.marker(\n",
       "                [34.03, -118.27],\n",
       "                {}\n",
       "            ).addTo(map_e70c7a20371bc7e3bdf65115c380c130);\n",
       "        \n",
       "    \n",
       "        var popup_c9c4f2424676cc91a226b120e730586e = L.popup({&quot;maxWidth&quot;: &quot;100%&quot;});\n",
       "\n",
       "        \n",
       "            \n",
       "                var html_859764410870b89208598f8cf70bb5f1 = $(`&lt;div id=&quot;html_859764410870b89208598f8cf70bb5f1&quot; style=&quot;width: 100.0%; height: 100.0%;&quot;&gt;Area name: Central&lt;/div&gt;`)[0];\n",
       "                popup_c9c4f2424676cc91a226b120e730586e.setContent(html_859764410870b89208598f8cf70bb5f1);\n",
       "            \n",
       "        \n",
       "\n",
       "        marker_f3b2c83f94a51e7ce06f8e03e869ca70.bindPopup(popup_c9c4f2424676cc91a226b120e730586e)\n",
       "        ;\n",
       "\n",
       "        \n",
       "    \n",
       "    \n",
       "            var marker_1936080729188265151b4dd9fd0acad7 = L.marker(\n",
       "                [34.06, -118.23],\n",
       "                {}\n",
       "            ).addTo(map_e70c7a20371bc7e3bdf65115c380c130);\n",
       "        \n",
       "    \n",
       "        var popup_d5349539bb3960107fcc308aa6d5a3c6 = L.popup({&quot;maxWidth&quot;: &quot;100%&quot;});\n",
       "\n",
       "        \n",
       "            \n",
       "                var html_7cc94c8583881e9ee4662118ecb5bd9a = $(`&lt;div id=&quot;html_7cc94c8583881e9ee4662118ecb5bd9a&quot; style=&quot;width: 100.0%; height: 100.0%;&quot;&gt;Area name: Central&lt;/div&gt;`)[0];\n",
       "                popup_d5349539bb3960107fcc308aa6d5a3c6.setContent(html_7cc94c8583881e9ee4662118ecb5bd9a);\n",
       "            \n",
       "        \n",
       "\n",
       "        marker_1936080729188265151b4dd9fd0acad7.bindPopup(popup_d5349539bb3960107fcc308aa6d5a3c6)\n",
       "        ;\n",
       "\n",
       "        \n",
       "    \n",
       "    \n",
       "            var marker_0fa4692c446d33444ccee0cb9e7fa2af = L.marker(\n",
       "                [34.03, -118.26],\n",
       "                {}\n",
       "            ).addTo(map_e70c7a20371bc7e3bdf65115c380c130);\n",
       "        \n",
       "    \n",
       "        var popup_6244797784eeda68e63e345aaa23b033 = L.popup({&quot;maxWidth&quot;: &quot;100%&quot;});\n",
       "\n",
       "        \n",
       "            \n",
       "                var html_370721814e01c44d6f165c2a1cd59a91 = $(`&lt;div id=&quot;html_370721814e01c44d6f165c2a1cd59a91&quot; style=&quot;width: 100.0%; height: 100.0%;&quot;&gt;Area name: Central&lt;/div&gt;`)[0];\n",
       "                popup_6244797784eeda68e63e345aaa23b033.setContent(html_370721814e01c44d6f165c2a1cd59a91);\n",
       "            \n",
       "        \n",
       "\n",
       "        marker_0fa4692c446d33444ccee0cb9e7fa2af.bindPopup(popup_6244797784eeda68e63e345aaa23b033)\n",
       "        ;\n",
       "\n",
       "        \n",
       "    \n",
       "    \n",
       "            var marker_e786a3aa7ecda271f9fc1c61ccb54961 = L.marker(\n",
       "                [34.18, -118.45],\n",
       "                {}\n",
       "            ).addTo(map_e70c7a20371bc7e3bdf65115c380c130);\n",
       "        \n",
       "    \n",
       "        var popup_d7c85ee8250f23d184a775345d0cc678 = L.popup({&quot;maxWidth&quot;: &quot;100%&quot;});\n",
       "\n",
       "        \n",
       "            \n",
       "                var html_197358d62fb2dd953dba99b4d9014ad4 = $(`&lt;div id=&quot;html_197358d62fb2dd953dba99b4d9014ad4&quot; style=&quot;width: 100.0%; height: 100.0%;&quot;&gt;Area name: Van Nuys&lt;/div&gt;`)[0];\n",
       "                popup_d7c85ee8250f23d184a775345d0cc678.setContent(html_197358d62fb2dd953dba99b4d9014ad4);\n",
       "            \n",
       "        \n",
       "\n",
       "        marker_e786a3aa7ecda271f9fc1c61ccb54961.bindPopup(popup_d7c85ee8250f23d184a775345d0cc678)\n",
       "        ;\n",
       "\n",
       "        \n",
       "    \n",
       "    \n",
       "            var marker_51f2d22385c54a214703a16134ed9021 = L.marker(\n",
       "                [34.04, -118.24],\n",
       "                {}\n",
       "            ).addTo(map_e70c7a20371bc7e3bdf65115c380c130);\n",
       "        \n",
       "    \n",
       "        var popup_478a7801a5fe958387d9399f6fb3e732 = L.popup({&quot;maxWidth&quot;: &quot;100%&quot;});\n",
       "\n",
       "        \n",
       "            \n",
       "                var html_bc104987c0ce16c9c2df516dd3e77cdf = $(`&lt;div id=&quot;html_bc104987c0ce16c9c2df516dd3e77cdf&quot; style=&quot;width: 100.0%; height: 100.0%;&quot;&gt;Area name: Central&lt;/div&gt;`)[0];\n",
       "                popup_478a7801a5fe958387d9399f6fb3e732.setContent(html_bc104987c0ce16c9c2df516dd3e77cdf);\n",
       "            \n",
       "        \n",
       "\n",
       "        marker_51f2d22385c54a214703a16134ed9021.bindPopup(popup_478a7801a5fe958387d9399f6fb3e732)\n",
       "        ;\n",
       "\n",
       "        \n",
       "    \n",
       "    \n",
       "            var marker_59c9c072990270d75996d11b5c95d5cc = L.marker(\n",
       "                [33.81, -118.31],\n",
       "                {}\n",
       "            ).addTo(map_e70c7a20371bc7e3bdf65115c380c130);\n",
       "        \n",
       "    \n",
       "        var popup_160931fec3ed73e3480b4075cd3599bb = L.popup({&quot;maxWidth&quot;: &quot;100%&quot;});\n",
       "\n",
       "        \n",
       "            \n",
       "                var html_9b6f20bfac47d9cc87b23970695336d7 = $(`&lt;div id=&quot;html_9b6f20bfac47d9cc87b23970695336d7&quot; style=&quot;width: 100.0%; height: 100.0%;&quot;&gt;Area name: Harbor&lt;/div&gt;`)[0];\n",
       "                popup_160931fec3ed73e3480b4075cd3599bb.setContent(html_9b6f20bfac47d9cc87b23970695336d7);\n",
       "            \n",
       "        \n",
       "\n",
       "        marker_59c9c072990270d75996d11b5c95d5cc.bindPopup(popup_160931fec3ed73e3480b4075cd3599bb)\n",
       "        ;\n",
       "\n",
       "        \n",
       "    \n",
       "    \n",
       "            var marker_5f170040f836b861b32526d094c9f363 = L.marker(\n",
       "                [34.01, -118.45],\n",
       "                {}\n",
       "            ).addTo(map_e70c7a20371bc7e3bdf65115c380c130);\n",
       "        \n",
       "    \n",
       "        var popup_fdc5ec5b01fdf8f4896387ed35f21875 = L.popup({&quot;maxWidth&quot;: &quot;100%&quot;});\n",
       "\n",
       "        \n",
       "            \n",
       "                var html_dcb30bc2b15c220ec7c4061e7dbec522 = $(`&lt;div id=&quot;html_dcb30bc2b15c220ec7c4061e7dbec522&quot; style=&quot;width: 100.0%; height: 100.0%;&quot;&gt;Area name: Pacific&lt;/div&gt;`)[0];\n",
       "                popup_fdc5ec5b01fdf8f4896387ed35f21875.setContent(html_dcb30bc2b15c220ec7c4061e7dbec522);\n",
       "            \n",
       "        \n",
       "\n",
       "        marker_5f170040f836b861b32526d094c9f363.bindPopup(popup_fdc5ec5b01fdf8f4896387ed35f21875)\n",
       "        ;\n",
       "\n",
       "        \n",
       "    \n",
       "    \n",
       "            var marker_6f7efb744e9383cd652744e3a111241f = L.marker(\n",
       "                [34.04, -118.27],\n",
       "                {}\n",
       "            ).addTo(map_e70c7a20371bc7e3bdf65115c380c130);\n",
       "        \n",
       "    \n",
       "        var popup_7c9fa4a4b5d5dfbe904b908ffb479ebf = L.popup({&quot;maxWidth&quot;: &quot;100%&quot;});\n",
       "\n",
       "        \n",
       "            \n",
       "                var html_b88f44b324a98acccb220e91e5a23b61 = $(`&lt;div id=&quot;html_b88f44b324a98acccb220e91e5a23b61&quot; style=&quot;width: 100.0%; height: 100.0%;&quot;&gt;Area name: Central&lt;/div&gt;`)[0];\n",
       "                popup_7c9fa4a4b5d5dfbe904b908ffb479ebf.setContent(html_b88f44b324a98acccb220e91e5a23b61);\n",
       "            \n",
       "        \n",
       "\n",
       "        marker_6f7efb744e9383cd652744e3a111241f.bindPopup(popup_7c9fa4a4b5d5dfbe904b908ffb479ebf)\n",
       "        ;\n",
       "\n",
       "        \n",
       "    \n",
       "    \n",
       "            var marker_6c53f2442a77ce41c33f22732fe40da0 = L.marker(\n",
       "                [34.04, -118.23],\n",
       "                {}\n",
       "            ).addTo(map_e70c7a20371bc7e3bdf65115c380c130);\n",
       "        \n",
       "    \n",
       "        var popup_a7c42a594eee436cba9677352c04dac8 = L.popup({&quot;maxWidth&quot;: &quot;100%&quot;});\n",
       "\n",
       "        \n",
       "            \n",
       "                var html_f436ad33c82024b2bbc37138c58c5a2e = $(`&lt;div id=&quot;html_f436ad33c82024b2bbc37138c58c5a2e&quot; style=&quot;width: 100.0%; height: 100.0%;&quot;&gt;Area name: Central&lt;/div&gt;`)[0];\n",
       "                popup_a7c42a594eee436cba9677352c04dac8.setContent(html_f436ad33c82024b2bbc37138c58c5a2e);\n",
       "            \n",
       "        \n",
       "\n",
       "        marker_6c53f2442a77ce41c33f22732fe40da0.bindPopup(popup_a7c42a594eee436cba9677352c04dac8)\n",
       "        ;\n",
       "\n",
       "        \n",
       "    \n",
       "    \n",
       "            var marker_ba7d669aff9a8af77a3fc01cc5c1ac09 = L.marker(\n",
       "                [34.08, -118.22],\n",
       "                {}\n",
       "            ).addTo(map_e70c7a20371bc7e3bdf65115c380c130);\n",
       "        \n",
       "    \n",
       "        var popup_8ff97a3977e4f8f9a95fe1d962ca3522 = L.popup({&quot;maxWidth&quot;: &quot;100%&quot;});\n",
       "\n",
       "        \n",
       "            \n",
       "                var html_6f86fbf5454faf06a44bd8d87fa8e594 = $(`&lt;div id=&quot;html_6f86fbf5454faf06a44bd8d87fa8e594&quot; style=&quot;width: 100.0%; height: 100.0%;&quot;&gt;Area name: Hollenbeck&lt;/div&gt;`)[0];\n",
       "                popup_8ff97a3977e4f8f9a95fe1d962ca3522.setContent(html_6f86fbf5454faf06a44bd8d87fa8e594);\n",
       "            \n",
       "        \n",
       "\n",
       "        marker_ba7d669aff9a8af77a3fc01cc5c1ac09.bindPopup(popup_8ff97a3977e4f8f9a95fe1d962ca3522)\n",
       "        ;\n",
       "\n",
       "        \n",
       "    \n",
       "    \n",
       "            var marker_2828c19da251990ae0eb0859773bddd5 = L.marker(\n",
       "                [34.06, -118.38],\n",
       "                {}\n",
       "            ).addTo(map_e70c7a20371bc7e3bdf65115c380c130);\n",
       "        \n",
       "    \n",
       "        var popup_4437e97e96b6d9010fc16150a063dc04 = L.popup({&quot;maxWidth&quot;: &quot;100%&quot;});\n",
       "\n",
       "        \n",
       "            \n",
       "                var html_0069fc320152ccad2ba779180960d623 = $(`&lt;div id=&quot;html_0069fc320152ccad2ba779180960d623&quot; style=&quot;width: 100.0%; height: 100.0%;&quot;&gt;Area name: West LA&lt;/div&gt;`)[0];\n",
       "                popup_4437e97e96b6d9010fc16150a063dc04.setContent(html_0069fc320152ccad2ba779180960d623);\n",
       "            \n",
       "        \n",
       "\n",
       "        marker_2828c19da251990ae0eb0859773bddd5.bindPopup(popup_4437e97e96b6d9010fc16150a063dc04)\n",
       "        ;\n",
       "\n",
       "        \n",
       "    \n",
       "    \n",
       "            var marker_2d5ec9d1e7d1eb04031c60210b27f627 = L.marker(\n",
       "                [34.07, -118.25],\n",
       "                {}\n",
       "            ).addTo(map_e70c7a20371bc7e3bdf65115c380c130);\n",
       "        \n",
       "    \n",
       "        var popup_57bd4eac55ee8ac8fd0bf4b53c57c0a6 = L.popup({&quot;maxWidth&quot;: &quot;100%&quot;});\n",
       "\n",
       "        \n",
       "            \n",
       "                var html_3e118f3a332bb6f667c51d7fc74bd43d = $(`&lt;div id=&quot;html_3e118f3a332bb6f667c51d7fc74bd43d&quot; style=&quot;width: 100.0%; height: 100.0%;&quot;&gt;Area name: Central&lt;/div&gt;`)[0];\n",
       "                popup_57bd4eac55ee8ac8fd0bf4b53c57c0a6.setContent(html_3e118f3a332bb6f667c51d7fc74bd43d);\n",
       "            \n",
       "        \n",
       "\n",
       "        marker_2d5ec9d1e7d1eb04031c60210b27f627.bindPopup(popup_57bd4eac55ee8ac8fd0bf4b53c57c0a6)\n",
       "        ;\n",
       "\n",
       "        \n",
       "    \n",
       "    \n",
       "            var marker_fdfce4cbe31fe5893e5d398c6761ca41 = L.marker(\n",
       "                [34.07, -118.23],\n",
       "                {}\n",
       "            ).addTo(map_e70c7a20371bc7e3bdf65115c380c130);\n",
       "        \n",
       "    \n",
       "        var popup_f0f4d88268c08dd9d725a9d19e97aea8 = L.popup({&quot;maxWidth&quot;: &quot;100%&quot;});\n",
       "\n",
       "        \n",
       "            \n",
       "                var html_e4f235c209e2d69fca09bfc5054314eb = $(`&lt;div id=&quot;html_e4f235c209e2d69fca09bfc5054314eb&quot; style=&quot;width: 100.0%; height: 100.0%;&quot;&gt;Area name: Central&lt;/div&gt;`)[0];\n",
       "                popup_f0f4d88268c08dd9d725a9d19e97aea8.setContent(html_e4f235c209e2d69fca09bfc5054314eb);\n",
       "            \n",
       "        \n",
       "\n",
       "        marker_fdfce4cbe31fe5893e5d398c6761ca41.bindPopup(popup_f0f4d88268c08dd9d725a9d19e97aea8)\n",
       "        ;\n",
       "\n",
       "        \n",
       "    \n",
       "    \n",
       "            var marker_01afd0812d9f52ffc5b2c9a24b429a1a = L.marker(\n",
       "                [34.04, -118.21],\n",
       "                {}\n",
       "            ).addTo(map_e70c7a20371bc7e3bdf65115c380c130);\n",
       "        \n",
       "    \n",
       "        var popup_98dadba458b4e4319a08378248a125d5 = L.popup({&quot;maxWidth&quot;: &quot;100%&quot;});\n",
       "\n",
       "        \n",
       "            \n",
       "                var html_d4ca2ce9a0a6c3e40be5fdb5239c954b = $(`&lt;div id=&quot;html_d4ca2ce9a0a6c3e40be5fdb5239c954b&quot; style=&quot;width: 100.0%; height: 100.0%;&quot;&gt;Area name: Hollenbeck&lt;/div&gt;`)[0];\n",
       "                popup_98dadba458b4e4319a08378248a125d5.setContent(html_d4ca2ce9a0a6c3e40be5fdb5239c954b);\n",
       "            \n",
       "        \n",
       "\n",
       "        marker_01afd0812d9f52ffc5b2c9a24b429a1a.bindPopup(popup_98dadba458b4e4319a08378248a125d5)\n",
       "        ;\n",
       "\n",
       "        \n",
       "    \n",
       "    \n",
       "            var marker_4a9eae0219aade8a7186f80f7956f0c1 = L.marker(\n",
       "                [34.11, -118.42],\n",
       "                {}\n",
       "            ).addTo(map_e70c7a20371bc7e3bdf65115c380c130);\n",
       "        \n",
       "    \n",
       "        var popup_417358efe488051de52f17195740d4fc = L.popup({&quot;maxWidth&quot;: &quot;100%&quot;});\n",
       "\n",
       "        \n",
       "            \n",
       "                var html_962a108e5d789a157a7aaaf0ff616f53 = $(`&lt;div id=&quot;html_962a108e5d789a157a7aaaf0ff616f53&quot; style=&quot;width: 100.0%; height: 100.0%;&quot;&gt;Area name: West LA&lt;/div&gt;`)[0];\n",
       "                popup_417358efe488051de52f17195740d4fc.setContent(html_962a108e5d789a157a7aaaf0ff616f53);\n",
       "            \n",
       "        \n",
       "\n",
       "        marker_4a9eae0219aade8a7186f80f7956f0c1.bindPopup(popup_417358efe488051de52f17195740d4fc)\n",
       "        ;\n",
       "\n",
       "        \n",
       "    \n",
       "    \n",
       "            var marker_3ccf4c35a7f13fe96c18d284d20cebe3 = L.marker(\n",
       "                [34.06, -118.25],\n",
       "                {}\n",
       "            ).addTo(map_e70c7a20371bc7e3bdf65115c380c130);\n",
       "        \n",
       "    \n",
       "        var popup_4201403b7b85e9532d7f2bee3fac3e4e = L.popup({&quot;maxWidth&quot;: &quot;100%&quot;});\n",
       "\n",
       "        \n",
       "            \n",
       "                var html_6a803d84627cfde7feb50b2ab0175fe5 = $(`&lt;div id=&quot;html_6a803d84627cfde7feb50b2ab0175fe5&quot; style=&quot;width: 100.0%; height: 100.0%;&quot;&gt;Area name: Central&lt;/div&gt;`)[0];\n",
       "                popup_4201403b7b85e9532d7f2bee3fac3e4e.setContent(html_6a803d84627cfde7feb50b2ab0175fe5);\n",
       "            \n",
       "        \n",
       "\n",
       "        marker_3ccf4c35a7f13fe96c18d284d20cebe3.bindPopup(popup_4201403b7b85e9532d7f2bee3fac3e4e)\n",
       "        ;\n",
       "\n",
       "        \n",
       "    \n",
       "    \n",
       "            var marker_46ade1df828070058fbe7bd03df545a9 = L.marker(\n",
       "                [34.12, -118.19],\n",
       "                {}\n",
       "            ).addTo(map_e70c7a20371bc7e3bdf65115c380c130);\n",
       "        \n",
       "    \n",
       "        var popup_d8bdaf98528bae9da2a8b1ed4486c37d = L.popup({&quot;maxWidth&quot;: &quot;100%&quot;});\n",
       "\n",
       "        \n",
       "            \n",
       "                var html_6d8b5522ef15a8a338bda968df9e6751 = $(`&lt;div id=&quot;html_6d8b5522ef15a8a338bda968df9e6751&quot; style=&quot;width: 100.0%; height: 100.0%;&quot;&gt;Area name: Northeast&lt;/div&gt;`)[0];\n",
       "                popup_d8bdaf98528bae9da2a8b1ed4486c37d.setContent(html_6d8b5522ef15a8a338bda968df9e6751);\n",
       "            \n",
       "        \n",
       "\n",
       "        marker_46ade1df828070058fbe7bd03df545a9.bindPopup(popup_d8bdaf98528bae9da2a8b1ed4486c37d)\n",
       "        ;\n",
       "\n",
       "        \n",
       "    \n",
       "    \n",
       "            var marker_40ec7b302fe7402df80682053e85c58d = L.marker(\n",
       "                [34.05, -118.27],\n",
       "                {}\n",
       "            ).addTo(map_e70c7a20371bc7e3bdf65115c380c130);\n",
       "        \n",
       "    \n",
       "        var popup_176477880c097f2377e8ff7c94f293a8 = L.popup({&quot;maxWidth&quot;: &quot;100%&quot;});\n",
       "\n",
       "        \n",
       "            \n",
       "                var html_970ce62da01289d70f56eb5507689e10 = $(`&lt;div id=&quot;html_970ce62da01289d70f56eb5507689e10&quot; style=&quot;width: 100.0%; height: 100.0%;&quot;&gt;Area name: Central&lt;/div&gt;`)[0];\n",
       "                popup_176477880c097f2377e8ff7c94f293a8.setContent(html_970ce62da01289d70f56eb5507689e10);\n",
       "            \n",
       "        \n",
       "\n",
       "        marker_40ec7b302fe7402df80682053e85c58d.bindPopup(popup_176477880c097f2377e8ff7c94f293a8)\n",
       "        ;\n",
       "\n",
       "        \n",
       "    \n",
       "    \n",
       "            var marker_2e1cde13f2a72110c7565ffbe4098636 = L.marker(\n",
       "                [34.27, -118.36],\n",
       "                {}\n",
       "            ).addTo(map_e70c7a20371bc7e3bdf65115c380c130);\n",
       "        \n",
       "    \n",
       "        var popup_9d341bbeaa689156edb6996ba126669d = L.popup({&quot;maxWidth&quot;: &quot;100%&quot;});\n",
       "\n",
       "        \n",
       "            \n",
       "                var html_4f62072f08133348c45ba5fbdd598fa7 = $(`&lt;div id=&quot;html_4f62072f08133348c45ba5fbdd598fa7&quot; style=&quot;width: 100.0%; height: 100.0%;&quot;&gt;Area name: Foothill&lt;/div&gt;`)[0];\n",
       "                popup_9d341bbeaa689156edb6996ba126669d.setContent(html_4f62072f08133348c45ba5fbdd598fa7);\n",
       "            \n",
       "        \n",
       "\n",
       "        marker_2e1cde13f2a72110c7565ffbe4098636.bindPopup(popup_9d341bbeaa689156edb6996ba126669d)\n",
       "        ;\n",
       "\n",
       "        \n",
       "    \n",
       "    \n",
       "            var marker_faa39795df19c49f4d8aef5f52769e88 = L.marker(\n",
       "                [34.1, -118.33],\n",
       "                {}\n",
       "            ).addTo(map_e70c7a20371bc7e3bdf65115c380c130);\n",
       "        \n",
       "    \n",
       "        var popup_63cf46e39d675e929a6ba3845bd5140a = L.popup({&quot;maxWidth&quot;: &quot;100%&quot;});\n",
       "\n",
       "        \n",
       "            \n",
       "                var html_b8737c92567302949a0cf6b1d16e807d = $(`&lt;div id=&quot;html_b8737c92567302949a0cf6b1d16e807d&quot; style=&quot;width: 100.0%; height: 100.0%;&quot;&gt;Area name: Hollywood&lt;/div&gt;`)[0];\n",
       "                popup_63cf46e39d675e929a6ba3845bd5140a.setContent(html_b8737c92567302949a0cf6b1d16e807d);\n",
       "            \n",
       "        \n",
       "\n",
       "        marker_faa39795df19c49f4d8aef5f52769e88.bindPopup(popup_63cf46e39d675e929a6ba3845bd5140a)\n",
       "        ;\n",
       "\n",
       "        \n",
       "    \n",
       "    \n",
       "            var marker_62d4affe735e35973ffe9a5f4672c1a2 = L.marker(\n",
       "                [34.1, -118.34],\n",
       "                {}\n",
       "            ).addTo(map_e70c7a20371bc7e3bdf65115c380c130);\n",
       "        \n",
       "    \n",
       "        var popup_899001b3b722b478ba81587ff0457967 = L.popup({&quot;maxWidth&quot;: &quot;100%&quot;});\n",
       "\n",
       "        \n",
       "            \n",
       "                var html_bcf34c8de8991e643fa2c68136b80511 = $(`&lt;div id=&quot;html_bcf34c8de8991e643fa2c68136b80511&quot; style=&quot;width: 100.0%; height: 100.0%;&quot;&gt;Area name: Hollywood&lt;/div&gt;`)[0];\n",
       "                popup_899001b3b722b478ba81587ff0457967.setContent(html_bcf34c8de8991e643fa2c68136b80511);\n",
       "            \n",
       "        \n",
       "\n",
       "        marker_62d4affe735e35973ffe9a5f4672c1a2.bindPopup(popup_899001b3b722b478ba81587ff0457967)\n",
       "        ;\n",
       "\n",
       "        \n",
       "    \n",
       "    \n",
       "            var marker_b9fd8d624e188c7dd20b60aab3b5ea27 = L.marker(\n",
       "                [34.02, -118.3],\n",
       "                {}\n",
       "            ).addTo(map_e70c7a20371bc7e3bdf65115c380c130);\n",
       "        \n",
       "    \n",
       "        var popup_df294ea98a4f471ab5e79f261a61363a = L.popup({&quot;maxWidth&quot;: &quot;100%&quot;});\n",
       "\n",
       "        \n",
       "            \n",
       "                var html_9684bff60dd63b691620d9609ff6b0bd = $(`&lt;div id=&quot;html_9684bff60dd63b691620d9609ff6b0bd&quot; style=&quot;width: 100.0%; height: 100.0%;&quot;&gt;Area name: Southwest&lt;/div&gt;`)[0];\n",
       "                popup_df294ea98a4f471ab5e79f261a61363a.setContent(html_9684bff60dd63b691620d9609ff6b0bd);\n",
       "            \n",
       "        \n",
       "\n",
       "        marker_b9fd8d624e188c7dd20b60aab3b5ea27.bindPopup(popup_df294ea98a4f471ab5e79f261a61363a)\n",
       "        ;\n",
       "\n",
       "        \n",
       "    \n",
       "    \n",
       "            var marker_e29217c9543db13e95685a35440b9024 = L.marker(\n",
       "                [34.23, -118.37],\n",
       "                {}\n",
       "            ).addTo(map_e70c7a20371bc7e3bdf65115c380c130);\n",
       "        \n",
       "    \n",
       "        var popup_476ece8b9755611f2749fed0114401df = L.popup({&quot;maxWidth&quot;: &quot;100%&quot;});\n",
       "\n",
       "        \n",
       "            \n",
       "                var html_e8ca6d3e36c365e875008da36c77ef99 = $(`&lt;div id=&quot;html_e8ca6d3e36c365e875008da36c77ef99&quot; style=&quot;width: 100.0%; height: 100.0%;&quot;&gt;Area name: Foothill&lt;/div&gt;`)[0];\n",
       "                popup_476ece8b9755611f2749fed0114401df.setContent(html_e8ca6d3e36c365e875008da36c77ef99);\n",
       "            \n",
       "        \n",
       "\n",
       "        marker_e29217c9543db13e95685a35440b9024.bindPopup(popup_476ece8b9755611f2749fed0114401df)\n",
       "        ;\n",
       "\n",
       "        \n",
       "    \n",
       "    \n",
       "            var marker_b06f6d3b7e73fa9f94f400c41c8c5532 = L.marker(\n",
       "                [34.05, -118.23],\n",
       "                {}\n",
       "            ).addTo(map_e70c7a20371bc7e3bdf65115c380c130);\n",
       "        \n",
       "    \n",
       "        var popup_d0bc41ab2480e3b2004f19b4f6840b98 = L.popup({&quot;maxWidth&quot;: &quot;100%&quot;});\n",
       "\n",
       "        \n",
       "            \n",
       "                var html_4c48e5b94263da8ac069f16b12cedbec = $(`&lt;div id=&quot;html_4c48e5b94263da8ac069f16b12cedbec&quot; style=&quot;width: 100.0%; height: 100.0%;&quot;&gt;Area name: Central&lt;/div&gt;`)[0];\n",
       "                popup_d0bc41ab2480e3b2004f19b4f6840b98.setContent(html_4c48e5b94263da8ac069f16b12cedbec);\n",
       "            \n",
       "        \n",
       "\n",
       "        marker_b06f6d3b7e73fa9f94f400c41c8c5532.bindPopup(popup_d0bc41ab2480e3b2004f19b4f6840b98)\n",
       "        ;\n",
       "\n",
       "        \n",
       "    \n",
       "    \n",
       "            var marker_2b36f3b4c6ea0e88b59b68e338c6d833 = L.marker(\n",
       "                [34.06, -118.27],\n",
       "                {}\n",
       "            ).addTo(map_e70c7a20371bc7e3bdf65115c380c130);\n",
       "        \n",
       "    \n",
       "        var popup_5f7b0d85c8604d800fd646caa78bfabb = L.popup({&quot;maxWidth&quot;: &quot;100%&quot;});\n",
       "\n",
       "        \n",
       "            \n",
       "                var html_8ab9ea34be19c125056b3f18490e984e = $(`&lt;div id=&quot;html_8ab9ea34be19c125056b3f18490e984e&quot; style=&quot;width: 100.0%; height: 100.0%;&quot;&gt;Area name: Rampart&lt;/div&gt;`)[0];\n",
       "                popup_5f7b0d85c8604d800fd646caa78bfabb.setContent(html_8ab9ea34be19c125056b3f18490e984e);\n",
       "            \n",
       "        \n",
       "\n",
       "        marker_2b36f3b4c6ea0e88b59b68e338c6d833.bindPopup(popup_5f7b0d85c8604d800fd646caa78bfabb)\n",
       "        ;\n",
       "\n",
       "        \n",
       "    \n",
       "    \n",
       "            var marker_39e58c90999d11bb2a4222ab1dc8a026 = L.marker(\n",
       "                [34.2, -118.46],\n",
       "                {}\n",
       "            ).addTo(map_e70c7a20371bc7e3bdf65115c380c130);\n",
       "        \n",
       "    \n",
       "        var popup_57ce0b9d140addb2d3244e1f4fac781f = L.popup({&quot;maxWidth&quot;: &quot;100%&quot;});\n",
       "\n",
       "        \n",
       "            \n",
       "                var html_e758f0c6ec252936e67c7bbf9fc2f0ac = $(`&lt;div id=&quot;html_e758f0c6ec252936e67c7bbf9fc2f0ac&quot; style=&quot;width: 100.0%; height: 100.0%;&quot;&gt;Area name: Van Nuys&lt;/div&gt;`)[0];\n",
       "                popup_57ce0b9d140addb2d3244e1f4fac781f.setContent(html_e758f0c6ec252936e67c7bbf9fc2f0ac);\n",
       "            \n",
       "        \n",
       "\n",
       "        marker_39e58c90999d11bb2a4222ab1dc8a026.bindPopup(popup_57ce0b9d140addb2d3244e1f4fac781f)\n",
       "        ;\n",
       "\n",
       "        \n",
       "    \n",
       "    \n",
       "            var marker_b264cdfcc0a792a9904cc56bff59acad = L.marker(\n",
       "                [34.21, -118.56],\n",
       "                {}\n",
       "            ).addTo(map_e70c7a20371bc7e3bdf65115c380c130);\n",
       "        \n",
       "    \n",
       "        var popup_eec17b2ebdf91f09b9e0f63db821d178 = L.popup({&quot;maxWidth&quot;: &quot;100%&quot;});\n",
       "\n",
       "        \n",
       "            \n",
       "                var html_eeb21846a9342bfc37d1e8e6cf9d1ac9 = $(`&lt;div id=&quot;html_eeb21846a9342bfc37d1e8e6cf9d1ac9&quot; style=&quot;width: 100.0%; height: 100.0%;&quot;&gt;Area name: West Valley&lt;/div&gt;`)[0];\n",
       "                popup_eec17b2ebdf91f09b9e0f63db821d178.setContent(html_eeb21846a9342bfc37d1e8e6cf9d1ac9);\n",
       "            \n",
       "        \n",
       "\n",
       "        marker_b264cdfcc0a792a9904cc56bff59acad.bindPopup(popup_eec17b2ebdf91f09b9e0f63db821d178)\n",
       "        ;\n",
       "\n",
       "        \n",
       "    \n",
       "    \n",
       "            var marker_76b19217310ae5b0c41b62c0baad29cd = L.marker(\n",
       "                [33.78, -118.28],\n",
       "                {}\n",
       "            ).addTo(map_e70c7a20371bc7e3bdf65115c380c130);\n",
       "        \n",
       "    \n",
       "        var popup_20de9766334dfb00a2d2a9b99eeb71c5 = L.popup({&quot;maxWidth&quot;: &quot;100%&quot;});\n",
       "\n",
       "        \n",
       "            \n",
       "                var html_ed738d89b418fe134209e51d5e9fa607 = $(`&lt;div id=&quot;html_ed738d89b418fe134209e51d5e9fa607&quot; style=&quot;width: 100.0%; height: 100.0%;&quot;&gt;Area name: Harbor&lt;/div&gt;`)[0];\n",
       "                popup_20de9766334dfb00a2d2a9b99eeb71c5.setContent(html_ed738d89b418fe134209e51d5e9fa607);\n",
       "            \n",
       "        \n",
       "\n",
       "        marker_76b19217310ae5b0c41b62c0baad29cd.bindPopup(popup_20de9766334dfb00a2d2a9b99eeb71c5)\n",
       "        ;\n",
       "\n",
       "        \n",
       "    \n",
       "    \n",
       "            var marker_5e42be1cf25557e20f6e767269cdbb3b = L.marker(\n",
       "                [34.05, -118.28],\n",
       "                {}\n",
       "            ).addTo(map_e70c7a20371bc7e3bdf65115c380c130);\n",
       "        \n",
       "    \n",
       "        var popup_1203743b9e5c85edd93dbf468375f6f7 = L.popup({&quot;maxWidth&quot;: &quot;100%&quot;});\n",
       "\n",
       "        \n",
       "            \n",
       "                var html_64a80426986a0bd75b0cf5f9f1f46963 = $(`&lt;div id=&quot;html_64a80426986a0bd75b0cf5f9f1f46963&quot; style=&quot;width: 100.0%; height: 100.0%;&quot;&gt;Area name: Rampart&lt;/div&gt;`)[0];\n",
       "                popup_1203743b9e5c85edd93dbf468375f6f7.setContent(html_64a80426986a0bd75b0cf5f9f1f46963);\n",
       "            \n",
       "        \n",
       "\n",
       "        marker_5e42be1cf25557e20f6e767269cdbb3b.bindPopup(popup_1203743b9e5c85edd93dbf468375f6f7)\n",
       "        ;\n",
       "\n",
       "        \n",
       "    \n",
       "    \n",
       "            var marker_a88e105b0568f09e86c49fd23921b06e = L.marker(\n",
       "                [33.72, -118.29],\n",
       "                {}\n",
       "            ).addTo(map_e70c7a20371bc7e3bdf65115c380c130);\n",
       "        \n",
       "    \n",
       "        var popup_1d5f31cc561a5c4e7b0ba0019df722d4 = L.popup({&quot;maxWidth&quot;: &quot;100%&quot;});\n",
       "\n",
       "        \n",
       "            \n",
       "                var html_003e4e47dd571429f158a8767cfdf286 = $(`&lt;div id=&quot;html_003e4e47dd571429f158a8767cfdf286&quot; style=&quot;width: 100.0%; height: 100.0%;&quot;&gt;Area name: Harbor&lt;/div&gt;`)[0];\n",
       "                popup_1d5f31cc561a5c4e7b0ba0019df722d4.setContent(html_003e4e47dd571429f158a8767cfdf286);\n",
       "            \n",
       "        \n",
       "\n",
       "        marker_a88e105b0568f09e86c49fd23921b06e.bindPopup(popup_1d5f31cc561a5c4e7b0ba0019df722d4)\n",
       "        ;\n",
       "\n",
       "        \n",
       "    \n",
       "    \n",
       "            var marker_7e95fcaf209b2a4946ffc3f1118b47b5 = L.marker(\n",
       "                [34.08, -118.26],\n",
       "                {}\n",
       "            ).addTo(map_e70c7a20371bc7e3bdf65115c380c130);\n",
       "        \n",
       "    \n",
       "        var popup_e93236845eadabfcfa411e13e58a6d5a = L.popup({&quot;maxWidth&quot;: &quot;100%&quot;});\n",
       "\n",
       "        \n",
       "            \n",
       "                var html_aa7a1d07fb51b4cdb00796f8096f01d8 = $(`&lt;div id=&quot;html_aa7a1d07fb51b4cdb00796f8096f01d8&quot; style=&quot;width: 100.0%; height: 100.0%;&quot;&gt;Area name: Northeast&lt;/div&gt;`)[0];\n",
       "                popup_e93236845eadabfcfa411e13e58a6d5a.setContent(html_aa7a1d07fb51b4cdb00796f8096f01d8);\n",
       "            \n",
       "        \n",
       "\n",
       "        marker_7e95fcaf209b2a4946ffc3f1118b47b5.bindPopup(popup_e93236845eadabfcfa411e13e58a6d5a)\n",
       "        ;\n",
       "\n",
       "        \n",
       "    \n",
       "    \n",
       "            var marker_e19ff7294eb1c479f5ff7eb2b9b66efa = L.marker(\n",
       "                [33.79, -118.29],\n",
       "                {}\n",
       "            ).addTo(map_e70c7a20371bc7e3bdf65115c380c130);\n",
       "        \n",
       "    \n",
       "        var popup_80f024ba18f8c142b748b12616eb6d4e = L.popup({&quot;maxWidth&quot;: &quot;100%&quot;});\n",
       "\n",
       "        \n",
       "            \n",
       "                var html_1c05975af34559235a79dd6590a1b6c9 = $(`&lt;div id=&quot;html_1c05975af34559235a79dd6590a1b6c9&quot; style=&quot;width: 100.0%; height: 100.0%;&quot;&gt;Area name: Harbor&lt;/div&gt;`)[0];\n",
       "                popup_80f024ba18f8c142b748b12616eb6d4e.setContent(html_1c05975af34559235a79dd6590a1b6c9);\n",
       "            \n",
       "        \n",
       "\n",
       "        marker_e19ff7294eb1c479f5ff7eb2b9b66efa.bindPopup(popup_80f024ba18f8c142b748b12616eb6d4e)\n",
       "        ;\n",
       "\n",
       "        \n",
       "    \n",
       "    \n",
       "            var marker_1aceb696aeec9eebdf795b742ef17e5a = L.marker(\n",
       "                [33.98, -118.32],\n",
       "                {}\n",
       "            ).addTo(map_e70c7a20371bc7e3bdf65115c380c130);\n",
       "        \n",
       "    \n",
       "        var popup_8bba2a9f85793a14094a94259e0e1609 = L.popup({&quot;maxWidth&quot;: &quot;100%&quot;});\n",
       "\n",
       "        \n",
       "            \n",
       "                var html_16d281a2f241fc5b6762cc3f41e0e326 = $(`&lt;div id=&quot;html_16d281a2f241fc5b6762cc3f41e0e326&quot; style=&quot;width: 100.0%; height: 100.0%;&quot;&gt;Area name: 77th Street&lt;/div&gt;`)[0];\n",
       "                popup_8bba2a9f85793a14094a94259e0e1609.setContent(html_16d281a2f241fc5b6762cc3f41e0e326);\n",
       "            \n",
       "        \n",
       "\n",
       "        marker_1aceb696aeec9eebdf795b742ef17e5a.bindPopup(popup_8bba2a9f85793a14094a94259e0e1609)\n",
       "        ;\n",
       "\n",
       "        \n",
       "    \n",
       "    \n",
       "            var marker_78eeb93d692ca6c3d5dce354e6a58b24 = L.marker(\n",
       "                [34.21, -118.41],\n",
       "                {}\n",
       "            ).addTo(map_e70c7a20371bc7e3bdf65115c380c130);\n",
       "        \n",
       "    \n",
       "        var popup_ac6b3726b2423f9d948b13b704db9e13 = L.popup({&quot;maxWidth&quot;: &quot;100%&quot;});\n",
       "\n",
       "        \n",
       "            \n",
       "                var html_fe48ce0c4638339e7741e65d36a2cb9c = $(`&lt;div id=&quot;html_fe48ce0c4638339e7741e65d36a2cb9c&quot; style=&quot;width: 100.0%; height: 100.0%;&quot;&gt;Area name: N Hollywood&lt;/div&gt;`)[0];\n",
       "                popup_ac6b3726b2423f9d948b13b704db9e13.setContent(html_fe48ce0c4638339e7741e65d36a2cb9c);\n",
       "            \n",
       "        \n",
       "\n",
       "        marker_78eeb93d692ca6c3d5dce354e6a58b24.bindPopup(popup_ac6b3726b2423f9d948b13b704db9e13)\n",
       "        ;\n",
       "\n",
       "        \n",
       "    \n",
       "    \n",
       "            var marker_a16cf5cbcc5ffbfc356bade97417e911 = L.marker(\n",
       "                [34.1, -118.32],\n",
       "                {}\n",
       "            ).addTo(map_e70c7a20371bc7e3bdf65115c380c130);\n",
       "        \n",
       "    \n",
       "        var popup_466cae35e08e548c8992f64117afbd58 = L.popup({&quot;maxWidth&quot;: &quot;100%&quot;});\n",
       "\n",
       "        \n",
       "            \n",
       "                var html_e37ca6d2a17d73bf1b8b2ae2f16a2b18 = $(`&lt;div id=&quot;html_e37ca6d2a17d73bf1b8b2ae2f16a2b18&quot; style=&quot;width: 100.0%; height: 100.0%;&quot;&gt;Area name: Hollywood&lt;/div&gt;`)[0];\n",
       "                popup_466cae35e08e548c8992f64117afbd58.setContent(html_e37ca6d2a17d73bf1b8b2ae2f16a2b18);\n",
       "            \n",
       "        \n",
       "\n",
       "        marker_a16cf5cbcc5ffbfc356bade97417e911.bindPopup(popup_466cae35e08e548c8992f64117afbd58)\n",
       "        ;\n",
       "\n",
       "        \n",
       "    \n",
       "    \n",
       "            var marker_f08f1eeaa80586e0e93100fd0dc010f7 = L.marker(\n",
       "                [34.08, -118.3],\n",
       "                {}\n",
       "            ).addTo(map_e70c7a20371bc7e3bdf65115c380c130);\n",
       "        \n",
       "    \n",
       "        var popup_d1c98efaea319aae9efa46f3463430e1 = L.popup({&quot;maxWidth&quot;: &quot;100%&quot;});\n",
       "\n",
       "        \n",
       "            \n",
       "                var html_e62f62fe4b8f213a048fb3d12c22707c = $(`&lt;div id=&quot;html_e62f62fe4b8f213a048fb3d12c22707c&quot; style=&quot;width: 100.0%; height: 100.0%;&quot;&gt;Area name: Rampart&lt;/div&gt;`)[0];\n",
       "                popup_d1c98efaea319aae9efa46f3463430e1.setContent(html_e62f62fe4b8f213a048fb3d12c22707c);\n",
       "            \n",
       "        \n",
       "\n",
       "        marker_f08f1eeaa80586e0e93100fd0dc010f7.bindPopup(popup_d1c98efaea319aae9efa46f3463430e1)\n",
       "        ;\n",
       "\n",
       "        \n",
       "    \n",
       "    \n",
       "            var marker_96174b408f25516299fba1852152b4bb = L.marker(\n",
       "                [34.05, -118.3],\n",
       "                {}\n",
       "            ).addTo(map_e70c7a20371bc7e3bdf65115c380c130);\n",
       "        \n",
       "    \n",
       "        var popup_eb106acc4d4abd1535ea99e30e7a169c = L.popup({&quot;maxWidth&quot;: &quot;100%&quot;});\n",
       "\n",
       "        \n",
       "            \n",
       "                var html_410d53ed67df02a020bb484b0a0365de = $(`&lt;div id=&quot;html_410d53ed67df02a020bb484b0a0365de&quot; style=&quot;width: 100.0%; height: 100.0%;&quot;&gt;Area name: Olympic&lt;/div&gt;`)[0];\n",
       "                popup_eb106acc4d4abd1535ea99e30e7a169c.setContent(html_410d53ed67df02a020bb484b0a0365de);\n",
       "            \n",
       "        \n",
       "\n",
       "        marker_96174b408f25516299fba1852152b4bb.bindPopup(popup_eb106acc4d4abd1535ea99e30e7a169c)\n",
       "        ;\n",
       "\n",
       "        \n",
       "    \n",
       "    \n",
       "            var marker_bb225b324bfa1bfe9c97d3f582eef710 = L.marker(\n",
       "                [34.28, -118.47],\n",
       "                {}\n",
       "            ).addTo(map_e70c7a20371bc7e3bdf65115c380c130);\n",
       "        \n",
       "    \n",
       "        var popup_52d220a35b9d68faf1100f8e44c13f3e = L.popup({&quot;maxWidth&quot;: &quot;100%&quot;});\n",
       "\n",
       "        \n",
       "            \n",
       "                var html_9728d639c4b7e5cc6cffb8bfdf8d8b36 = $(`&lt;div id=&quot;html_9728d639c4b7e5cc6cffb8bfdf8d8b36&quot; style=&quot;width: 100.0%; height: 100.0%;&quot;&gt;Area name: Devonshire&lt;/div&gt;`)[0];\n",
       "                popup_52d220a35b9d68faf1100f8e44c13f3e.setContent(html_9728d639c4b7e5cc6cffb8bfdf8d8b36);\n",
       "            \n",
       "        \n",
       "\n",
       "        marker_bb225b324bfa1bfe9c97d3f582eef710.bindPopup(popup_52d220a35b9d68faf1100f8e44c13f3e)\n",
       "        ;\n",
       "\n",
       "        \n",
       "    \n",
       "    \n",
       "            var marker_47f5a137264cd158cfd1a42c6d77212e = L.marker(\n",
       "                [33.71, -118.29],\n",
       "                {}\n",
       "            ).addTo(map_e70c7a20371bc7e3bdf65115c380c130);\n",
       "        \n",
       "    \n",
       "        var popup_901ba1e6410bdcff02eda4c0aff35849 = L.popup({&quot;maxWidth&quot;: &quot;100%&quot;});\n",
       "\n",
       "        \n",
       "            \n",
       "                var html_b992343b85cea6aa5b9931bc7ba2f9df = $(`&lt;div id=&quot;html_b992343b85cea6aa5b9931bc7ba2f9df&quot; style=&quot;width: 100.0%; height: 100.0%;&quot;&gt;Area name: Harbor&lt;/div&gt;`)[0];\n",
       "                popup_901ba1e6410bdcff02eda4c0aff35849.setContent(html_b992343b85cea6aa5b9931bc7ba2f9df);\n",
       "            \n",
       "        \n",
       "\n",
       "        marker_47f5a137264cd158cfd1a42c6d77212e.bindPopup(popup_901ba1e6410bdcff02eda4c0aff35849)\n",
       "        ;\n",
       "\n",
       "        \n",
       "    \n",
       "    \n",
       "            var marker_c044059b76c8b891275295fa18623fcc = L.marker(\n",
       "                [34.06, -118.34],\n",
       "                {}\n",
       "            ).addTo(map_e70c7a20371bc7e3bdf65115c380c130);\n",
       "        \n",
       "    \n",
       "        var popup_2b0b99cff4f128ecf4a7f98689b92f03 = L.popup({&quot;maxWidth&quot;: &quot;100%&quot;});\n",
       "\n",
       "        \n",
       "            \n",
       "                var html_6e21abfa510dcc40f79dbf8d70f540d0 = $(`&lt;div id=&quot;html_6e21abfa510dcc40f79dbf8d70f540d0&quot; style=&quot;width: 100.0%; height: 100.0%;&quot;&gt;Area name: Wilshire&lt;/div&gt;`)[0];\n",
       "                popup_2b0b99cff4f128ecf4a7f98689b92f03.setContent(html_6e21abfa510dcc40f79dbf8d70f540d0);\n",
       "            \n",
       "        \n",
       "\n",
       "        marker_c044059b76c8b891275295fa18623fcc.bindPopup(popup_2b0b99cff4f128ecf4a7f98689b92f03)\n",
       "        ;\n",
       "\n",
       "        \n",
       "    \n",
       "    \n",
       "            var marker_0674f8a6f216a58e19d5b4bb379e9dbe = L.marker(\n",
       "                [34.14, -118.22],\n",
       "                {}\n",
       "            ).addTo(map_e70c7a20371bc7e3bdf65115c380c130);\n",
       "        \n",
       "    \n",
       "        var popup_398bd9d93546dcfb77885124522e12ef = L.popup({&quot;maxWidth&quot;: &quot;100%&quot;});\n",
       "\n",
       "        \n",
       "            \n",
       "                var html_3d985a0a4eea35c636252ea3b97757e6 = $(`&lt;div id=&quot;html_3d985a0a4eea35c636252ea3b97757e6&quot; style=&quot;width: 100.0%; height: 100.0%;&quot;&gt;Area name: Northeast&lt;/div&gt;`)[0];\n",
       "                popup_398bd9d93546dcfb77885124522e12ef.setContent(html_3d985a0a4eea35c636252ea3b97757e6);\n",
       "            \n",
       "        \n",
       "\n",
       "        marker_0674f8a6f216a58e19d5b4bb379e9dbe.bindPopup(popup_398bd9d93546dcfb77885124522e12ef)\n",
       "        ;\n",
       "\n",
       "        \n",
       "    \n",
       "    \n",
       "            var marker_0e4ca79c5a407dbc1dd20cfb766bd76b = L.marker(\n",
       "                [34.02, -118.2],\n",
       "                {}\n",
       "            ).addTo(map_e70c7a20371bc7e3bdf65115c380c130);\n",
       "        \n",
       "    \n",
       "        var popup_491f9050887f5a43f08f5b503c32dcff = L.popup({&quot;maxWidth&quot;: &quot;100%&quot;});\n",
       "\n",
       "        \n",
       "            \n",
       "                var html_89cad9bb9e6d2a039f23e88b9204f1ab = $(`&lt;div id=&quot;html_89cad9bb9e6d2a039f23e88b9204f1ab&quot; style=&quot;width: 100.0%; height: 100.0%;&quot;&gt;Area name: Hollenbeck&lt;/div&gt;`)[0];\n",
       "                popup_491f9050887f5a43f08f5b503c32dcff.setContent(html_89cad9bb9e6d2a039f23e88b9204f1ab);\n",
       "            \n",
       "        \n",
       "\n",
       "        marker_0e4ca79c5a407dbc1dd20cfb766bd76b.bindPopup(popup_491f9050887f5a43f08f5b503c32dcff)\n",
       "        ;\n",
       "\n",
       "        \n",
       "    \n",
       "    \n",
       "            var marker_49221145d71bf67fc9e4fd59f92d1cbf = L.marker(\n",
       "                [34.06, -118.26],\n",
       "                {}\n",
       "            ).addTo(map_e70c7a20371bc7e3bdf65115c380c130);\n",
       "        \n",
       "    \n",
       "        var popup_752c29f77ef5e5f7845fd4150f69d375 = L.popup({&quot;maxWidth&quot;: &quot;100%&quot;});\n",
       "\n",
       "        \n",
       "            \n",
       "                var html_6d6838e1f5bae370dd9d8924681f04fa = $(`&lt;div id=&quot;html_6d6838e1f5bae370dd9d8924681f04fa&quot; style=&quot;width: 100.0%; height: 100.0%;&quot;&gt;Area name: Rampart&lt;/div&gt;`)[0];\n",
       "                popup_752c29f77ef5e5f7845fd4150f69d375.setContent(html_6d6838e1f5bae370dd9d8924681f04fa);\n",
       "            \n",
       "        \n",
       "\n",
       "        marker_49221145d71bf67fc9e4fd59f92d1cbf.bindPopup(popup_752c29f77ef5e5f7845fd4150f69d375)\n",
       "        ;\n",
       "\n",
       "        \n",
       "    \n",
       "    \n",
       "            var marker_d362847bc4052daea0b3fa48b2cd8e28 = L.marker(\n",
       "                [34.05, -118.26],\n",
       "                {}\n",
       "            ).addTo(map_e70c7a20371bc7e3bdf65115c380c130);\n",
       "        \n",
       "    \n",
       "        var popup_60b2397c431bb5bb93777ec9c4f6eec2 = L.popup({&quot;maxWidth&quot;: &quot;100%&quot;});\n",
       "\n",
       "        \n",
       "            \n",
       "                var html_0c7089b9a270c1d9f1c02ae1509ca888 = $(`&lt;div id=&quot;html_0c7089b9a270c1d9f1c02ae1509ca888&quot; style=&quot;width: 100.0%; height: 100.0%;&quot;&gt;Area name: Rampart&lt;/div&gt;`)[0];\n",
       "                popup_60b2397c431bb5bb93777ec9c4f6eec2.setContent(html_0c7089b9a270c1d9f1c02ae1509ca888);\n",
       "            \n",
       "        \n",
       "\n",
       "        marker_d362847bc4052daea0b3fa48b2cd8e28.bindPopup(popup_60b2397c431bb5bb93777ec9c4f6eec2)\n",
       "        ;\n",
       "\n",
       "        \n",
       "    \n",
       "    \n",
       "            var marker_7846af721336ff0a9b89a2a7c7e46bcf = L.marker(\n",
       "                [33.85, -118.31],\n",
       "                {}\n",
       "            ).addTo(map_e70c7a20371bc7e3bdf65115c380c130);\n",
       "        \n",
       "    \n",
       "        var popup_49af6730645b65e8d0fec145c677e95f = L.popup({&quot;maxWidth&quot;: &quot;100%&quot;});\n",
       "\n",
       "        \n",
       "            \n",
       "                var html_0a4ba8c8f29e38dc3e9f2b2a7fe100ad = $(`&lt;div id=&quot;html_0a4ba8c8f29e38dc3e9f2b2a7fe100ad&quot; style=&quot;width: 100.0%; height: 100.0%;&quot;&gt;Area name: Harbor&lt;/div&gt;`)[0];\n",
       "                popup_49af6730645b65e8d0fec145c677e95f.setContent(html_0a4ba8c8f29e38dc3e9f2b2a7fe100ad);\n",
       "            \n",
       "        \n",
       "\n",
       "        marker_7846af721336ff0a9b89a2a7c7e46bcf.bindPopup(popup_49af6730645b65e8d0fec145c677e95f)\n",
       "        ;\n",
       "\n",
       "        \n",
       "    \n",
       "    \n",
       "            var marker_c595f62f59b4591b5a0e025e2e1a2756 = L.marker(\n",
       "                [34.07, -118.22],\n",
       "                {}\n",
       "            ).addTo(map_e70c7a20371bc7e3bdf65115c380c130);\n",
       "        \n",
       "    \n",
       "        var popup_6ce54c27a5562bc611bcdb8997bd58b3 = L.popup({&quot;maxWidth&quot;: &quot;100%&quot;});\n",
       "\n",
       "        \n",
       "            \n",
       "                var html_6c284a3383e1c8e93df7a9f3431e45d7 = $(`&lt;div id=&quot;html_6c284a3383e1c8e93df7a9f3431e45d7&quot; style=&quot;width: 100.0%; height: 100.0%;&quot;&gt;Area name: Hollenbeck&lt;/div&gt;`)[0];\n",
       "                popup_6ce54c27a5562bc611bcdb8997bd58b3.setContent(html_6c284a3383e1c8e93df7a9f3431e45d7);\n",
       "            \n",
       "        \n",
       "\n",
       "        marker_c595f62f59b4591b5a0e025e2e1a2756.bindPopup(popup_6ce54c27a5562bc611bcdb8997bd58b3)\n",
       "        ;\n",
       "\n",
       "        \n",
       "    \n",
       "    \n",
       "            var marker_f14507967513551e201520cc82c0768b = L.marker(\n",
       "                [33.78, -118.31],\n",
       "                {}\n",
       "            ).addTo(map_e70c7a20371bc7e3bdf65115c380c130);\n",
       "        \n",
       "    \n",
       "        var popup_4507488bc175948e74e220210b70e435 = L.popup({&quot;maxWidth&quot;: &quot;100%&quot;});\n",
       "\n",
       "        \n",
       "            \n",
       "                var html_8d2199c76d2d3e256e5b45d31db04220 = $(`&lt;div id=&quot;html_8d2199c76d2d3e256e5b45d31db04220&quot; style=&quot;width: 100.0%; height: 100.0%;&quot;&gt;Area name: Harbor&lt;/div&gt;`)[0];\n",
       "                popup_4507488bc175948e74e220210b70e435.setContent(html_8d2199c76d2d3e256e5b45d31db04220);\n",
       "            \n",
       "        \n",
       "\n",
       "        marker_f14507967513551e201520cc82c0768b.bindPopup(popup_4507488bc175948e74e220210b70e435)\n",
       "        ;\n",
       "\n",
       "        \n",
       "    \n",
       "    \n",
       "            var marker_0a8db02be2aa991fd1cd40227720e185 = L.marker(\n",
       "                [34.11, -118.19],\n",
       "                {}\n",
       "            ).addTo(map_e70c7a20371bc7e3bdf65115c380c130);\n",
       "        \n",
       "    \n",
       "        var popup_640c67630d9dec5ef7717c762d662c49 = L.popup({&quot;maxWidth&quot;: &quot;100%&quot;});\n",
       "\n",
       "        \n",
       "            \n",
       "                var html_fee8acf5ed8feeb36e7bf2f8895c03d2 = $(`&lt;div id=&quot;html_fee8acf5ed8feeb36e7bf2f8895c03d2&quot; style=&quot;width: 100.0%; height: 100.0%;&quot;&gt;Area name: Northeast&lt;/div&gt;`)[0];\n",
       "                popup_640c67630d9dec5ef7717c762d662c49.setContent(html_fee8acf5ed8feeb36e7bf2f8895c03d2);\n",
       "            \n",
       "        \n",
       "\n",
       "        marker_0a8db02be2aa991fd1cd40227720e185.bindPopup(popup_640c67630d9dec5ef7717c762d662c49)\n",
       "        ;\n",
       "\n",
       "        \n",
       "    \n",
       "    \n",
       "            var marker_ada35999bfce8664e3a3f0007977b423 = L.marker(\n",
       "                [33.74, -118.29],\n",
       "                {}\n",
       "            ).addTo(map_e70c7a20371bc7e3bdf65115c380c130);\n",
       "        \n",
       "    \n",
       "        var popup_bcf9c709c5489f6021bfa5ee592c9ebc = L.popup({&quot;maxWidth&quot;: &quot;100%&quot;});\n",
       "\n",
       "        \n",
       "            \n",
       "                var html_92c95fb7ee3ac8fb38d557562432b37d = $(`&lt;div id=&quot;html_92c95fb7ee3ac8fb38d557562432b37d&quot; style=&quot;width: 100.0%; height: 100.0%;&quot;&gt;Area name: Harbor&lt;/div&gt;`)[0];\n",
       "                popup_bcf9c709c5489f6021bfa5ee592c9ebc.setContent(html_92c95fb7ee3ac8fb38d557562432b37d);\n",
       "            \n",
       "        \n",
       "\n",
       "        marker_ada35999bfce8664e3a3f0007977b423.bindPopup(popup_bcf9c709c5489f6021bfa5ee592c9ebc)\n",
       "        ;\n",
       "\n",
       "        \n",
       "    \n",
       "    \n",
       "            var marker_7290980f8763c82fb7bd643a3f6427dc = L.marker(\n",
       "                [33.98, -118.33],\n",
       "                {}\n",
       "            ).addTo(map_e70c7a20371bc7e3bdf65115c380c130);\n",
       "        \n",
       "    \n",
       "        var popup_03d0f4277924aafc321da0d5b27fc0f0 = L.popup({&quot;maxWidth&quot;: &quot;100%&quot;});\n",
       "\n",
       "        \n",
       "            \n",
       "                var html_f173a6827ab7de9bf2326e4b4a754a3c = $(`&lt;div id=&quot;html_f173a6827ab7de9bf2326e4b4a754a3c&quot; style=&quot;width: 100.0%; height: 100.0%;&quot;&gt;Area name: 77th Street&lt;/div&gt;`)[0];\n",
       "                popup_03d0f4277924aafc321da0d5b27fc0f0.setContent(html_f173a6827ab7de9bf2326e4b4a754a3c);\n",
       "            \n",
       "        \n",
       "\n",
       "        marker_7290980f8763c82fb7bd643a3f6427dc.bindPopup(popup_03d0f4277924aafc321da0d5b27fc0f0)\n",
       "        ;\n",
       "\n",
       "        \n",
       "    \n",
       "    \n",
       "            var marker_98c16b1711ac8873a72f3433b13e4b49 = L.marker(\n",
       "                [33.99, -118.31],\n",
       "                {}\n",
       "            ).addTo(map_e70c7a20371bc7e3bdf65115c380c130);\n",
       "        \n",
       "    \n",
       "        var popup_1d632aa1fd3369c53eb64859bffb1bb4 = L.popup({&quot;maxWidth&quot;: &quot;100%&quot;});\n",
       "\n",
       "        \n",
       "            \n",
       "                var html_58d7750cb09e7e6e2f40a2f4db134f7b = $(`&lt;div id=&quot;html_58d7750cb09e7e6e2f40a2f4db134f7b&quot; style=&quot;width: 100.0%; height: 100.0%;&quot;&gt;Area name: 77th Street&lt;/div&gt;`)[0];\n",
       "                popup_1d632aa1fd3369c53eb64859bffb1bb4.setContent(html_58d7750cb09e7e6e2f40a2f4db134f7b);\n",
       "            \n",
       "        \n",
       "\n",
       "        marker_98c16b1711ac8873a72f3433b13e4b49.bindPopup(popup_1d632aa1fd3369c53eb64859bffb1bb4)\n",
       "        ;\n",
       "\n",
       "        \n",
       "    \n",
       "    \n",
       "            var marker_e883d414ef1e8aa0a83dbe6d17c7715a = L.marker(\n",
       "                [34.09, -118.28],\n",
       "                {}\n",
       "            ).addTo(map_e70c7a20371bc7e3bdf65115c380c130);\n",
       "        \n",
       "    \n",
       "        var popup_1c8605381f65ca31b307f1dce37dccbb = L.popup({&quot;maxWidth&quot;: &quot;100%&quot;});\n",
       "\n",
       "        \n",
       "            \n",
       "                var html_9b0e9f6329dd294248e4455a7299d980 = $(`&lt;div id=&quot;html_9b0e9f6329dd294248e4455a7299d980&quot; style=&quot;width: 100.0%; height: 100.0%;&quot;&gt;Area name: Northeast&lt;/div&gt;`)[0];\n",
       "                popup_1c8605381f65ca31b307f1dce37dccbb.setContent(html_9b0e9f6329dd294248e4455a7299d980);\n",
       "            \n",
       "        \n",
       "\n",
       "        marker_e883d414ef1e8aa0a83dbe6d17c7715a.bindPopup(popup_1c8605381f65ca31b307f1dce37dccbb)\n",
       "        ;\n",
       "\n",
       "        \n",
       "    \n",
       "    \n",
       "            var marker_c6a66fa25bb366d9923acee3045446a4 = L.marker(\n",
       "                [34.08, -118.44],\n",
       "                {}\n",
       "            ).addTo(map_e70c7a20371bc7e3bdf65115c380c130);\n",
       "        \n",
       "    \n",
       "        var popup_789ddca576295e098e92bce21c499771 = L.popup({&quot;maxWidth&quot;: &quot;100%&quot;});\n",
       "\n",
       "        \n",
       "            \n",
       "                var html_c463f0f2af8321bd903e3c96bfe03909 = $(`&lt;div id=&quot;html_c463f0f2af8321bd903e3c96bfe03909&quot; style=&quot;width: 100.0%; height: 100.0%;&quot;&gt;Area name: West LA&lt;/div&gt;`)[0];\n",
       "                popup_789ddca576295e098e92bce21c499771.setContent(html_c463f0f2af8321bd903e3c96bfe03909);\n",
       "            \n",
       "        \n",
       "\n",
       "        marker_c6a66fa25bb366d9923acee3045446a4.bindPopup(popup_789ddca576295e098e92bce21c499771)\n",
       "        ;\n",
       "\n",
       "        \n",
       "    \n",
       "    \n",
       "            var marker_26dbef22d31bc647cf4b66ad513b94ba = L.marker(\n",
       "                [34.11, -118.22],\n",
       "                {}\n",
       "            ).addTo(map_e70c7a20371bc7e3bdf65115c380c130);\n",
       "        \n",
       "    \n",
       "        var popup_75fce6ad1c51ca69e3f94a2cee905def = L.popup({&quot;maxWidth&quot;: &quot;100%&quot;});\n",
       "\n",
       "        \n",
       "            \n",
       "                var html_aa3cbc4d7c07bf7f177ee9a43659262e = $(`&lt;div id=&quot;html_aa3cbc4d7c07bf7f177ee9a43659262e&quot; style=&quot;width: 100.0%; height: 100.0%;&quot;&gt;Area name: Northeast&lt;/div&gt;`)[0];\n",
       "                popup_75fce6ad1c51ca69e3f94a2cee905def.setContent(html_aa3cbc4d7c07bf7f177ee9a43659262e);\n",
       "            \n",
       "        \n",
       "\n",
       "        marker_26dbef22d31bc647cf4b66ad513b94ba.bindPopup(popup_75fce6ad1c51ca69e3f94a2cee905def)\n",
       "        ;\n",
       "\n",
       "        \n",
       "    \n",
       "    \n",
       "            var marker_f7bd1aa115cede37972e258d849abee3 = L.marker(\n",
       "                [34.02, -118.35],\n",
       "                {}\n",
       "            ).addTo(map_e70c7a20371bc7e3bdf65115c380c130);\n",
       "        \n",
       "    \n",
       "        var popup_64f6f6c368ef58f5cb14219ad65e7c44 = L.popup({&quot;maxWidth&quot;: &quot;100%&quot;});\n",
       "\n",
       "        \n",
       "            \n",
       "                var html_5c939ef35dafb3cb5d515e0e00625f4c = $(`&lt;div id=&quot;html_5c939ef35dafb3cb5d515e0e00625f4c&quot; style=&quot;width: 100.0%; height: 100.0%;&quot;&gt;Area name: Southwest&lt;/div&gt;`)[0];\n",
       "                popup_64f6f6c368ef58f5cb14219ad65e7c44.setContent(html_5c939ef35dafb3cb5d515e0e00625f4c);\n",
       "            \n",
       "        \n",
       "\n",
       "        marker_f7bd1aa115cede37972e258d849abee3.bindPopup(popup_64f6f6c368ef58f5cb14219ad65e7c44)\n",
       "        ;\n",
       "\n",
       "        \n",
       "    \n",
       "    \n",
       "            var marker_659cdfe13c14c8e94fadc506de17a783 = L.marker(\n",
       "                [34.14, -118.2],\n",
       "                {}\n",
       "            ).addTo(map_e70c7a20371bc7e3bdf65115c380c130);\n",
       "        \n",
       "    \n",
       "        var popup_115d2f43c16ac7418546a0a41a7ce76e = L.popup({&quot;maxWidth&quot;: &quot;100%&quot;});\n",
       "\n",
       "        \n",
       "            \n",
       "                var html_83154c2eaffe82adae90e358c9245283 = $(`&lt;div id=&quot;html_83154c2eaffe82adae90e358c9245283&quot; style=&quot;width: 100.0%; height: 100.0%;&quot;&gt;Area name: Northeast&lt;/div&gt;`)[0];\n",
       "                popup_115d2f43c16ac7418546a0a41a7ce76e.setContent(html_83154c2eaffe82adae90e358c9245283);\n",
       "            \n",
       "        \n",
       "\n",
       "        marker_659cdfe13c14c8e94fadc506de17a783.bindPopup(popup_115d2f43c16ac7418546a0a41a7ce76e)\n",
       "        ;\n",
       "\n",
       "        \n",
       "    \n",
       "    \n",
       "            var marker_a4e5f429eb03296696e92f4ee2319233 = L.marker(\n",
       "                [34.05, -118.44],\n",
       "                {}\n",
       "            ).addTo(map_e70c7a20371bc7e3bdf65115c380c130);\n",
       "        \n",
       "    \n",
       "        var popup_6da085f7246317fd94e8e95a080b4314 = L.popup({&quot;maxWidth&quot;: &quot;100%&quot;});\n",
       "\n",
       "        \n",
       "            \n",
       "                var html_6d17be174423098e228f46ef4576b440 = $(`&lt;div id=&quot;html_6d17be174423098e228f46ef4576b440&quot; style=&quot;width: 100.0%; height: 100.0%;&quot;&gt;Area name: West LA&lt;/div&gt;`)[0];\n",
       "                popup_6da085f7246317fd94e8e95a080b4314.setContent(html_6d17be174423098e228f46ef4576b440);\n",
       "            \n",
       "        \n",
       "\n",
       "        marker_a4e5f429eb03296696e92f4ee2319233.bindPopup(popup_6da085f7246317fd94e8e95a080b4314)\n",
       "        ;\n",
       "\n",
       "        \n",
       "    \n",
       "    \n",
       "            var marker_ff42a859d7149fa1c2cd38a0ae163c89 = L.marker(\n",
       "                [33.96, -118.26],\n",
       "                {}\n",
       "            ).addTo(map_e70c7a20371bc7e3bdf65115c380c130);\n",
       "        \n",
       "    \n",
       "        var popup_8da0b175ead7f480439b5bd58eec0184 = L.popup({&quot;maxWidth&quot;: &quot;100%&quot;});\n",
       "\n",
       "        \n",
       "            \n",
       "                var html_f356d2b948d048975dbfc15b13f0ab06 = $(`&lt;div id=&quot;html_f356d2b948d048975dbfc15b13f0ab06&quot; style=&quot;width: 100.0%; height: 100.0%;&quot;&gt;Area name: Southeast&lt;/div&gt;`)[0];\n",
       "                popup_8da0b175ead7f480439b5bd58eec0184.setContent(html_f356d2b948d048975dbfc15b13f0ab06);\n",
       "            \n",
       "        \n",
       "\n",
       "        marker_ff42a859d7149fa1c2cd38a0ae163c89.bindPopup(popup_8da0b175ead7f480439b5bd58eec0184)\n",
       "        ;\n",
       "\n",
       "        \n",
       "    \n",
       "    \n",
       "            var marker_73be7f55ff5ece4f9518d9a1099d5334 = L.marker(\n",
       "                [34.09, -118.35],\n",
       "                {}\n",
       "            ).addTo(map_e70c7a20371bc7e3bdf65115c380c130);\n",
       "        \n",
       "    \n",
       "        var popup_3dd3a39f1cb6f045869e57165695bbe9 = L.popup({&quot;maxWidth&quot;: &quot;100%&quot;});\n",
       "\n",
       "        \n",
       "            \n",
       "                var html_8a36cf4148f59176c56ff1bdef28509e = $(`&lt;div id=&quot;html_8a36cf4148f59176c56ff1bdef28509e&quot; style=&quot;width: 100.0%; height: 100.0%;&quot;&gt;Area name: Wilshire&lt;/div&gt;`)[0];\n",
       "                popup_3dd3a39f1cb6f045869e57165695bbe9.setContent(html_8a36cf4148f59176c56ff1bdef28509e);\n",
       "            \n",
       "        \n",
       "\n",
       "        marker_73be7f55ff5ece4f9518d9a1099d5334.bindPopup(popup_3dd3a39f1cb6f045869e57165695bbe9)\n",
       "        ;\n",
       "\n",
       "        \n",
       "    \n",
       "    \n",
       "            var marker_659c8fc107d8d2f8210510db58af4f7c = L.marker(\n",
       "                [34.13, -118.2],\n",
       "                {}\n",
       "            ).addTo(map_e70c7a20371bc7e3bdf65115c380c130);\n",
       "        \n",
       "    \n",
       "        var popup_50a584598c41627ec0e8d41e5b0100a0 = L.popup({&quot;maxWidth&quot;: &quot;100%&quot;});\n",
       "\n",
       "        \n",
       "            \n",
       "                var html_d9535834abc64727769c4f4c5819fe16 = $(`&lt;div id=&quot;html_d9535834abc64727769c4f4c5819fe16&quot; style=&quot;width: 100.0%; height: 100.0%;&quot;&gt;Area name: Northeast&lt;/div&gt;`)[0];\n",
       "                popup_50a584598c41627ec0e8d41e5b0100a0.setContent(html_d9535834abc64727769c4f4c5819fe16);\n",
       "            \n",
       "        \n",
       "\n",
       "        marker_659c8fc107d8d2f8210510db58af4f7c.bindPopup(popup_50a584598c41627ec0e8d41e5b0100a0)\n",
       "        ;\n",
       "\n",
       "        \n",
       "    \n",
       "    \n",
       "            var marker_3fed5c7a07929d001d46288db9242f12 = L.marker(\n",
       "                [33.75, -118.3],\n",
       "                {}\n",
       "            ).addTo(map_e70c7a20371bc7e3bdf65115c380c130);\n",
       "        \n",
       "    \n",
       "        var popup_f7b70249ad63623eec4bca13c7effc95 = L.popup({&quot;maxWidth&quot;: &quot;100%&quot;});\n",
       "\n",
       "        \n",
       "            \n",
       "                var html_e75d5195135889144fc58e5e7ad86fed = $(`&lt;div id=&quot;html_e75d5195135889144fc58e5e7ad86fed&quot; style=&quot;width: 100.0%; height: 100.0%;&quot;&gt;Area name: Harbor&lt;/div&gt;`)[0];\n",
       "                popup_f7b70249ad63623eec4bca13c7effc95.setContent(html_e75d5195135889144fc58e5e7ad86fed);\n",
       "            \n",
       "        \n",
       "\n",
       "        marker_3fed5c7a07929d001d46288db9242f12.bindPopup(popup_f7b70249ad63623eec4bca13c7effc95)\n",
       "        ;\n",
       "\n",
       "        \n",
       "    \n",
       "    \n",
       "            var marker_716e01944788845872ae6847c1f5d966 = L.marker(\n",
       "                [34.16, -118.44],\n",
       "                {}\n",
       "            ).addTo(map_e70c7a20371bc7e3bdf65115c380c130);\n",
       "        \n",
       "    \n",
       "        var popup_f430261a22cc45450c7ad70caffeab09 = L.popup({&quot;maxWidth&quot;: &quot;100%&quot;});\n",
       "\n",
       "        \n",
       "            \n",
       "                var html_5ec5e578eafbb985515e57d836175c0d = $(`&lt;div id=&quot;html_5ec5e578eafbb985515e57d836175c0d&quot; style=&quot;width: 100.0%; height: 100.0%;&quot;&gt;Area name: Van Nuys&lt;/div&gt;`)[0];\n",
       "                popup_f430261a22cc45450c7ad70caffeab09.setContent(html_5ec5e578eafbb985515e57d836175c0d);\n",
       "            \n",
       "        \n",
       "\n",
       "        marker_716e01944788845872ae6847c1f5d966.bindPopup(popup_f430261a22cc45450c7ad70caffeab09)\n",
       "        ;\n",
       "\n",
       "        \n",
       "    \n",
       "    \n",
       "            var marker_32afbbf845acb6b6c44709da9549b165 = L.marker(\n",
       "                [33.8, -118.3],\n",
       "                {}\n",
       "            ).addTo(map_e70c7a20371bc7e3bdf65115c380c130);\n",
       "        \n",
       "    \n",
       "        var popup_a10a0ad07dfedb8cfc8d10452a246941 = L.popup({&quot;maxWidth&quot;: &quot;100%&quot;});\n",
       "\n",
       "        \n",
       "            \n",
       "                var html_d586567f717beaf59c5ee15aec819f83 = $(`&lt;div id=&quot;html_d586567f717beaf59c5ee15aec819f83&quot; style=&quot;width: 100.0%; height: 100.0%;&quot;&gt;Area name: Harbor&lt;/div&gt;`)[0];\n",
       "                popup_a10a0ad07dfedb8cfc8d10452a246941.setContent(html_d586567f717beaf59c5ee15aec819f83);\n",
       "            \n",
       "        \n",
       "\n",
       "        marker_32afbbf845acb6b6c44709da9549b165.bindPopup(popup_a10a0ad07dfedb8cfc8d10452a246941)\n",
       "        ;\n",
       "\n",
       "        \n",
       "    \n",
       "    \n",
       "            var marker_73fbb729c339c050d5e65256cb8ffd55 = L.marker(\n",
       "                [34.04, -118.4],\n",
       "                {}\n",
       "            ).addTo(map_e70c7a20371bc7e3bdf65115c380c130);\n",
       "        \n",
       "    \n",
       "        var popup_aa379775cb492a1f776807f400cb3e6d = L.popup({&quot;maxWidth&quot;: &quot;100%&quot;});\n",
       "\n",
       "        \n",
       "            \n",
       "                var html_e5173b454ee735cf56d7233adf5d01c2 = $(`&lt;div id=&quot;html_e5173b454ee735cf56d7233adf5d01c2&quot; style=&quot;width: 100.0%; height: 100.0%;&quot;&gt;Area name: West LA&lt;/div&gt;`)[0];\n",
       "                popup_aa379775cb492a1f776807f400cb3e6d.setContent(html_e5173b454ee735cf56d7233adf5d01c2);\n",
       "            \n",
       "        \n",
       "\n",
       "        marker_73fbb729c339c050d5e65256cb8ffd55.bindPopup(popup_aa379775cb492a1f776807f400cb3e6d)\n",
       "        ;\n",
       "\n",
       "        \n",
       "    \n",
       "    \n",
       "            var marker_0a6015c4221a4c8f61b17eae43932053 = L.marker(\n",
       "                [34.07, -118.37],\n",
       "                {}\n",
       "            ).addTo(map_e70c7a20371bc7e3bdf65115c380c130);\n",
       "        \n",
       "    \n",
       "        var popup_bb7bc0e47806b618db5729f3a8f6cc62 = L.popup({&quot;maxWidth&quot;: &quot;100%&quot;});\n",
       "\n",
       "        \n",
       "            \n",
       "                var html_b8b2f36266021908da403bbc6ae5e006 = $(`&lt;div id=&quot;html_b8b2f36266021908da403bbc6ae5e006&quot; style=&quot;width: 100.0%; height: 100.0%;&quot;&gt;Area name: Wilshire&lt;/div&gt;`)[0];\n",
       "                popup_bb7bc0e47806b618db5729f3a8f6cc62.setContent(html_b8b2f36266021908da403bbc6ae5e006);\n",
       "            \n",
       "        \n",
       "\n",
       "        marker_0a6015c4221a4c8f61b17eae43932053.bindPopup(popup_bb7bc0e47806b618db5729f3a8f6cc62)\n",
       "        ;\n",
       "\n",
       "        \n",
       "    \n",
       "    \n",
       "            var marker_285a8649d423d5aed27ab1d48f7cf806 = L.marker(\n",
       "                [34.11, -118.24],\n",
       "                {}\n",
       "            ).addTo(map_e70c7a20371bc7e3bdf65115c380c130);\n",
       "        \n",
       "    \n",
       "        var popup_21e4fa8c3ffeeb8f0d7c86730eaccbc6 = L.popup({&quot;maxWidth&quot;: &quot;100%&quot;});\n",
       "\n",
       "        \n",
       "            \n",
       "                var html_74942639c8834ead02f217508469f32b = $(`&lt;div id=&quot;html_74942639c8834ead02f217508469f32b&quot; style=&quot;width: 100.0%; height: 100.0%;&quot;&gt;Area name: Northeast&lt;/div&gt;`)[0];\n",
       "                popup_21e4fa8c3ffeeb8f0d7c86730eaccbc6.setContent(html_74942639c8834ead02f217508469f32b);\n",
       "            \n",
       "        \n",
       "\n",
       "        marker_285a8649d423d5aed27ab1d48f7cf806.bindPopup(popup_21e4fa8c3ffeeb8f0d7c86730eaccbc6)\n",
       "        ;\n",
       "\n",
       "        \n",
       "    \n",
       "    \n",
       "            var marker_6de7df95b86b03c1024c746a01379af5 = L.marker(\n",
       "                [34.08, -118.35],\n",
       "                {}\n",
       "            ).addTo(map_e70c7a20371bc7e3bdf65115c380c130);\n",
       "        \n",
       "    \n",
       "        var popup_fc77808c2b03e3f86e63b8f01080db62 = L.popup({&quot;maxWidth&quot;: &quot;100%&quot;});\n",
       "\n",
       "        \n",
       "            \n",
       "                var html_a097ed0a40ce37001a6acdc4ad19ea51 = $(`&lt;div id=&quot;html_a097ed0a40ce37001a6acdc4ad19ea51&quot; style=&quot;width: 100.0%; height: 100.0%;&quot;&gt;Area name: Wilshire&lt;/div&gt;`)[0];\n",
       "                popup_fc77808c2b03e3f86e63b8f01080db62.setContent(html_a097ed0a40ce37001a6acdc4ad19ea51);\n",
       "            \n",
       "        \n",
       "\n",
       "        marker_6de7df95b86b03c1024c746a01379af5.bindPopup(popup_fc77808c2b03e3f86e63b8f01080db62)\n",
       "        ;\n",
       "\n",
       "        \n",
       "    \n",
       "    \n",
       "            var marker_db78936f7965461b2be7d5536ee6282f = L.marker(\n",
       "                [34.1, -118.3],\n",
       "                {}\n",
       "            ).addTo(map_e70c7a20371bc7e3bdf65115c380c130);\n",
       "        \n",
       "    \n",
       "        var popup_2637912bd9783ff6c979171b2895e10e = L.popup({&quot;maxWidth&quot;: &quot;100%&quot;});\n",
       "\n",
       "        \n",
       "            \n",
       "                var html_10ddbec50e0c8cf48d8ff5d67429f5b9 = $(`&lt;div id=&quot;html_10ddbec50e0c8cf48d8ff5d67429f5b9&quot; style=&quot;width: 100.0%; height: 100.0%;&quot;&gt;Area name: Hollywood&lt;/div&gt;`)[0];\n",
       "                popup_2637912bd9783ff6c979171b2895e10e.setContent(html_10ddbec50e0c8cf48d8ff5d67429f5b9);\n",
       "            \n",
       "        \n",
       "\n",
       "        marker_db78936f7965461b2be7d5536ee6282f.bindPopup(popup_2637912bd9783ff6c979171b2895e10e)\n",
       "        ;\n",
       "\n",
       "        \n",
       "    \n",
       "    \n",
       "            var marker_1399478b20a849336dac7e37e2647079 = L.marker(\n",
       "                [34.14, -118.23],\n",
       "                {}\n",
       "            ).addTo(map_e70c7a20371bc7e3bdf65115c380c130);\n",
       "        \n",
       "    \n",
       "        var popup_3855e7b712d04f6584c1987f529b47de = L.popup({&quot;maxWidth&quot;: &quot;100%&quot;});\n",
       "\n",
       "        \n",
       "            \n",
       "                var html_4ec8496e41b1be9f54c525c273c798db = $(`&lt;div id=&quot;html_4ec8496e41b1be9f54c525c273c798db&quot; style=&quot;width: 100.0%; height: 100.0%;&quot;&gt;Area name: Northeast&lt;/div&gt;`)[0];\n",
       "                popup_3855e7b712d04f6584c1987f529b47de.setContent(html_4ec8496e41b1be9f54c525c273c798db);\n",
       "            \n",
       "        \n",
       "\n",
       "        marker_1399478b20a849336dac7e37e2647079.bindPopup(popup_3855e7b712d04f6584c1987f529b47de)\n",
       "        ;\n",
       "\n",
       "        \n",
       "    \n",
       "    \n",
       "            tile_layer_5e9c5d16bd5c17cb4716725f4fba8ecd.addTo(map_e70c7a20371bc7e3bdf65115c380c130);\n",
       "        \n",
       "&lt;/script&gt;\n",
       "&lt;/html&gt;\" style=\"position:absolute;width:100%;height:100%;left:0;top:0;border:none !important;\" allowfullscreen webkitallowfullscreen mozallowfullscreen></iframe></div></div>"
      ],
      "text/plain": [
       "<folium.folium.Map at 0x223fe8ecad0>"
      ]
     },
     "execution_count": 19,
     "metadata": {},
     "output_type": "execute_result"
    }
   ],
   "source": [
    "import warnings\n",
    "warnings.filterwarnings(\"ignore\")\n",
    "\n",
    "import folium as flm\n",
    "# flm.Map().add_to(globals())\n",
    "\n",
    "query1 = \"\"\"\n",
    "select lat, lon, area_name\n",
    "from crime_data\n",
    "group by  lat, lon, area_name ; \n",
    "\"\"\" \n",
    "crime_df = pd.read_sql(query1, connection)   # to establish connection between MySQL and Python\n",
    "\n",
    "# Set the size of the map\n",
    "map_width = 800  # set your desired width\n",
    "map_height = 600  # set your desired height\n",
    "\n",
    "# Create a map centered at the mean of the coordinates\n",
    "crime_map = flm.Map(location=[crime_df['lat'].mean(), crime_df['lon'].mean()], zoom_start=14, width=map_width, height=map_height)\n",
    "\n",
    "# Add markers for each crime incident\n",
    "for index, row in crime_df.iterrows():\n",
    "    popup_text = f\"Area name: {row['area_name']}\"\n",
    "    flm.Marker([row['lat'], row['lon']], popup=popup_text).add_to(crime_map)\n",
    "\n",
    "\n",
    "# Save the map as an HTML file or display it in the Jupyter Notebook\n",
    "crime_map.save(\"crime_map.html\")\n",
    "crime_map"
   ]
  },
  {
   "cell_type": "markdown",
   "metadata": {},
   "source": [
    "\n",
    "**Victim Demographics:**\n",
    "\n",
    "What is the distribution of victim ages in reported crimes?\n",
    "is there a significant difference in crime rates between male and female victims?\n"
   ]
  },
  {
   "cell_type": "code",
   "execution_count": null,
   "metadata": {},
   "outputs": [],
   "source": []
  },
  {
   "cell_type": "code",
   "execution_count": 26,
   "metadata": {},
   "outputs": [
    {
     "name": "stderr",
     "output_type": "stream",
     "text": [
      "C:\\Users\\ASUS\\AppData\\Local\\Temp\\ipykernel_5932\\2122124001.py:7: UserWarning: pandas only supports SQLAlchemy connectable (engine/connection) or database string URI or sqlite3 DBAPI2 connection. Other DBAPI2 objects are not tested. Please consider using SQLAlchemy.\n",
      "  victim_age = pd.read_sql(query2, connection)\n"
     ]
    },
    {
     "data": {
      "image/png": "[encoded data removed]",
      "text/plain": [
       "<Figure size 1000x800 with 1 Axes>"
      ]
     },
     "metadata": {},
     "output_type": "display_data"
    }
   ],
   "source": [
    "# Distribution of Victims Age\n",
    "query2 = \"\"\"\n",
    "select Vict_Age, count(*) as total_ages\n",
    "from crime_data\n",
    "group by Vict_Age;\n",
    "\"\"\"\n",
    "victim_age = pd.read_sql(query2, connection)\n",
    "\n",
    "plt.figure(figsize=(10,8))\n",
    "plt.bar(victim_age[\"Vict_Age\"], victim_age[\"total_ages\"])\n",
    "plt.xlabel(\"Victims age\")\n",
    "plt.ylabel(\"Number of reported crimes\")\n",
    "plt.title(\"Distribution of Victim Age\")\n",
    "plt.grid()\n",
    "plt.show()"
   ]
  },
  {
   "cell_type": "code",
   "execution_count": 108,
   "metadata": {},
   "outputs": [
    {
     "name": "stderr",
     "output_type": "stream",
     "text": [
      "C:\\Users\\ASUS\\AppData\\Local\\Temp\\ipykernel_5932\\2915269429.py:6: UserWarning:\n",
      "\n",
      "pandas only supports SQLAlchemy connectable (engine/connection) or database string URI or sqlite3 DBAPI2 connection. Other DBAPI2 objects are not tested. Please consider using SQLAlchemy.\n",
      "\n"
     ]
    },
    {
     "data": {
      "image/png": "[encoded data removed]",
      "text/plain": [
       "<Figure size 640x480 with 1 Axes>"
      ]
     },
     "metadata": {},
     "output_type": "display_data"
    },
    {
     "data": {
      "application/vnd.plotly.v1+json": {
       "config": {
        "plotlyServerURL": "https://plot.ly"
       },
       "data": [
        {
         "domain": {
          "x": [
           0,
           1
          ],
          "y": [
           0,
           1
          ]
         },
         "hovertemplate": "Vict_Sex=%{label}<br>crime_rate=%{value}<extra></extra>",
         "labels": [
          "F",
          "M",
          "X",
          ""
         ],
         "legendgroup": "",
         "name": "",
         "showlegend": true,
         "type": "pie",
         "values": [
          155,
          278,
          39,
          27
         ]
        }
       ],
       "layout": {
        "legend": {
         "tracegroupgap": 0
        },
        "margin": {
         "t": 60
        },
        "template": {
         "data": {
          "bar": [
           {
            "error_x": {
             "color": "#2a3f5f"
            },
            "error_y": {
             "color": "#2a3f5f"
            },
            "marker": {
             "line": {
              "color": "#E5ECF6",
              "width": 0.5
             },
             "pattern": {
              "fillmode": "overlay",
              "size": 10,
              "solidity": 0.2
             }
            },
            "type": "bar"
           }
          ],
          "barpolar": [
           {
            "marker": {
             "line": {
              "color": "#E5ECF6",
              "width": 0.5
             },
             "pattern": {
              "fillmode": "overlay",
              "size": 10,
              "solidity": 0.2
             }
            },
            "type": "barpolar"
           }
          ],
          "carpet": [
           {
            "aaxis": {
             "endlinecolor": "#2a3f5f",
             "gridcolor": "white",
             "linecolor": "white",
             "minorgridcolor": "white",
             "startlinecolor": "#2a3f5f"
            },
            "baxis": {
             "endlinecolor": "#2a3f5f",
             "gridcolor": "white",
             "linecolor": "white",
             "minorgridcolor": "white",
             "startlinecolor": "#2a3f5f"
            },
            "type": "carpet"
           }
          ],
          "choropleth": [
           {
            "colorbar": {
             "outlinewidth": 0,
             "ticks": ""
            },
            "type": "choropleth"
           }
          ],
          "contour": [
           {
            "colorbar": {
             "outlinewidth": 0,
             "ticks": ""
            },
            "colorscale": [
             [
              0,
              "#0d0887"
             ],
             [
              0.1111111111111111,
              "#46039f"
             ],
             [
              0.2222222222222222,
              "#7201a8"
             ],
             [
              0.3333333333333333,
              "#9c179e"
             ],
             [
              0.4444444444444444,
              "#bd3786"
             ],
             [
              0.5555555555555556,
              "#d8576b"
             ],
             [
              0.6666666666666666,
              "#ed7953"
             ],
             [
              0.7777777777777778,
              "#fb9f3a"
             ],
             [
              0.8888888888888888,
              "#fdca26"
             ],
             [
              1,
              "#f0f921"
             ]
            ],
            "type": "contour"
           }
          ],
          "contourcarpet": [
           {
            "colorbar": {
             "outlinewidth": 0,
             "ticks": ""
            },
            "type": "contourcarpet"
           }
          ],
          "heatmap": [
           {
            "colorbar": {
             "outlinewidth": 0,
             "ticks": ""
            },
            "colorscale": [
             [
              0,
              "#0d0887"
             ],
             [
              0.1111111111111111,
              "#46039f"
             ],
             [
              0.2222222222222222,
              "#7201a8"
             ],
             [
              0.3333333333333333,
              "#9c179e"
             ],
             [
              0.4444444444444444,
              "#bd3786"
             ],
             [
              0.5555555555555556,
              "#d8576b"
             ],
             [
              0.6666666666666666,
              "#ed7953"
             ],
             [
              0.7777777777777778,
              "#fb9f3a"
             ],
             [
              0.8888888888888888,
              "#fdca26"
             ],
             [
              1,
              "#f0f921"
             ]
            ],
            "type": "heatmap"
           }
          ],
          "heatmapgl": [
           {
            "colorbar": {
             "outlinewidth": 0,
             "ticks": ""
            },
            "colorscale": [
             [
              0,
              "#0d0887"
             ],
             [
              0.1111111111111111,
              "#46039f"
             ],
             [
              0.2222222222222222,
              "#7201a8"
             ],
             [
              0.3333333333333333,
              "#9c179e"
             ],
             [
              0.4444444444444444,
              "#bd3786"
             ],
             [
              0.5555555555555556,
              "#d8576b"
             ],
             [
              0.6666666666666666,
              "#ed7953"
             ],
             [
              0.7777777777777778,
              "#fb9f3a"
             ],
             [
              0.8888888888888888,
              "#fdca26"
             ],
             [
              1,
              "#f0f921"
             ]
            ],
            "type": "heatmapgl"
           }
          ],
          "histogram": [
           {
            "marker": {
             "pattern": {
              "fillmode": "overlay",
              "size": 10,
              "solidity": 0.2
             }
            },
            "type": "histogram"
           }
          ],
          "histogram2d": [
           {
            "colorbar": {
             "outlinewidth": 0,
             "ticks": ""
            },
            "colorscale": [
             [
              0,
              "#0d0887"
             ],
             [
              0.1111111111111111,
              "#46039f"
             ],
             [
              0.2222222222222222,
              "#7201a8"
             ],
             [
              0.3333333333333333,
              "#9c179e"
             ],
             [
              0.4444444444444444,
              "#bd3786"
             ],
             [
              0.5555555555555556,
              "#d8576b"
             ],
             [
              0.6666666666666666,
              "#ed7953"
             ],
             [
              0.7777777777777778,
              "#fb9f3a"
             ],
             [
              0.8888888888888888,
              "#fdca26"
             ],
             [
              1,
              "#f0f921"
             ]
            ],
            "type": "histogram2d"
           }
          ],
          "histogram2dcontour": [
           {
            "colorbar": {
             "outlinewidth": 0,
             "ticks": ""
            },
            "colorscale": [
             [
              0,
              "#0d0887"
             ],
             [
              0.1111111111111111,
              "#46039f"
             ],
             [
              0.2222222222222222,
              "#7201a8"
             ],
             [
              0.3333333333333333,
              "#9c179e"
             ],
             [
              0.4444444444444444,
              "#bd3786"
             ],
             [
              0.5555555555555556,
              "#d8576b"
             ],
             [
              0.6666666666666666,
              "#ed7953"
             ],
             [
              0.7777777777777778,
              "#fb9f3a"
             ],
             [
              0.8888888888888888,
              "#fdca26"
             ],
             [
              1,
              "#f0f921"
             ]
            ],
            "type": "histogram2dcontour"
           }
          ],
          "mesh3d": [
           {
            "colorbar": {
             "outlinewidth": 0,
             "ticks": ""
            },
            "type": "mesh3d"
           }
          ],
          "parcoords": [
           {
            "line": {
             "colorbar": {
              "outlinewidth": 0,
              "ticks": ""
             }
            },
            "type": "parcoords"
           }
          ],
          "pie": [
           {
            "automargin": true,
            "type": "pie"
           }
          ],
          "scatter": [
           {
            "fillpattern": {
             "fillmode": "overlay",
             "size": 10,
             "solidity": 0.2
            },
            "type": "scatter"
           }
          ],
          "scatter3d": [
           {
            "line": {
             "colorbar": {
              "outlinewidth": 0,
              "ticks": ""
             }
            },
            "marker": {
             "colorbar": {
              "outlinewidth": 0,
              "ticks": ""
             }
            },
            "type": "scatter3d"
           }
          ],
          "scattercarpet": [
           {
            "marker": {
             "colorbar": {
              "outlinewidth": 0,
              "ticks": ""
             }
            },
            "type": "scattercarpet"
           }
          ],
          "scattergeo": [
           {
            "marker": {
             "colorbar": {
              "outlinewidth": 0,
              "ticks": ""
             }
            },
            "type": "scattergeo"
           }
          ],
          "scattergl": [
           {
            "marker": {
             "colorbar": {
              "outlinewidth": 0,
              "ticks": ""
             }
            },
            "type": "scattergl"
           }
          ],
          "scattermapbox": [
           {
            "marker": {
             "colorbar": {
              "outlinewidth": 0,
              "ticks": ""
             }
            },
            "type": "scattermapbox"
           }
          ],
          "scatterpolar": [
           {
            "marker": {
             "colorbar": {
              "outlinewidth": 0,
              "ticks": ""
             }
            },
            "type": "scatterpolar"
           }
          ],
          "scatterpolargl": [
           {
            "marker": {
             "colorbar": {
              "outlinewidth": 0,
              "ticks": ""
             }
            },
            "type": "scatterpolargl"
           }
          ],
          "scatterternary": [
           {
            "marker": {
             "colorbar": {
              "outlinewidth": 0,
              "ticks": ""
             }
            },
            "type": "scatterternary"
           }
          ],
          "surface": [
           {
            "colorbar": {
             "outlinewidth": 0,
             "ticks": ""
            },
            "colorscale": [
             [
              0,
              "#0d0887"
             ],
             [
              0.1111111111111111,
              "#46039f"
             ],
             [
              0.2222222222222222,
              "#7201a8"
             ],
             [
              0.3333333333333333,
              "#9c179e"
             ],
             [
              0.4444444444444444,
              "#bd3786"
             ],
             [
              0.5555555555555556,
              "#d8576b"
             ],
             [
              0.6666666666666666,
              "#ed7953"
             ],
             [
              0.7777777777777778,
              "#fb9f3a"
             ],
             [
              0.8888888888888888,
              "#fdca26"
             ],
             [
              1,
              "#f0f921"
             ]
            ],
            "type": "surface"
           }
          ],
          "table": [
           {
            "cells": {
             "fill": {
              "color": "#EBF0F8"
             },
             "line": {
              "color": "white"
             }
            },
            "header": {
             "fill": {
              "color": "#C8D4E3"
             },
             "line": {
              "color": "white"
             }
            },
            "type": "table"
           }
          ]
         },
         "layout": {
          "annotationdefaults": {
           "arrowcolor": "#2a3f5f",
           "arrowhead": 0,
           "arrowwidth": 1
          },
          "autotypenumbers": "strict",
          "coloraxis": {
           "colorbar": {
            "outlinewidth": 0,
            "ticks": ""
           }
          },
          "colorscale": {
           "diverging": [
            [
             0,
             "#8e0152"
            ],
            [
             0.1,
             "#c51b7d"
            ],
            [
             0.2,
             "#de77ae"
            ],
            [
             0.3,
             "#f1b6da"
            ],
            [
             0.4,
             "#fde0ef"
            ],
            [
             0.5,
             "#f7f7f7"
            ],
            [
             0.6,
             "#e6f5d0"
            ],
            [
             0.7,
             "#b8e186"
            ],
            [
             0.8,
             "#7fbc41"
            ],
            [
             0.9,
             "#4d9221"
            ],
            [
             1,
             "#276419"
            ]
           ],
           "sequential": [
            [
             0,
             "#0d0887"
            ],
            [
             0.1111111111111111,
             "#46039f"
            ],
            [
             0.2222222222222222,
             "#7201a8"
            ],
            [
             0.3333333333333333,
             "#9c179e"
            ],
            [
             0.4444444444444444,
             "#bd3786"
            ],
            [
             0.5555555555555556,
             "#d8576b"
            ],
            [
             0.6666666666666666,
             "#ed7953"
            ],
            [
             0.7777777777777778,
             "#fb9f3a"
            ],
            [
             0.8888888888888888,
             "#fdca26"
            ],
            [
             1,
             "#f0f921"
            ]
           ],
           "sequentialminus": [
            [
             0,
             "#0d0887"
            ],
            [
             0.1111111111111111,
             "#46039f"
            ],
            [
             0.2222222222222222,
             "#7201a8"
            ],
            [
             0.3333333333333333,
             "#9c179e"
            ],
            [
             0.4444444444444444,
             "#bd3786"
            ],
            [
             0.5555555555555556,
             "#d8576b"
            ],
            [
             0.6666666666666666,
             "#ed7953"
            ],
            [
             0.7777777777777778,
             "#fb9f3a"
            ],
            [
             0.8888888888888888,
             "#fdca26"
            ],
            [
             1,
             "#f0f921"
            ]
           ]
          },
          "colorway": [
           "#636efa",
           "#EF553B",
           "#00cc96",
           "#ab63fa",
           "#FFA15A",
           "#19d3f3",
           "#FF6692",
           "#B6E880",
           "#FF97FF",
           "#FECB52"
          ],
          "font": {
           "color": "#2a3f5f"
          },
          "geo": {
           "bgcolor": "white",
           "lakecolor": "white",
           "landcolor": "#E5ECF6",
           "showlakes": true,
           "showland": true,
           "subunitcolor": "white"
          },
          "hoverlabel": {
           "align": "left"
          },
          "hovermode": "closest",
          "mapbox": {
           "style": "light"
          },
          "paper_bgcolor": "white",
          "plot_bgcolor": "#E5ECF6",
          "polar": {
           "angularaxis": {
            "gridcolor": "white",
            "linecolor": "white",
            "ticks": ""
           },
           "bgcolor": "#E5ECF6",
           "radialaxis": {
            "gridcolor": "white",
            "linecolor": "white",
            "ticks": ""
           }
          },
          "scene": {
           "xaxis": {
            "backgroundcolor": "#E5ECF6",
            "gridcolor": "white",
            "gridwidth": 2,
            "linecolor": "white",
            "showbackground": true,
            "ticks": "",
            "zerolinecolor": "white"
           },
           "yaxis": {
            "backgroundcolor": "#E5ECF6",
            "gridcolor": "white",
            "gridwidth": 2,
            "linecolor": "white",
            "showbackground": true,
            "ticks": "",
            "zerolinecolor": "white"
           },
           "zaxis": {
            "backgroundcolor": "#E5ECF6",
            "gridcolor": "white",
            "gridwidth": 2,
            "linecolor": "white",
            "showbackground": true,
            "ticks": "",
            "zerolinecolor": "white"
           }
          },
          "shapedefaults": {
           "line": {
            "color": "#2a3f5f"
           }
          },
          "ternary": {
           "aaxis": {
            "gridcolor": "white",
            "linecolor": "white",
            "ticks": ""
           },
           "baxis": {
            "gridcolor": "white",
            "linecolor": "white",
            "ticks": ""
           },
           "bgcolor": "#E5ECF6",
           "caxis": {
            "gridcolor": "white",
            "linecolor": "white",
            "ticks": ""
           }
          },
          "title": {
           "x": 0.05
          },
          "xaxis": {
           "automargin": true,
           "gridcolor": "white",
           "linecolor": "white",
           "ticks": "",
           "title": {
            "standoff": 15
           },
           "zerolinecolor": "white",
           "zerolinewidth": 2
          },
          "yaxis": {
           "automargin": true,
           "gridcolor": "white",
           "linecolor": "white",
           "ticks": "",
           "title": {
            "standoff": 15
           },
           "zerolinecolor": "white",
           "zerolinewidth": 2
          }
         }
        }
       }
      }
     },
     "metadata": {},
     "output_type": "display_data"
    }
   ],
   "source": [
    "query3 = \"\"\"\n",
    "select Vict_Sex, count(*) as crime_rate\n",
    "from crime_data\n",
    "group by Vict_Sex;\n",
    "\"\"\"\n",
    "gender_crm = pd.read_sql(query3, connection)\n",
    "\n",
    "colors = [\"pink\",\"skyblue\",\"black\",\"grey\"]\n",
    "\n",
    "plt.bar(gender_crm[\"Vict_Sex\"], gender_crm[\"crime_rate\"], color=colors )\n",
    "plt.xlabel(\"No. of crimes\")\n",
    "plt.ylabel(\"Gender\")\n",
    "plt.title(\"Crime rate analysis based on gender \")\n",
    "plt.show()\n",
    "fig = px.pie(gender_crm, names=gender_crm[\"Vict_Sex\"], values=gender_crm[\"crime_rate\"])  # to show data in percentage\n",
    "fig.show()\n"
   ]
  },
  {
   "cell_type": "markdown",
   "metadata": {},
   "source": [
    "\n",
    "**Location Analysis:**\n",
    "\n",
    "Where do most crimes occur based on the \"Location\" column?\n"
   ]
  },
  {
   "cell_type": "code",
   "execution_count": 107,
   "metadata": {},
   "outputs": [
    {
     "name": "stderr",
     "output_type": "stream",
     "text": [
      "C:\\Users\\ASUS\\AppData\\Local\\Temp\\ipykernel_5932\\883329659.py:8: UserWarning:\n",
      "\n",
      "pandas only supports SQLAlchemy connectable (engine/connection) or database string URI or sqlite3 DBAPI2 connection. Other DBAPI2 objects are not tested. Please consider using SQLAlchemy.\n",
      "\n"
     ]
    },
    {
     "data": {
      "image/png": "[encoded data removed]",
      "text/plain": [
       "<Figure size 1000x600 with 1 Axes>"
      ]
     },
     "metadata": {},
     "output_type": "display_data"
    }
   ],
   "source": [
    "# most crime occur in location\n",
    "query4 = \"\"\"\n",
    "select location, count(*) as num_crime\n",
    "from crime_data\n",
    "group by location\n",
    "having count(*)>5 ;\n",
    "\"\"\"\n",
    "q1_df = pd.read_sql(query4, connection)   \n",
    "np.median(q1_df[\"num_crime\"])   # to find median for num_crime to display some highest crime locations\n",
    "plt.figure(figsize=(10,6))  \n",
    "sns.barplot(y=q1_df[\"location\"],x=q1_df[\"num_crime\"], data=q1_df, orient=\"horizontal\") \n",
    "plt.ylabel(\"location\")\n",
    "plt.xlabel(\"No. of crime occur\")\n",
    "plt.title(\"Most crime occured based on locations\")\n",
    "# plt.grid(True)\n",
    "plt.show()\n"
   ]
  },
  {
   "cell_type": "markdown",
   "metadata": {},
   "source": [
    "**Crime Code Analysis:**\n",
    "\n",
    "What is the distribution of reported crimes based on Crime Code?"
   ]
  },
  {
   "cell_type": "code",
   "execution_count": 14,
   "metadata": {},
   "outputs": [
    {
     "name": "stderr",
     "output_type": "stream",
     "text": [
      "C:\\Users\\ASUS\\AppData\\Local\\Temp\\ipykernel_5932\\434641343.py:7: UserWarning: pandas only supports SQLAlchemy connectable (engine/connection) or database string URI or sqlite3 DBAPI2 connection. Other DBAPI2 objects are not tested. Please consider using SQLAlchemy.\n",
      "  df_cr = pd.read_sql(query5, connection)\n"
     ]
    },
    {
     "data": {
      "image/png": "[encoded data removed]",
      "text/plain": [
       "<Figure size 640x480 with 1 Axes>"
      ]
     },
     "metadata": {},
     "output_type": "display_data"
    }
   ],
   "source": [
    "# Distribution of reported crime\n",
    "query5 = \"\"\"\n",
    "select crm_cd, count(*) as crime_rate\n",
    "from crime_data\n",
    "group by crm_cd;\n",
    "\"\"\"\n",
    "df_cr = pd.read_sql(query5, connection)\n",
    "\n",
    "plt.hist(df_cr)\n",
    "plt.title(\"Distribution of reported crime based on their Crime code\")\n",
    "plt.show()"
   ]
  }
 ],
 "metadata": {
  "kernelspec": {
   "display_name": "Python 3",
   "language": "python",
   "name": "python3"
  },
  "language_info": {
   "codemirror_mode": {
    "name": "ipython",
    "version": 3
   },
   "file_extension": ".py",
   "mimetype": "text/x-python",
   "name": "python",
   "nbconvert_exporter": "python",
   "pygments_lexer": "ipython3",
   "version": "3.12.1"
  }
 },
 "nbformat": 4,
 "nbformat_minor": 2
}
